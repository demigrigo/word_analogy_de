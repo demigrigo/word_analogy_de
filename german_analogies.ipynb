{
 "cells": [
  {
   "cell_type": "markdown",
   "metadata": {},
   "source": [
    "let's do the same with german"
   ]
  },
  {
   "cell_type": "code",
   "execution_count": 1,
   "metadata": {},
   "outputs": [
    {
     "name": "stderr",
     "output_type": "stream",
     "text": [
      "c:\\Users\\dgrigoriou\\AppData\\Local\\anaconda3\\envs\\auden2\\Lib\\site-packages\\tqdm\\auto.py:21: TqdmWarning: IProgress not found. Please update jupyter and ipywidgets. See https://ipywidgets.readthedocs.io/en/stable/user_install.html\n",
      "  from .autonotebook import tqdm as notebook_tqdm\n",
      "Resolving data files: 100%|██████████| 20/20 [00:01<00:00, 14.50it/s]\n",
      "Resolving data files: 100%|██████████| 41/41 [00:01<00:00, 40.03it/s]\n",
      "Resolving data files: 100%|██████████| 17/17 [00:01<00:00, 11.20it/s]\n",
      "Resolving data files: 100%|██████████| 21/21 [00:00<00:00, 29.62it/s]\n",
      "Downloading data: 100%|██████████| 781M/781M [01:12<00:00, 10.7MB/s]\n",
      "Downloading data: 100%|██████████| 449M/449M [00:34<00:00, 13.0MB/s]\n",
      "Downloading data: 100%|██████████| 369M/369M [00:33<00:00, 11.1MB/s]\n",
      "Downloading data: 100%|██████████| 293M/293M [01:03<00:00, 4.60MB/s]\n",
      "Downloading data: 100%|██████████| 296M/296M [01:04<00:00, 4.58MB/s]\n",
      "Downloading data: 100%|██████████| 282M/282M [00:34<00:00, 8.13MB/s]\n",
      "Downloading data: 100%|██████████| 271M/271M [01:02<00:00, 4.36MB/s]\n",
      "Downloading data: 100%|██████████| 258M/258M [00:26<00:00, 9.86MB/s]\n",
      "Downloading data: 100%|██████████| 246M/246M [00:18<00:00, 13.6MB/s]\n",
      "Downloading data: 100%|██████████| 230M/230M [00:16<00:00, 13.8MB/s]\n",
      "Downloading data: 100%|██████████| 228M/228M [00:14<00:00, 15.3MB/s]\n",
      "Downloading data: 100%|██████████| 244M/244M [00:18<00:00, 12.8MB/s]\n",
      "Downloading data: 100%|██████████| 244M/244M [01:03<00:00, 3.84MB/s]\n",
      "Downloading data: 100%|██████████| 229M/229M [00:17<00:00, 12.9MB/s]\n",
      "Downloading data: 100%|██████████| 220M/220M [00:16<00:00, 13.1MB/s]\n",
      "Downloading data: 100%|██████████| 222M/222M [00:14<00:00, 15.1MB/s]\n",
      "Downloading data: 100%|██████████| 226M/226M [00:14<00:00, 15.7MB/s]\n",
      "Downloading data: 100%|██████████| 227M/227M [00:26<00:00, 8.57MB/s]\n",
      "Downloading data: 100%|██████████| 226M/226M [00:59<00:00, 3.78MB/s]\n",
      "Downloading data: 100%|██████████| 228M/228M [00:23<00:00, 9.86MB/s]\n",
      "Downloading data files: 100%|██████████| 1/1 [11:37<00:00, 697.65s/it]\n",
      "Extracting data files: 100%|██████████| 1/1 [00:00<00:00, 67.85it/s]\n",
      "Generating train split: 100%|██████████| 2845308/2845308 [00:27<00:00, 102176.16 examples/s]\n"
     ]
    }
   ],
   "source": [
    "from datasets import load_dataset\n",
    "\n",
    "german = load_dataset(\"wikimedia/wikipedia\", \"20231101.de\", split=\"train\")"
   ]
  },
  {
   "cell_type": "code",
   "execution_count": 2,
   "metadata": {},
   "outputs": [
    {
     "name": "stderr",
     "output_type": "stream",
     "text": [
      "Saving the dataset (20/20 shards): 100%|██████████| 2845308/2845308 [00:05<00:00, 509552.45 examples/s]\n"
     ]
    }
   ],
   "source": [
    "german.save_to_disk(\"german_wiki\") #I saved locally the dataset"
   ]
  },
  {
   "cell_type": "code",
   "execution_count": 1,
   "metadata": {},
   "outputs": [
    {
     "name": "stderr",
     "output_type": "stream",
     "text": [
      "c:\\Users\\dgrigoriou\\AppData\\Local\\anaconda3\\envs\\auden2\\Lib\\site-packages\\tqdm\\auto.py:21: TqdmWarning: IProgress not found. Please update jupyter and ipywidgets. See https://ipywidgets.readthedocs.io/en/stable/user_install.html\n",
      "  from .autonotebook import tqdm as notebook_tqdm\n"
     ]
    }
   ],
   "source": [
    "from datasets import load_from_disk\n",
    "ds = load_from_disk('german_wiki') #we import the dataset we saved"
   ]
  },
  {
   "cell_type": "code",
   "execution_count": 2,
   "metadata": {},
   "outputs": [
    {
     "name": "stdout",
     "output_type": "stream",
     "text": [
      "0          Alan Smithee steht als Pseudonym für einen fik...\n",
      "1          Actinium ist ein radioaktives chemisches Eleme...\n",
      "2          Ang Lee (; * 23. Oktober 1954 in Chaozhou, Lan...\n",
      "3          Anschluss ist in der Soziologie ein Fachbegrif...\n",
      "4          Die Aussagenlogik ist ein Teilgebiet der Logik...\n",
      "                                 ...                        \n",
      "2845303    Ayelet Shachar (* 4. Juni 1966 in Israel)  ist...\n",
      "2845304    Rainer Gutjahr (* 15. Dezember 1950) ist ein d...\n",
      "2845305    Sepsi OSK Sfântu Gheorghe ist ein rumänischer ...\n",
      "2845306    Alexandru Romalo (* 1892; † 1947) war ein rumä...\n",
      "2845307    Die Gmina Busko-Zdrój ([] ) ist eine Stadt-und...\n",
      "Name: text, Length: 2845308, dtype: object\n"
     ]
    }
   ],
   "source": [
    "ds.set_format(type='pandas') #convert dataset into dataframe with pandas; with 2.8 m the system crashes\n",
    "df = ds['text'][:]\n",
    "print(df)"
   ]
  },
  {
   "cell_type": "markdown",
   "metadata": {},
   "source": [
    "The first attempt to train the whole dataset has crushed the systen; we have reduced the dataset to half of it."
   ]
  },
  {
   "cell_type": "code",
   "execution_count": 4,
   "metadata": {},
   "outputs": [],
   "source": [
    "#small=df[0:1000001] this one takess even longer "
   ]
  },
  {
   "cell_type": "code",
   "execution_count": 3,
   "metadata": {},
   "outputs": [],
   "source": [
    "petite=df[0:500000] \n",
    "petite.to_csv(r\"C:.....clean_de_wiki.csv\", sep=\"\\t\", encoding=\"utf-8\") #and we save it locally as a new dataset"
   ]
  },
  {
   "cell_type": "code",
   "execution_count": 5,
   "metadata": {},
   "outputs": [],
   "source": [
    "from sklearn.feature_extraction.text import CountVectorizer, TfidfVectorizer\n",
    "vectorizer = TfidfVectorizer()\n",
    "X=vectorizer.fit_transform(petite.to_list())"
   ]
  },
  {
   "cell_type": "code",
   "execution_count": 8,
   "metadata": {},
   "outputs": [
    {
     "name": "stdout",
     "output_type": "stream",
     "text": [
      "The first five: ['00' '000' '0000' '00000' '000000' '0000000' '00000000' '000000000'\n",
      " '0000000000' '00000000000000' '00000000000000000000000000000'\n",
      " '00000000000000000000000000000000000000'\n",
      " '00000000000000000000000000000000000000000000000000'\n",
      " '0000000000000000000000000000000000000000000000000000000000000000000000000000'\n",
      " '00000000000000000000000000000000001000'\n",
      " '0000000000000000000000000000022761714318270646273745024223029238091160103901'\n",
      " '0000000000000000000000000000045523428636541292547490048446022564529197237262'\n",
      " '0000000000000000000000000000091046857273082585094980096891901482445902524441'\n",
      " '0000000000000000000000000000182093714546165170189960193783228378441837282509'\n",
      " '0000000000000000000000000000364187429092330340379920387564158411083803465567'\n",
      " '0000000000000000000000000000728374858184660680759840775119123438968122488047'\n",
      " '0000000000000000000000000001456749716369321361519681550201473345138307215067'\n",
      " '0000000000000000000000000002913499432738642723039363100255852559084863397344'\n",
      " '0000000000000000000000000005826998865477285446078726199923328593402722606924'\n",
      " '0000000000000000000000000011653997730954570892157452397493151087737428485431'\n",
      " '0000000000000000000000000023307995461909141784314904785572277779202790023236'\n",
      " '0000000000000000000000000046615990923818283568629809533488457973317312233323'\n",
      " '0000000000000000000000000093231981847636567137259618916352525606281553180093'\n",
      " '0000000000000000000000000186463963695273134274519237230207489851150821191330'\n",
      " '0000000000000000000000000372927927390546268549038472050424734256652501673274'\n",
      " '0000000000000000000000000745855854781092537098076934460888486730708440475045'\n",
      " '0000000000000000000000001491711709562185074196153830361933046331030629430117'\n",
      " '000000000000000000000000229376'\n",
      " '0000000000000000000000002983423419124370148392307506484490384140516252814304'\n",
      " '0000000000000000000000005966846838248740296784614396011477934194852481410926'\n",
      " '0000000000000000000000011933693676497480593569226324192944532044984865894525'\n",
      " '0000000000000000000000023867387352994961187138442777065843718711089344045782'\n",
      " '0000000000000000000000047734774705989922374276846068851506055906657137209047'\n",
      " '0000000000000000000000095469549411979844748553534196582286585751228071408728'\n",
      " '0000000000000000000000114688'\n",
      " '0000000000000000000000190939098823959689497106436628681671067254111334889005'\n",
      " '0000000000000000000000381878197647919378994210346199431733717514843471513618'\n",
      " '0000000000000000000000763756395295838757988410584167137033767056170417508383'\n",
      " '0000000000000000000001527512790591677515976780735407368332862218276873443537'\n",
      " '0000000000000000000003055025581183355031953399739107113727036860315024588989'\n",
      " '00000000000000000000057344'\n",
      " '0000000000000000000006110051162366710063906152551383735699323415812152114058'\n",
      " '0000000000000000000012220102324733420127809717395445504379645613448652614939'\n",
      " '0000000000000000000024440204649466840255609083961603140683286362962192177597'\n",
      " '0000000000000000000048880409298933680511176764606054809062553340323879609794'\n",
      " '0000000000000000000097760818597867361022187915943503728909029699365320287407'\n",
      " '0000000000000000000195521637195734722043713378812583900953755962557525252782'\n",
      " '000000000000000000027105054312' '000000000000000000028672'\n",
      " '0000000000000000000391043274391469444084776945327473574450334092075712154016'\n",
      " '000000000000000000054210108624'\n",
      " '0000000000000000000782086548782938888158954641464170239072244145219054734086'\n",
      " '000000000000000000108420217249'\n",
      " '0000000000000000001564173097565877776275512286165232838833090480508502328437'\n",
      " '000000000000000000216840434497'\n",
      " '0000000000000000003128346195131755552381436585278035120438976487697544916191'\n",
      " '000000000000000000433680868994'\n",
      " '0000000000000000006256692390263511104084521222346348012116229213309001913762'\n",
      " '000000000000000000867361737988'\n",
      " '0000000000000000012513384780527022205455634651853807110362316427807660551208'\n",
      " '0000000000000000014336' '000000000000000001734723475977'\n",
      " '0000000000000000025026769561054044400057638132352058574658089256646014899499'\n",
      " '000000000000000003469446951954'\n",
      " '0000000000000000050053539122108088756700751579281894640362199287591340285355'\n",
      " '000000000000000006938893903907'\n",
      " '0000000000000000100107078244216177339743404416874899847406043033792202127070'\n",
      " '000000000000000013877787807815'\n",
      " '0000000000000000200214156488432353984854413866994246781519154793320684126179'\n",
      " '000000000000000027755575615629'\n",
      " '0000000000000000400428312976864705191179247866966320469710511619971334577509'\n",
      " '000000000000000055511151231258' '00000000000000007168'\n",
      " '0000000000000000800856625953729399268240176265844257044861248416330071223615'\n",
      " '000000000000000111022302462516'\n",
      " '0000000000000001601713251907458754080007074659337446341494733882570243497196'\n",
      " '000000000000000222044604925031'\n",
      " '0000000000000003203426503814917330334121037829290364330169106716787999052925'\n",
      " '000000000000000444089209850063'\n",
      " '0000000000000006406853007629833949364669629701200556369782295210193569318434'\n",
      " '000000000000000888178419700125'\n",
      " '0000000000000012813706015259665053515049475574143952543145124550608158430592'\n",
      " '000000000000001776356839400250' '000000000000002'\n",
      " '0000000000000025627412030519318726172939815845367496027046030028595094737777'\n",
      " '000000000000003552713678800490' '000000000000003584' '0000000000000039'\n",
      " '00000000000000393146573' '0000000000000051'\n",
      " '0000000000000051254824061038591928917243090559919209628584150482483994782302'\n",
      " '000000000000007105427357600980' '0000000000000078'\n",
      " '0000000000000102509648122077001764119940017243502120046885379813510430378661'\n",
      " '000000000000014210854715201900']\n",
      "The last  five: ['호주댁' '호프' '혼자서' '혼잡' '홍용호' '홍은동' '홍제동' '홍천읍' '화랑' '화랑대' '화룡시' '화사한'\n",
      " '화엄경' '화이팅' '화존면' '화천읍' '화평리' '확장자' '황사' '황제를' '황혼' '회덕동' '효과' '효도로써'\n",
      " '후렌치레불루션' '훈요십조' '휘날리며' 'ﭐلله' 'ﮪﻭ' 'ﺍﺳﻡ' 'ﺍﻝحنظل' 'ﺍﻭﻫ' 'ﻣﺷﻐوﻟون' 'ﻫوز'\n",
      " '０２' '５０年目の' '７つの島の大冒険' 'ｂｏｘ' 'ｃａｓｔ和ｉｎｐｅ关于联合研制中巴地球资源卫星的协议书' 'ｄaxue'\n",
      " 'ｇｏｚｕ' 'ｏweibliche' 'ｓｓｘ' 'ｖｏｌ' 'ｾﾞﾛ' '𐌱𐌰𐌿𐍂𐌲𐍃' '𐌼𐌿𐌻𐌳𐌰' '𐌽𐌰𐌽𐌸' '𐍆𐌰𐌿𐌷𐍉'\n",
      " '𐍆𐌹𐌽𐍃' '𐍆𐍂𐌹𐌸' '𐎺𐎼𐎣𐎠𐎴' '𐐮𐑌' '𐐰𐐼𐑂𐐯𐑌𐐽𐐲𐑉𐑆' '𐐰𐑊𐐮𐑅' '𐐰𐑌𐐼' '𐐲𐑂' '𐐶𐐲𐑌𐐼𐐲𐑉𐑊𐐰𐑌𐐼'\n",
      " '𐐸𐐲𐑌𐐻𐐮𐑍' '𐐸𐐶𐐲𐐻' '𐐻𐐨' '𐑀𐑊𐐰𐑅' '𐑁𐐵𐑌𐐼' '𐑃𐑉𐐭' '𐑄𐐯𐑉' '𐑅𐑌𐐪𐑉𐐿' '𐑊𐐳𐐿𐐮𐑍' '𐓩𐓣'\n",
      " '𐓪𐓤𐓘𐓯𐓤𐓘' '𐤀𐤆𐤓𐤁𐤏𐤋' '𐤂𐤃𐤓' '𐤇𐤍' '𐤏𐤆𐤓𐤁𐤏𐤋' '𐤐𐤉𐤌' '𐤑𐤓' '𐭌𐭄𐭓𐭃𐭕' '𐭢𐭥𐭫𐭢𐭠𐭭' '𐰆𐰍𐰔𐰞𐰺'\n",
      " '𐰉𐰆𐰢𐰣' '𐰴𐰍𐰣' '𒄑𒆵𒆠' '𒄩𒄠𒈬𒊏𒁉' '𒊭𒉺𒌅' '𒌑𒁺𒈪' '𒌑𒁺𒈬' '𓅯𓄿𓂧𓏇𓊖' '𖬌𖬣' '𖬌𖬤' '𝐾_' '𝓛cf'\n",
      " '𝓛ecs' '𝓛p' '𝓛re' '𝔄𝔅ℭ𝔇𝔈𝔉𝔊ℌℑ𝔍𝔎𝔏𝔐𝔑𝔒𝔓𝔔ℜ𝔖𝔗𝔘𝔙𝔚𝔛𝔜ℨ𝔞𝔟𝔠𝔡𝔢𝔣𝔤𝔥𝔦𝔧𝔨𝔩𝔪𝔫𝔬𝔭𝔮𝔯𝔰𝔱𝔲𝔳𝔴𝔵𝔶𝔷'\n",
      " '𡦂喃' '𡦂國語' '𡦂漢' '𡨸儒' '𣛠收聲' '𦀚伯']\n"
     ]
    }
   ],
   "source": [
    "feature_names = vectorizer.get_feature_names_out() #i think we have some issues with documentations, but maybe we can clean\n",
    "print(\"The first five:\", feature_names[:100])\n",
    "print(\"The last  five:\", feature_names[-100:])"
   ]
  },
  {
   "cell_type": "code",
   "execution_count": 4,
   "metadata": {},
   "outputs": [
    {
     "name": "stdout",
     "output_type": "stream",
     "text": [
      "Alan Smithee steht als Pseudonym für einen fiktiven Regisseur, der Filme verantwortet, bei denen der eigentliche Regisseur seinen Namen nicht mit dem Werk in Verbindung gebracht haben möchte. Von 1968 bis 2000 wurde es von der Directors Guild of America (DGA) für solche Situationen empfohlen.\n",
      "\n",
      "Alternative Schreibweisen sind unter anderem die Ursprungsvariante Allen Smithee sowie Alan Smythee und Adam Smithee. Auch zwei teilweise asiatisch anmutende Schreibweisen Alan Smi Thee und Sumishii Aran gehören – so die Internet Movie Database – dazu.\n",
      "\n",
      "Geschichte\n",
      "\n",
      "Entstehung \n",
      "Das Pseudonym entstand 1968 infolge der Arbeiten am Western-Film Death of a Gunfighter (deutscher Titel Frank Patch – Deine Stunden sind gezählt). Regisseur Robert Totten und Hauptdarsteller Richard Widmark gerieten in einen Streit, woraufhin Don Siegel als neuer Regisseur eingesetzt wurde.\n",
      "\n",
      "Der Film trug nach Abschluss der Arbeiten noch deutlich Tottens Handschrift, der auch mehr Drehtage als Siegel daran gearbeitet hatte, weshalb dieser die Nennung seines Namens als Regisseur ablehnte. Totten selbst lehnte aber ebenfalls ab. Als Lösung wurde  Allen Smithee als ein möglichst einzigartiger Name gewählt.\n",
      "\n",
      "In den zeitgenössischen Kritiken wurde der Regisseur u. a. von Roger Ebert mit den Worten gelobt:\n",
      "\n",
      "Aufdeckung und Abkehr \n",
      "1997 kam die Parodie An Alan Smithee Film: Burn Hollywood Burn (deutscher Titel Fahr zur Hölle Hollywood) in die Kinos, was das Pseudonym einem größeren Publikum bekannt machte, nicht zuletzt weil Arthur Hiller, der eigentliche Regisseur des Films, selbst seinen Namen zurückzog und analog zum Filmtitel das Pseudonym Alan Smithee benutzte. Der Film gilt als einer der schlechtesten Filme der 1990er Jahre und gewann fünf Goldene Himbeeren.\n",
      "\n",
      "Der Film Supernova ist der erste Post-Smithee-Film, dort führte ein gewisser Thomas Lee alias Walter Hill die Regie.\n",
      "\n",
      "Verwendung \n",
      "Die Verwendung dieses oder eines anderen Pseudonyms ist für Mitglieder der DGA streng reglementiert. Ein Regisseur, der für einen von ihm gedrehten Film seinen Namen nicht hergeben möchte, hat nach Sichtung des fertigen Films drei Tage Zeit, anzuzeigen, dass er ein Pseudonym verwenden möchte. Der Rat der DGA entscheidet binnen zwei Tagen über das Anliegen. Erhebt die Produktionsfirma Einspruch, entscheidet ein Komitee aus Mitgliedern der DGA und der Vereinigung der Film- und Fernsehproduzenten, ob der Regisseur ein Pseudonym angeben darf. Über die Beantragung muss der Regisseur Stillschweigen halten, ebenso darf er den fertigen Film nicht öffentlich kritisieren, wenn die DGA ihm die Verwendung eines Pseudonyms zugesteht. Ein Antrag des Regisseurs auf Pseudonymisierung kann abgelehnt werden, so durfte Tony Kaye den Namen Smithee bei dem Film American History X nicht einsetzen, obwohl er den Antrag stellte.\n",
      "\n",
      "Auch bei nicht-US-amerikanischen Produktionen wird der Name verwendet, wie etwa beim Pilotfilm der Fernsehserie Schulmädchen. 2007 sendete die ARD am 8. und 9. August den zweiteiligen TV-Film Paparazzo. Auch in diesem Werk erscheint anstatt des eigentlichen Regisseurs Stephan Wagner Alan Smithee im Abspann.\n",
      "\n",
      "Regisseure, die das Pseudonym benutzt haben:\n",
      " Don Siegel und Robert Totten (für Frank Patch – Deine Stunden sind gezählt)\n",
      " David Lynch (für die dreistündige Fernsehfassung von Der Wüstenplanet)\n",
      " Chris Christensen (The Omega Imperative)\n",
      " Gianni Bozzacchi (für I Love N.Y.)\n",
      " Stuart Rosenberg (für Let’s Get Harry)\n",
      " Richard C. Sarafian (für Starfire)\n",
      " Dennis Hopper (für Catchfire)\n",
      " Arthur Hiller (für Fahr zur Hölle Hollywood)\n",
      " Rick Rosenthal (Die Vögel II – Die Rückkehr)\n",
      " Kevin Yagher (Hellraiser IV – Bloodline)\n",
      " William Lustig (Maniac Cop 3)\n",
      " Jerrold Freedman (für Die O.J. Simpson Story – Der Mordfall des Jahrhunderts)\n",
      "\n",
      "Der Pilotfilm der Serie MacGyver und die fünfte Folge der ersten Staffel führen einen Alan Smithee als Regisseur. Auf der TV-Serien-Seite TV Rage wird Jerrold Freedman als Regisseur des Pilotfilms angegeben. Der Regisseur der fünften Folge ist unbekannt.\n",
      "\n",
      "Zu den Drehbuchautoren, die das Pseudonym benutzt haben, gehören Sam Raimi und Ivan Raimi, die das Drehbuch zu Die total beknackte Nuß als Alan Smithee, Jr. und Alan Smithee, Sr. schrieben.\n",
      "\n",
      "Auch in Computerspielen wird dieses Pseudonym angegeben: Im Abspann des Ego-Shooters Marine Sharpshooter IV aus dem Jahr 2008 wird als Art Director des Spiels Alan Smithee genannt.\n",
      "\n",
      "2014 produzierte die New Yorker Performance-Kompanie Big Dance Theater Alan Smithee Directed this Play, das im August des Jahres auch in Berlin bei Tanz im August aufgeführt wurde.\n",
      "\n",
      "Literatur \n",
      " Jeremy Braddock, Stephen Hock (Hrsg.): Directed by Allen Smithee. Foreword by Andrew Sarris. University of Minnesota Press, Minneapolis, London 2001, ISBN 0-8166-3534-X.\n",
      "\n",
      "Weblinks \n",
      " \n",
      " Artikel über Smithee von ABC Online (englisch)\n",
      " Der Mann, der niemals lebte, Spiegel Online einestages\n",
      " Alan Smithee lebt!, DRadio Wissen\n",
      "\n",
      "Einzelnachweise \n",
      "\n",
      " \n",
      "Smithee, Alan\n",
      "Smithee, Alan\n"
     ]
    }
   ],
   "source": [
    "print(petite.to_list()[0])"
   ]
  },
  {
   "cell_type": "code",
   "execution_count": 8,
   "metadata": {},
   "outputs": [],
   "source": [
    "from collections import Counter"
   ]
  },
  {
   "cell_type": "code",
   "execution_count": 10,
   "metadata": {},
   "outputs": [
    {
     "data": {
      "text/plain": [
       "[('!\\nEinschlagkrater Mond', 25),\n",
       " ('Liste (Dateinamenserweiterungen)', 16),\n",
       " ('\\n\\nSiehe auch \\n ISO 3166-2, Referenztabelle der Ländercodes.\\n ISO 3166-1, Referenztabelle der Ländercodes, wie sie in Domainnamen verwendet werden.',\n",
       "  9),\n",
       " ('\\n\\nSiehe auch \\n ISO 3166-2, Referenztabelle der Ländercodes.\\n ISO 3166-1, Referenztabelle der Ländercodes, wie sie in Domainnamen verwendet werden.\\n\\nIso 3166-2',\n",
       "  8),\n",
       " ('\\n\\nEinzelnachweise \\n\\nListe (Dateinamenserweiterungen)', 5),\n",
       " ('\\n\\nSiehe auch \\n ISO 3166-2, Referenztabelle der Ländercodes.\\n ISO 3166-1, Referenztabelle der Ländercodes, wie sie in Domainnamen verwendet werden.\\n\\nEinzelnachweise',\n",
       "  5),\n",
       " ('\\n\\nJanuar \\n\\n|}\\n\\nFebruar \\n\\n|}\\n\\nMärz \\n\\n|}\\n\\nApril \\n\\n|}\\n\\nMai \\n\\n|}\\n\\nJuni \\n\\n|}\\n\\nJuli \\n\\n|}\\n\\nAugust \\n\\n|}\\n\\nSeptember \\n\\n|}\\n\\nOktober \\n\\n|}\\n\\nNovember \\n\\n|}\\n\\nDezember \\n\\n|}\\n\\nDatum unbekannt \\n\\n|}\\n\\nEinzelnachweise',\n",
       "  4),\n",
       " ('\\n\\nBelege \\n\\nListe (Dateinamenserweiterungen)', 3),\n",
       " ('\\n\\nJanuar \\n\\n|}\\n\\nFebruar \\n\\n|}\\n\\nMärz \\n\\n|}\\n\\nApril \\n\\n|}\\n\\nMai \\n\\n|}\\n\\nJuni \\n\\n|}\\n\\nJuli \\n\\n|}\\n\\nAugust \\n\\n|}\\n\\nSeptember \\n\\n|}\\n\\nOktober \\n\\n|}\\n\\nNovember \\n\\n|}\\n\\nDezember \\n\\n|}\\n\\nDatum unbekannt \\n\\n|}\\n\\nWeblinks\\n\\nEinzelnachweise',\n",
       "  2),\n",
       " ('Die Bissa (auch: Boussanga) sind eine Ethnie, deren Siedlungsgebiet sich im Südosten des westafrikanischen Staates Burkina Faso, im Nordosten Ghanas, in der Elfenbeinküste und in Togo befindet. Die Bissa werden alternativ auch Bisa, Biza, Bokhobaru, Bokobaru, Busa, Busanga, Wiza, Zogbe genannt. In Burkina Faso leben ca. 413.000 Bissa, in Ghana ca. 176.000, in der Elfenbeinküste ca. 99.000 und in Togo etwa 4.700.\\n\\nDie Bissa unterscheiden sich von ihren Nachbarn vor allem durch die Sprache, Bissa, bei der es sich im Gegensatz zu den Nachbarsprachen um eine Mande-Sprache handelt. Außer einer entfernten sprachlichen Verwandtschaft haben sie kulturell keine deutlichen Gemeinsamkeiten mit den Mandevölkern der großen mittelalterlichen Mande-Königreiche. Zentren der Bissa sind die Städte Garango, Zabré und Tenkodogo in der Provinz Boulgou.\\n\\nSiedlungsgeschichte \\nZur Herkunft der Bissa existieren verschiedene Hypothesen, von denen sich keine auf schriftliche historische Zeugnisse stützen kann. Die ersten schriftlichen Berichte stammen erst aus der Zeit der kolonialen Eroberung. In den mündlichen Überlieferungen ist die Geschichte der Bissa eng mit der der Mossi-Königreiche und insbesondere mit der Geschichte des Königreichs Tenkodogo verknüpft. Über den Ursprung der Bissa wurden unterschiedliche Hypothesen aufgestellt. Manche Autoren vertreten die Auffassung, dass die Bissa nicht ursprünglich im heutigen Siedlungsgebiet ansässig gewesen, sondern erst als Gefolgsleute der Mossi eingewandert sind. Andere sehen zwar den Ursprung der Bissa ebenfalls im ehemaligen Dagomba-Gebiet, das als ursprüngliches Siedlungsgebiet der Mossi gilt. Sie gehen jedoch von einer Wanderung aus, die vor der Migration der Mossi stattgefunden haben soll.\\nAndere schließen eine Erstbesiedelung des Gebietes durch die Bissa nicht aus, gehen aber davon aus, dass in jüngerer Zeit weitere zeitlich nachgeordnete Besiedelungen stattfanden.\\n\\nDie mündlichen Überlieferungen berichten neben der Verbindung von Bissa und Mossi von einer\\nVerwandtschaft der Bissa mit den Samo im Nordwesten Burkina Fasos. Über die Trennung der beiden Gruppen berichtet die so genannte „Hundekopfgeschichte“, die je nach Gebiet unterschiedlich erzählt wird. Beide Gruppen berichten, wie über die Zuteilung eines Hundekopfes, der als Delikatesse traditionell dem Älteren zusteht, ein Streit entbrennt. Daraufhin verlässt eine Gruppe die gemeinsame Siedlung – laut den Bissa gehen die Samo und laut den Samo die Bissa. Eindeutige Rückschlüsse auf Migrationsbewegungen und ehemalige Siedlungsgebiete lassen sich daraus jedoch nicht ziehen. Das gemeinsame Wissen über die verwandtschaftlichen Beziehungen spricht allerdings dafür, dass die Zeittiefe der Trennung vermutlich geringer ist als die der Abspaltung von Samo/Bissa von den verwandten\\nBoko/Busa.\\n\\nPolitische Organisation \\nInnerhalb des Bissa-Gebietes existieren unterschiedliche politische Strukturen nebeneinander. Der östliche Teil, der dem Gebiet des Barka-Dialektes entspricht, steht unter dem direkten Einfluss des Mossi-Herrschers von Tenkodogo. Der westliche Teil, das Lebri-Gebiet, besteht aus einer Vielzahl autonomer Kantone, die großen Wert auf ihre Unabhängigkeit von Tenkodogo legen und im Konfliktfall wechselnde Allianzen mit\\nanderen Bissa-Kantonen eingingen. Die wichtigste Einheit ist das Dorf, dem ein eigener Dorf-Chef, Ki, vorsteht. In fast allen Dörfern gehören die Bewohner zu einem einzigen Klan. In größeren Siedlungen, wie z.\\xa0B. Zabré, leben mehrere Klans zusammen, doch findet sich hier eine Unterteilung in \"quartiers\" wieder, die wiederum nur von einem Klan bewohnt werden. Die kantonale Organisation wird beispielsweise bei der Ernennung neuer Dorf-Chefs deutlich, da für eine Ernennung die Legitimation durch andere Chefs notwendig ist.\\n\\nSiehe auch \\nListe der Völker Ghanas\\n\\nWeblinks \\n Ethnologue.com\\n\\nBissa\\nEthnie in Burkina Faso\\nEthnie in Ghana\\nEthnie in Togo',\n",
       "  2),\n",
       " ('\\n\\nEinzelnachweise\\n\\nSiehe auch \\n ISO 3166-2, Referenztabelle der Ländercodes.\\n ISO 3166-1, Referenztabelle der Ländercodes, wie sie in Domainnamen verwendet werden.',\n",
       "  2),\n",
       " ('Alan Smithee steht als Pseudonym für einen fiktiven Regisseur, der Filme verantwortet, bei denen der eigentliche Regisseur seinen Namen nicht mit dem Werk in Verbindung gebracht haben möchte. Von 1968 bis 2000 wurde es von der Directors Guild of America (DGA) für solche Situationen empfohlen.\\n\\nAlternative Schreibweisen sind unter anderem die Ursprungsvariante Allen Smithee sowie Alan Smythee und Adam Smithee. Auch zwei teilweise asiatisch anmutende Schreibweisen Alan Smi Thee und Sumishii Aran gehören – so die Internet Movie Database – dazu.\\n\\nGeschichte\\n\\nEntstehung \\nDas Pseudonym entstand 1968 infolge der Arbeiten am Western-Film Death of a Gunfighter (deutscher Titel Frank Patch – Deine Stunden sind gezählt). Regisseur Robert Totten und Hauptdarsteller Richard Widmark gerieten in einen Streit, woraufhin Don Siegel als neuer Regisseur eingesetzt wurde.\\n\\nDer Film trug nach Abschluss der Arbeiten noch deutlich Tottens Handschrift, der auch mehr Drehtage als Siegel daran gearbeitet hatte, weshalb dieser die Nennung seines Namens als Regisseur ablehnte. Totten selbst lehnte aber ebenfalls ab. Als Lösung wurde  Allen Smithee als ein möglichst einzigartiger Name gewählt.\\n\\nIn den zeitgenössischen Kritiken wurde der Regisseur u.\\xa0a. von Roger Ebert mit den Worten gelobt:\\n\\nAufdeckung und Abkehr \\n1997 kam die Parodie An Alan Smithee Film: Burn Hollywood Burn (deutscher Titel Fahr zur Hölle Hollywood) in die Kinos, was das Pseudonym einem größeren Publikum bekannt machte, nicht zuletzt weil Arthur Hiller, der eigentliche Regisseur des Films, selbst seinen Namen zurückzog und analog zum Filmtitel das Pseudonym Alan Smithee benutzte. Der Film gilt als einer der schlechtesten Filme der 1990er Jahre und gewann fünf Goldene Himbeeren.\\n\\nDer Film Supernova ist der erste Post-Smithee-Film, dort führte ein gewisser Thomas Lee alias Walter Hill die Regie.\\n\\nVerwendung \\nDie Verwendung dieses oder eines anderen Pseudonyms ist für Mitglieder der DGA streng reglementiert. Ein Regisseur, der für einen von ihm gedrehten Film seinen Namen nicht hergeben möchte, hat nach Sichtung des fertigen Films drei Tage Zeit, anzuzeigen, dass er ein Pseudonym verwenden möchte. Der Rat der DGA entscheidet binnen zwei Tagen über das Anliegen. Erhebt die Produktionsfirma Einspruch, entscheidet ein Komitee aus Mitgliedern der DGA und der Vereinigung der Film- und Fernsehproduzenten, ob der Regisseur ein Pseudonym angeben darf. Über die Beantragung muss der Regisseur Stillschweigen halten, ebenso darf er den fertigen Film nicht öffentlich kritisieren, wenn die DGA ihm die Verwendung eines Pseudonyms zugesteht. Ein Antrag des Regisseurs auf Pseudonymisierung kann abgelehnt werden, so durfte Tony Kaye den Namen Smithee bei dem Film American History X nicht einsetzen, obwohl er den Antrag stellte.\\n\\nAuch bei nicht-US-amerikanischen Produktionen wird der Name verwendet, wie etwa beim Pilotfilm der Fernsehserie Schulmädchen. 2007 sendete die ARD am 8. und 9. August den zweiteiligen TV-Film Paparazzo. Auch in diesem Werk erscheint anstatt des eigentlichen Regisseurs Stephan Wagner Alan Smithee im Abspann.\\n\\nRegisseure, die das Pseudonym benutzt haben:\\n Don Siegel und Robert Totten (für Frank Patch – Deine Stunden sind gezählt)\\n David Lynch (für die dreistündige Fernsehfassung von Der Wüstenplanet)\\n Chris Christensen (The Omega Imperative)\\n Gianni Bozzacchi (für I Love N.Y.)\\n Stuart Rosenberg (für Let’s Get Harry)\\n Richard C. Sarafian (für Starfire)\\n Dennis Hopper (für Catchfire)\\n Arthur Hiller (für Fahr zur Hölle Hollywood)\\n Rick Rosenthal (Die Vögel II – Die Rückkehr)\\n Kevin Yagher (Hellraiser IV – Bloodline)\\n William Lustig (Maniac Cop 3)\\n Jerrold Freedman (für Die O.J. Simpson Story – Der Mordfall des Jahrhunderts)\\n\\nDer Pilotfilm der Serie MacGyver und die fünfte Folge der ersten Staffel führen einen Alan Smithee als Regisseur. Auf der TV-Serien-Seite TV Rage wird Jerrold Freedman als Regisseur des Pilotfilms angegeben. Der Regisseur der fünften Folge ist unbekannt.\\n\\nZu den Drehbuchautoren, die das Pseudonym benutzt haben, gehören Sam Raimi und Ivan Raimi, die das Drehbuch zu Die total beknackte Nuß als Alan Smithee, Jr. und Alan Smithee, Sr. schrieben.\\n\\nAuch in Computerspielen wird dieses Pseudonym angegeben: Im Abspann des Ego-Shooters Marine Sharpshooter IV aus dem Jahr 2008 wird als Art Director des Spiels Alan Smithee genannt.\\n\\n2014 produzierte die New Yorker Performance-Kompanie Big Dance Theater Alan Smithee Directed this Play, das im August des Jahres auch in Berlin bei Tanz im August aufgeführt wurde.\\n\\nLiteratur \\n Jeremy Braddock, Stephen Hock (Hrsg.): Directed by Allen Smithee. Foreword by Andrew Sarris. University of Minnesota Press, Minneapolis, London 2001, ISBN 0-8166-3534-X.\\n\\nWeblinks \\n \\n Artikel über Smithee von ABC Online (englisch)\\n Der Mann, der niemals lebte, Spiegel Online einestages\\n Alan Smithee lebt!, DRadio Wissen\\n\\nEinzelnachweise \\n\\n \\nSmithee, Alan\\nSmithee, Alan',\n",
       "  1),\n",
       " ('Actinium ist ein radioaktives chemisches Element mit dem Elementsymbol Ac und der Ordnungszahl 89. Im Periodensystem der Elemente steht es in der 3.\\xa0IUPAC-Gruppe, der Scandiumgruppe. Das Element ist ein Metall und gehört zur 7.\\xa0Periode, d-Block. Es ist der Namensgeber der Gruppe der Actinoide, der ihm folgenden 14 Elemente.\\n\\nGeschichte \\n\\nDas Actinium wurde im Jahr 1899 von dem französischen Chemiker André-Louis Debierne entdeckt, der es aus Pechblende isolierte und ihm zunächst Ähnlichkeiten mit dem Titan oder dem Thorium zuschrieb; seine Bezeichnung leitete er wegen der Radioaktivität von griechisch ἀκτίς aktís ‚Strahl‘ ab. Friedrich Giesel entdeckte das Element unabhängig davon im Jahr 1902 und beschrieb eine Ähnlichkeit zum Lanthan; er gab ihm den Namen Emanium, eine Bildung zu lateinisch emano ‚ausfließen‘, ebenfalls mit Bezug zur abgegebenen Strahlung. Nachdem Actinium und Emanium im Jahre 1904 als identisch erkannt worden waren, wurde Debiernes Namensgebung der Vorzug gegeben, da er es zuerst entdeckt hatte.\\n\\nDie Geschichte der Entdeckung wurde in Publikationen von 1971 und später im Jahr 2000 immer noch als fraglich beschrieben. Sie zeigen, dass die Publikationen von 1904 einerseits und die von 1899 und 1900 andererseits Widersprüche aufweisen.\\n\\nGewinnung und Darstellung \\nDa in Uranerzen nur wenig Actinium vorhanden ist, spielt diese Quelle keine Rolle für die Gewinnung. Technisch wird das Isotop 227Ac durch Bestrahlung von 226Ra mit Neutronen in Kernreaktoren hergestellt.\\n\\nDie Zeitangaben sind Halbwertszeiten.\\n\\nDurch den schnellen Zerfall des Actiniums waren stets nur geringe Mengen verfügbar. Die erste künstliche Herstellung von Actinium wurde im Argonne National Laboratory in Chicago durchgeführt.\\n\\nEigenschaften\\n\\nPhysikalische Eigenschaften \\nDas Metall ist silberweiß glänzend und relativ weich. Aufgrund seiner starken Radioaktivität leuchtet Actinium im Dunkeln in einem hellblauen Licht.\\n\\nActinium ist das namensgebende Element der Actinoiden, ähnlich wie Lanthan für die Lanthanoiden. Die Gruppe der Elemente zeigt deutlichere Unterschiede als die Lanthanoide; daher dauerte es bis 1945, bis Glenn T. Seaborg die wichtigsten Änderungen zum Periodensystem von Mendelejew vorschlagen konnte: die Einführung der Actinoide.\\n\\nChemische Eigenschaften \\nEs ist sehr reaktionsfähig und wird von Luft und Wasser angegriffen, überzieht sich aber mit einer Schicht von Actiniumoxid, wodurch es vor weiterer Oxidation geschützt ist. Das Ac3+-Ion ist farblos. Das chemische Verhalten von Actinium ähnelt sehr dem Lanthan. Actinium ist in allen zehn bekannten Verbindungen dreiwertig.\\n\\nIsotope \\nBekannt sind 26 Isotope, wovon nur zwei natürlich vorkommen. Das langlebigste Isotop 227Ac (Halbwertszeit 21,8\\xa0Jahre) hat zwei Zerfallskanäle: es ist ein Alpha- und Betastrahler. 227Ac ist ein Zerfallsprodukt des Uranisotops 235U und kommt zu einem kleinen Teil in Uranerzen vor. Daraus lassen sich wägbare Mengen 227Ac gewinnen, die somit ein verhältnismäßig einfaches Studium dieses Elementes ermöglichen. Da sich unter den radioaktiven Zerfallsprodukten einige Gammastrahler befinden, sind aber aufwändige Strahlenschutzvorkehrungen nötig.\\n\\nVerwendung \\nActinium wird zur Erzeugung von Neutronen eingesetzt, die bei Aktivierungsanalysen eine Rolle spielen. Außerdem wird es für die thermoionische Energieumwandlung genutzt.\\n\\nBeim dualen Zerfall des 227Ac geht der größte Teil unter Emission von Beta-Teilchen in das Thoriumisotop 227Th, aber ca. 1 % zerfällt durch Alpha-Emission zu Francium 223Fr. Eine Lösung von 227Ac ist daher als Quelle für das kurzlebige 223Fr verwendbar. Letzteres kann dann regelmäßig abgetrennt und untersucht werden.\\n\\nSicherheitshinweise \\nEinstufungen nach der CLP-Verordnung liegen nicht vor, weil diese nur die chemische Gefährlichkeit umfassen und eine völlig untergeordnete Rolle gegenüber den auf der Radioaktivität beruhenden Gefahren spielen. Auch Letzteres gilt nur, wenn es sich um eine dafür relevante Stoffmenge handelt.\\n\\nVerbindungen \\nNur eine geringe Anzahl von Actiniumverbindungen ist bekannt. Mit Ausnahme von AcPO4 sind sie alle den entsprechenden Lanthanverbindungen ähnlich und enthalten Actinium in der Oxidationsstufe +3. Insbesondere unterscheiden sich die Gitterkonstanten der jeweiligen Lanthan- und Actinium-Verbindungen nur in wenigen Prozent.\\n\\nOxide \\nActinium(III)-oxid\\xa0(Ac2O3) kann durch Erhitzen des Hydroxids bei 500\\xa0°C oder des Oxalats bei 1100\\xa0°C im Vakuum erhalten werden. Das Kristallgitter ist isotyp mit den Oxiden der meisten dreiwertigen Seltenerdmetalle.\\n\\nHalogenide \\nActinium(III)-fluorid\\xa0(AcF3) kann entweder in Lösung oder durch Feststoffreaktion dargestellt werden. Im ersten Fall gibt man bei Raumtemperatur Flusssäure zu einer Ac3+-Lösung und fällt das Produkt aus. im anderen Fall wird Actinium-Metall mit Fluorwasserstoff bei 700\\xa0°C in einer Platinapparatur behandelt.\\n\\nActinium(III)-chlorid\\xa0(AcCl3) wird durch Umsetzung von Actiniumhydroxid oder -oxalat mit Tetrachlormethan bei Temperaturen oberhalb von 960\\xa0°C erhalten.\\n\\nDie Reaktion von Aluminiumbromid und Actinium(III)-oxid führt zum Actinium(III)-bromid\\xa0(AcBr3) und Behandlung mit feuchtem Ammoniak bei 500\\xa0°C führt zum Oxibromid AcOBr.\\n\\nWeitere Verbindungen \\nGibt man Natriumdihydrogenphosphat\\xa0(NaH2PO4) zu einer Lösung von Actinium in Salzsäure, erhält man weiß gefärbtes Actiniumphosphat\\xa0(AcPO4\\xa0·\\xa00,5\\xa0H2O); ein Erhitzen von Actinium(III)-oxalat mit Schwefelwasserstoff bei 1400\\xa0°C für ein paar Minuten führt zu schwarzem Actinium(III)-sulfid\\xa0(Ac2S3).\\n\\nLiteratur \\n Harold W. Kirby, Lester R. Morss: Actinium, in: Lester R. Morss, Norman M. Edelstein, Jean Fuger (Hrsg.): The Chemistry of the Actinide and Transactinide Elements, Springer, Dordrecht 2006; ISBN 1-4020-3555-1, S.\\xa018–51 (doi:10.1007/1-4020-3598-5_2).\\n\\nWeblinks\\n\\nEinzelnachweise',\n",
       "  1),\n",
       " ('Ang Lee (; * 23. Oktober 1954 in Chaozhou, Landkreis Pingtung, Taiwan) ist ein taiwanischer Filmregisseur, Drehbuchautor und Produzent. Er ist als vielfach ausgezeichneter Regisseur bekannt für so unterschiedliche Filme wie Eat Drink Man Woman, die Jane-Austen-Adaption Sinn und Sinnlichkeit und den Martial Arts-Film Tiger and Dragon. Für seine Filme Brokeback Mountain (2005) und Life of Pi: Schiffbruch mit Tiger (2012) wurde er jeweils mit dem Oscar in der Kategorie Beste Regie ausgezeichnet.\\n\\nLeben \\nAng Lee wurde 1954 in Taiwan geboren. Seine Eltern, Emigranten aus China, lernten sich in Taiwan kennen, Lee ist ihr ältester Sohn. Die Großeltern väterlicher- und mütterlicherseits sind im Zuge der kommunistischen Revolution in China ums Leben gekommen. Da sein Vater als Lehrer häufiger die Arbeitsstelle wechselte, wuchs Ang Lee in verschiedenen Städten Taiwans auf.\\n\\nEntgegen den Wünschen seiner Eltern, wie sein Vater eine klassische akademische Laufbahn einzuschlagen, interessierte sich Lee für das Schauspiel und absolvierte mit ihrem Einverständnis zunächst ein Theater- und Filmstudium in Taipeh. Im Anschluss daran ging er 1978 in die USA, um an der Universität von Illinois in Urbana-Champaign Theaterwissenschaft und -regie zu studieren. Nach dem Erwerb seines B.A. in Illinois verlegte er sich ganz auf das Studium der Film- und Theaterproduktion an der Universität von New York, das er 1985 mit einem Master abschloss. Danach entschloss er sich, mit seiner ebenfalls aus Taiwan stammenden Ehefrau zusammen in den USA zu bleiben.\\n\\nSein Interesse verschob sich trotz erster Erfahrungen mit dem Super-8-Film in Taiwan erst spät ganz auf Filmregie und -produktion – auch weil Lee seinen Berufswunsch seiner Familie und insbesondere seinem Vater gegenüber lange Zeit nicht eingestehen wollte.\\nNach dem Studium konnte er zunächst keine eigenen Projekte umsetzen. Erst ab 1992, als er seinen ersten Langfilm fertigstellte, zeichnete sich eine kontinuierliche Karriere als Regisseur ab.\\n\\nAls seine bisher größte Erfolge – sowohl beim Publikum als auch bei der Kritik – gelten das Martial Arts-Drama Tiger and Dragon mit einer pan-asiatischen Starbesetzung und der Post-Western-Liebesfilm Brokeback Mountain mit Heath Ledger und Jake Gyllenhaal. Für Letzteren bekam Lee 2006 als erster asiatisch-stämmiger und nicht-weißer Regisseur den Oscar für die beste Regie. Außerdem wurden Lees Filme, neben vielen weiteren Preisen, mit mittlerweile zwei Goldenen Bären der Berlinale und zwei Goldenen Löwen der Filmfestspiele von Venedig ausgezeichnet.\\n\\nLee ist seit 1983 mit der Mikrobiologin Jane Lin verheiratet. Sie leben in White Plains, Westchester County, im Bundesstaat New York. Aus der Ehe stammen die Söhne Haan (* 1984) und Mason (* 1990). Ang Lee besitzt eine United States Permanent Resident Card.\\n\\nFilmisches Werk \\nNach seinen ersten Filmerfahrungen in Taiwan setzte sich Lee erst wieder während seines Studiums in den USA ernsthaft mit dem Filmemachen auseinander. Im Rahmen seines Studiums in New York drehte er einige Kurzfilme und wirkte unter anderem beim Abschlussdreh seines Studienkollegen Spike Lee als Regieassistent mit. Sein eigener Abschlussfilm Fine Line gewann 1985 zwei Preise beim renommierten Filmfest seiner Universität. Erst 1992 gelang es ihm, nach dem Gewinn eines hochdotierten Drehbuchwettbewerbs in Taiwan, den ersten einer Reihe von drei Filmen zu drehen, die west-östliche Konflikte taiwanischer Familien zum Thema haben.\\n\\n1992–1994: Die „Father-Knows-Best“-Trilogie \\nDiese ersten drei Langfilme, die Lee realisieren konnte, werden im Allgemeinen unter dem Begriff Father Knows Best gefasst. Diese Bezeichnung geht auf die wiederkehrende Figur des chinesischen Familienoberhaupts, gespielt jeweils vom taiwanischen Schauspieler Sihung Lung, zurück. Die drei Filme thematisieren, wie später noch öfter bei Ang Lee, familiäre Probleme, die aus dem Konflikt zwischen Selbstbestimmung und Tradition, zwischen Innen und Außen, zwischen Ost und West sowie zwischen den Generationen herrühren. Die Filme sind allesamt US-amerikanisch-taiwanische Koproduktionen. Anders als bei allen bislang folgenden Projekten handelt es sich bei den ersten Filmen Lees nicht um Adaptionen, sondern um Filme nach von ihm selbst geschriebenen Originaldrehbüchern.\\n\\nDer erste Film, Schiebende Hände (1992), handelt vom Einzug eines chinesischen Vaters bei seinem erwachsenen Sohn und der US-amerikanischen Schwiegertochter in New York und den interkulturellen Problemen, die in der neuen Wohngemeinschaft entstehen. Dies war die erste Zusammenarbeit zwischen Lee und dem Drehbuchautor und Produzenten James Schamus – seitdem bildeten die beiden bei jedem Film Lees eine enge Arbeitsgemeinschaft. Wie in den beiden folgenden Filmen schrieben sie auch gemeinsam das Drehbuch. In allen weiteren Filmen Lees (mit Ausnahme des Kurzfilms The Hire: Chosen) hat Schamus seither entscheidende Funktionen ausgeübt.\\n\\nAuch die regelmäßige Zusammenarbeit mit dem Filmeditor Tim Squyres nahm in Lees Erstling ihren Anfang. Mit Ausnahme des Erfolgsfilms Brokeback Mountain von 2005 hat Squires jeden Film, den Ang Lee gedreht hat, geschnitten.\\n\\nNach dem Erfolg seines Erstlings konnte Lee als Nächstes Das Hochzeitsbankett (1993) drehen, eine Komödie über die fingierte Eheschließung eines homosexuellen Exil-Taiwaners in den USA. Erneut taucht hier die Figur des strengen, aber weisen Familienoberhaupts auf. Hatte Schiebende Hände zunächst vor allem in Taiwan für Aufmerksamkeit (und Preise) gesorgt, wurde mit dem zweiten Langfilm Lees auch Europa auf den aufstrebenden Regisseur aufmerksam: Der Film erhielt bei der Berlinale 1993 den Goldenen Bären als Bester fremdsprachiger Film und war zudem für einen Oscar nominiert. Er gilt darüber hinaus als einer der profitabelsten Low-Budget-Filme des Jahres 1993. Mit nur einer Million US-Dollar Produktionskosten erzielte er ein Einspielergebnis von über 23\\xa0Millionen US-Dollar.\\n\\nSihung Lung ist auch im letzten Teil der Trilogie, Eat Drink Man Woman (1994), die „kongeniale Verkörperung des chinesischen Familienoberhaupts“, das „Zentrum dieser Maskeraden, in denen es darum geht, ein altes Gesicht zu wahren und dann zu lernen, es zu verlieren, um ein neues, lebenstauglicheres zu gewinnen.“ Dieses Mal ist er der verwitwete Vater dreier Töchter, die ihr Leben und ihre Lieben auf unterschiedliche Art angehen und dabei ebenfalls innerfamiliäre Konflikte klären müssen. Eat Drink Man Woman wurde, anders als seine Vorgänger, in Taipeh gedreht. Im Mittelpunkt des Films stehen (der Titel deutet es an) die Liebe und das Essen. Ang Lee, privat ein passionierter Koch, legte hierbei besonders großen Wert auf die kulinarische Komponente als Stilmittel und konzipierte die Hauptfigur des älteren Witwers als berühmten Koch.\\n\\n1995–1999: Dreimal anglo-amerikanische Geschichte \\nMit dem Angebot der Produzentin Lindsay Doran, die von der britischen Schauspielerin Emma Thompson verfasste Adaption des Romans Verstand und Gefühl von Jane Austen in Großbritannien zu drehen, eröffnete sich Lee eine lange ersehnte neue Perspektive jenseits asiatisch geprägter Stoffe.\\n\\nIn einer neuen Trilogie setzt er sich mit unterschiedlichen Kulturen auseinander:\\n Sinn und Sinnlichkeit ist die Verfilmung des Romans der englischen Schriftstellerin Jane Austen;\\n Der Eissturm spielt in den USA der 1970er Jahre;\\n Ride with the Devil ist im Amerikanischen Bürgerkrieg angesiedelt.\\n\\n2000–heute: Pendeln zwischen West und Ost \\nTiger and Dragon sowie Hulk sind sehr unterschiedliche Action-Filme. Mit Tiger and Dragon gewann Lee zwei Golden Globes. Das Werk wurde außerdem mit vier Academy Awards (Oscars) prämiert, darunter der Trophäe für den besten fremdsprachigen Film. Für diesen Film wurde er 2001 auch mit einem Chlotrudis Award ausgezeichnet, seinen zweiten Chlotrudis erhielt er 2006 für Brokeback Mountain.\\n\\nFür Brokeback Mountain wurde Lee mit einer Vielzahl von Filmpreisen geehrt, darunter mit dem Oscar für die beste Regie, dem Goldene Löwen der Filmfestspiele von Venedig sowie der Auszeichnung der Hollywood Foreign Press Association als bester Regisseur des Jahres. 2007 verfilmte er mit Gefahr und Begierde eine Kurzgeschichte von Eileen Chang. Der Thriller spielt zur Zeit des Zweiten Weltkriegs in Shanghai und handelt von einer jungen chinesischen Agentin (gespielt von Tang Wei), die beauftragt wird, einen hochrangigen Verräter (Tony Leung Chiu Wai) zu liquidieren. Lees erste chinesischsprachige Spielfilmproduktion seit Tiger and Dragon war 2007 im offiziellen Wettbewerb der 64.\\xa0Filmfestspiele von Venedig vertreten und brachte ihm erneut den Goldenen Löwen ein. Im selben Jahr wurde Gefahr und Begierde als offizieller taiwanischer Beitrag für die Nominierung um den besten fremdsprachigen Film bei der Oscar-Verleihung 2008 ausgewählt, später aber auf Empfehlung der Academy of Motion Picture Arts and Sciences wieder zurückgezogen und durch Chen Huai-Ens Lian xi qu () ersetzt.\\n\\nEnde Februar 2009 wurde bekannt gegeben, dass Lee die Jury der 66.\\xa0Filmfestspiele von Venedig leiten werde. Zwei Monate später erhielt er für seine Komödie Taking Woodstock eine Einladung in den Wettbewerb der 62.\\xa0Internationalen Filmfestspiele von Cannes.\\n\\n2013 wurde er in die Wettbewerbsjury des 66.\\xa0Filmfestivals von Cannes berufen.\\n\\nStil \\nAng Lee ist ein international anerkannter und erfolgreicher Regisseur und gilt als einer der vielseitigsten Filmemacher der letzten Jahre. Häufig behandelt Lee in seinen Filmen das Thema Familie auf eine Art und Weise, die autobiographische Züge seines eigenen Lebens trägt. Er lässt seine Umgebung ganz bewusst auf sich einwirken und bringt diese in seine Filme ein.\\n\\nKennzeichnend für die meisten seiner Filme ist eine wenig geradlinige Erzählstruktur, die die Charaktere und die Geschichte aus verschiedenen Blickwinkeln darstellt. Er verknüpft die Konflikte des menschlichen Lebens mit traditionellen und innovativen Stilelementen.\\n\\nFür Ang Lee sind die klassisch-soliden Erzählstrukturen zu langweilig, daher kombiniert er verschiedene Genres und Epochen. Er selbst sagte einmal:\\n\\nFilmografie \\n\\n 1982: Shades of the Lake – Kurzfilm\\n 1984: Fine Line – Kurzfilm\\n 1992: Schiebende Hände (Pushing Hands, Tui Shou)\\n 1993: Das Hochzeitsbankett (The Wedding Banquet, Xiyan)\\n 1994: Eat Drink Man Woman (Yinshi nannü)\\n 1995: Sinn und Sinnlichkeit (Sense and Sensibility)\\n 1997: Der Eissturm (The Icestorm)\\n 1999: Ride with the Devil\\n 2000: Tiger and Dragon (auch: Crouching Tiger, Hidden Dragon, Wohu canglong)\\n 2001: The Hire: Chosen – Kurzwerbefilm für eine Automarke\\n 2003: Hulk\\n 2005: Brokeback Mountain\\n 2007: Gefahr und Begierde (Se, Jie)\\n 2009: Taking Woodstock\\n 2012: Life of Pi: Schiffbruch mit Tiger\\n 2016: Die irre Heldentour des Billy Lynn (Billy Lynn’s Long Halftime Walk)\\n 2019: Gemini Man\\n\\nAuszeichnungen (Auswahl)\\n\\nOscarverleihung \\n 2001: Auszeichnung in der Kategorie Bester fremdsprachiger Film für Tiger and Dragon\\n 2001: Nominierung in der Kategorie Beste Regie für Tiger and Dragon\\n 2001: Nominierung in der Kategorie Bester Film für Tiger and Dragon\\n 2006: Auszeichnung in der Kategorie Beste Regie für Brokeback Mountain\\n 2013: Auszeichnung in der Kategorie Beste Regie für Life of Pi: Schiffbruch mit Tiger\\n 2013: Nominierung in der Kategorie Bester Film für Life of Pi: Schiffbruch mit Tiger\\n\\nGolden Globe Award \\n 1996: Nominierung in der Kategorie Beste Regie für Sinn und Sinnlichkeit\\n 2001: Auszeichnung in der Kategorie Beste Regie für Tiger and Dragon\\n 2006: Auszeichnung in der Kategorie Beste Regie für Brokeback Mountain\\n 2013: Nominierung in der Kategorie Beste Regie für Life of Pi: Schiffbruch mit Tiger\\n\\nDirectors Guild of America Award \\n 1996: Nominierung in der Kategorie Beste Spielfilmregie für Sinn und Sinnlichkeit\\n 2001: Auszeichnung in der Kategorie Beste Spielfilmregie für Tiger and Dragon\\n 2006: Auszeichnung in der Kategorie Beste Spielfilmregie für Brokeback Mountain\\n 2013: Nominierung in der Kategorie Beste Spielfilmregie für Life of Pi: Schiffbruch mit Tiger\\n\\nWeitere Auszeichnungen \\n 1992: Bester Film des Asia-Pacific Film Festivals für Schiebende Hände\\n 1993: Goldener Bär der Berliner Filmfestspiele für Das Hochzeitsbankett\\n 1993: Golden Horse Beste Regie für Das Hochzeitsbankett\\n 1996: Goldener Bär der Berliner Filmfestspiele für Sinn und Sinnlichkeit\\n 1997: Bundesfilmpreis für den besten ausländischen Film mit Sinn und Sinnlichkeit\\n 2000: Golden Horse Bester Film für Tiger and Dragon\\n 2001: Hong Kong Film Award für Tiger and Dragon\\n 2002: Aufnahme in die American Academy of Arts and Sciences\\n 2005: Goldener Löwe des Filmfestivals in Venedig für Brokeback Mountain\\n 2007: Golden Horse Beste Regie für Gefahr und Begierde\\n 2007: Goldener Löwe des Filmfestivals in Venedig für Gefahr und Begierde\\n\\nLiteratur \\nchronologisch aufsteigend\\n Tanja Hanhart (Redaktorin): Ang Lee und sein Kino. Poesie im Grossformat. In: du 796 (Feb. 2006), ISBN 978-3-03717-021-2.\\n Thomas Koebner: [Artikel] Ang Lee. In: Ders. (Hrsg.): Filmregisseure. Biographien, Werkbeschreibungen, Filmographien. Mit 109 Abbildungen. 3., aktualisierte und erweiterte Auflage. Reclam, Stuttgart 2008 [1. Aufl. 1999], ISBN 978-3-15-010662-4, S. 429–433.\\n Qin Hu: Das Kino von Ang Lee – Von der chinesischen Philosophie, Kunstauffassung und Kultur zu filmästhetischen Aspekten. Gardez! Verlag, 2008.\\n Isabell Gössele: Das Kino des Ang Lee – Im Atem des verborgenen Drachen. Tectum, Marburg 2009, ISBN 978-3-8288-2046-3.\\n Michael Pekler, Andreas Ungerböck: Ang Lee und seine Filme. Schüren, Marburg 2009, ISBN 978-3-89472-665-2.\\n\\nSiehe auch \\n Taiwanischer Film\\n US-amerikanischer Film\\n\\nWeblinks \\n\\n \\n Ang Lee / Li An () bei AllMovie (englisch)\\n Ang Lee / Li An () bei Taiwan Cinema (englisch)\\n Ang Lee / Li An () bei Chinese Movie Database (chinesisch, englisch)\\n Ang Lee / Li An () bei Hong Kong Movie Database (chinesisch, englisch)\\n\\n \\n Infos zum \\n Biografie von Ang Lee bei WHO’S WHO\\n Rüdiger Sturm: „Wenn du Erfolg hast, missbrauche ihn!“ In: Spiegel Online, 17. Oktober 2007, Interview\\n Thomas Abeltshauser: Der Subtext des Western, Interview auf critic.de\\n Ralph Geisenhanslüke: Regisseur Ang Lee: „Ich wollte immer meinen Vater stolz machen“ In: Zeit, 1. Januar 2013, Interview\\n Andreas Kilb: Ang Lee zum Sechzigsten. Die Zerbrechlichkeit der Welt. In: FAZ, 23. Oktober 2014\\n\\nEinzelnachweise \\n\\n \\nDrehbuchautor\\nFilmregisseur\\nOscarpreisträger\\nGolden-Globe-Preisträger\\nPerson als Namensgeber für einen Asteroiden\\nMitglied der American Academy of Arts and Sciences\\nTaiwaner\\nGeboren 1954\\nMann',\n",
       "  1),\n",
       " ('Anschluss ist in der Soziologie ein Fachbegriff aus der Systemtheorie von Niklas Luhmann und bezeichnet die in einer sozialen Begegnung auf eine Selektion der anderen Seite folgende, selbst gewählte Selektion. Diese Selektionen beziehen sich aufeinander.\\n\\nDie Anschlussfähigkeit ist die Kapazität von Systemen zu gewährleisten, dass sich an die Selektionen eines Systems weitere anschließen können. Alle sozialen Systeme reproduzieren sich über Kommunikation (z.\\xa0B. Wirtschaftssystem oder Politik) oder Handlungen (Medizin und Erziehungssystem). Dies gelingt nur, wenn die einzelnen Einheiten aneinander anschlussfähig sind, was durch einen systemspezifischen Code geleistet wird, der als zentrale Logik (Leitunterscheidung) aller Kommunikation zugrunde liegt und sie als systemzugehörig erkennbar macht. Im Wirtschaftssystem beispielsweise sorgt der Code zahlen/nicht zahlen dafür, dass die Kommunikationen sich auf sich selbst beziehen und sich selbst reproduzieren können, also dass auf jede Zahlung eine neue erfolgt. Dies funktioniert über das generalisierte Kommunikationsmedium Geld, das die letzte Zahlung mit der jetzigen verknüpft. Würde das Geld nicht mehr akzeptiert, folgt der Zahlung keine weitere Zahlung mehr und das System hätte seine Anschlussfähigkeit verloren. Die Anschlussfähigkeit innerhalb eines Systems wird als Selbstreferenz bezeichnet, im Gegensatz zum fremdreferentiellen Bezug auf die Umwelt (Welt, andere Systeme).\\n\\nDen Begriff hat Luhmann auf eine Anregung eines Bielefelder Kollegen, des Philosophen Jürgen Frese entwickelt. Frese zeigte in einem Sektionsreferat des Achten Deutschen Kongresses für Philosophie in Heidelberg (1966, gedruckt 1967) mit dem Titel „Sprechen als Metapher für Handeln“, dass es fruchtbar ist, von den dominanten Handlungsmodellen Arbeit und Konsum abzurücken und ergänzend Sprechen als Modell für Handeln zu nutzen. Frese schreibt: „Die wichtigste Errungenschaft, die die Sprachmetapher für die Aufhellung des nicht-sprachlichen Handelns einbringt, ist ihre Leistung, Reihenbildung erklärbar zu machen. Fassen wir Satz und Handlung zum neutralen und an andere Philosopheme anschließbaren Begriff des Aktes zusammen, so können wir … sagen: Der Sinn eines Aktes ist das als eine bestimmte Situation gegebene Ensemble der Möglichkeiten, an diesen Akt weitere Akte anzuschließen; d.\\xa0h. der Sinn eines Aktes ist die Mannigfaltigkeit der Anschließbarkeiten, die er eröffnet.“ Diese Idee wurde von Luhmann aufgegriffen und im Rahmen seiner Systemtheorie weiterentwickelt. Frese selbst baute sie im Rahmen seiner Lehre von den Formularen weiter aus.\\n\\nLiteratur \\n Niklas Luhmann: Soziale Systeme. Grundriß einer allgemeinen Theorie. Suhrkamp, Frankfurt am Main 1987, ISBN 3-518-28266-2.\\n Jürgen Frese:  Sprechen als Metapher für Handeln. In: Hans-Georg Gadamer: Das Problem der Sprache. Achter Deutscher Kongress für Philosophie. Heidelberg 1966, Fink Verlag, München 1967, S. 45–55.\\n Jürgen Frese: Prozesse im Handlungsfeld. Klaus Boer Verlag, München 1985, ISBN 3-924963-06-1.\\n\\nEinzelnachweise \\n\\nSoziologische Systemtheorie',\n",
       "  1),\n",
       " ('Die Aussagenlogik ist ein Teilgebiet der Logik, das sich mit Aussagen und deren Verknüpfung durch Junktoren befasst, ausgehend von strukturlosen Elementaraussagen (Atomen), denen ein Wahrheitswert zugeordnet wird. In der klassischen Aussagenlogik wird jeder Aussage ein Element einer Booleschen Algebra als Wahrheitswert zugeordnet. Der Wahrheitswert einer zusammengesetzten Aussage lässt sich ohne zusätzliche Informationen mittels der Operationen der Booleschen Algebra aus den Wahrheitswerten ihrer Teilaussagen bestimmen.\\n\\nGeschichte \\nHistorisch geht die Aussagenlogik zurück bis zu Aristoteles, der erstmals aussagenlogische Grundsätze diskutierte, nämlich in seiner Metaphysik den Satz vom Widerspruch und den Satz vom ausgeschlossenen Dritten, und der in seiner ersten Analytik den indirekten Beweis thematisierte. Die zweiwertige aussagenlogische Semantik entwickelten etwas später die megarischen Philosophen Diodoros Kronos und Philon. Die Aussagensemantik und -axiomatik kombinierte der Stoiker Chrysippos von Soli, der den ersten aussagenlogischen Kalkül formulierte. Die Weiterentwicklung der Aussagenlogik der Stoa durch das Mittelalter wird oft übersehen. Eine erste vollständige und entscheidbare Formalisierung für aussagenlogische Tautologien –\\xa0allerdings noch nicht für das aussagenlogische Schließen\\xa0– schuf George Boole 1847 mit seinem algebraischen Logikkalkül. Den ersten aussagenlogischen Kalkül mit Schlussregeln formulierte Gottlob Frege im Rahmen seiner Begriffsschrift 1879. Er war die Vorlage für den Aussagenkalkül von Bertrand Russell 1908, der sich später durchsetzte (s.\\xa0u.).\\n\\nAbgrenzung zu anderen Logiken \\nDa in der heutigen Mathematik die klassische Aussagenlogik maßgeblich wurde, wird in diesem Artikel dieser moderne Haupttypus der Aussagenlogik behandelt. Allgemein ist die klassische Logik durch zwei Eigenschaften charakterisiert:\\n\\n Jede Aussage hat einen von genau zwei Wahrheitswerten, meist „falsch“ oder „wahr“ (Prinzip der Zweiwertigkeit oder Bivalenzprinzip).\\n Der Wahrheitswert jeder zusammengesetzten Aussage ist eindeutig durch die Wahrheitswerte ihrer Teilaussagen bestimmt (Prinzip der Extensionalität oder Kompositionalität, siehe Extensionalitätsprinzip)\\n\\nDas Prinzip der Zweiwertigkeit wird oft mit dem Satz vom ausgeschlossenen Dritten verwechselt.\\n\\nDie klassische Aussagenlogik ist jenes Gebiet der klassischen Logik, das die innere Struktur von Sätzen (Aussagen) daraufhin untersucht, aus welchen anderen Sätzen (Teilsätzen) sie zusammengesetzt sind und wie diese Teilsätze miteinander verknüpft sind. Die innere Struktur von Sätzen, die ihrerseits nicht in weitere Teilsätze zerlegt werden können, wird von der Aussagenlogik nicht betrachtet. Ein Beispiel: Die Aussage „Alle Katzen sind Hunde, und die Erde ist eine Scheibe“ ist mit dem Bindewort „und“ aus den beiden kürzeren Aussagen „Alle Katzen sind Hunde“ und „Die Erde ist eine Scheibe“ zusammengesetzt. Diese beiden Aussagen lassen sich ihrerseits nicht mehr in weitere Aussagen zerlegen, sind aus aussagenlogischer Sicht also elementar oder atomar. Andere, auf die Aussagenlogik aufbauende logische Systeme betrachten die innere Struktur solcher atomaren Aussagen; ein wichtiges Beispiel ist die Prädikatenlogik.\\n\\nIn Abgrenzung zur klassischen Logik entstehen nichtklassische Logiksysteme, wenn man das Prinzip der Zweiwertigkeit, das Prinzip der Extensionalität oder sogar beide Prinzipien aufhebt. Nichtklassische Logiken, die durch die Aufhebung des Prinzips der Zweiwertigkeit entstehen, heißen mehrwertige Logik. Die Zahl der Wahrheitswerte (in diesem Falle üblicher: Pseudowahrheitswerte) kann dabei endlich sein (z.\\xa0B. dreiwertige Logik), ist aber oft auch unendlich (z.\\xa0B. Fuzzy-Logik). Hingegen verwenden Logiken, die durch die Aufhebung der Extensionalität entstehen, Junktoren (Konnektive), bei denen sich der Wahrheitswert des zusammengesetzten Satzes nicht mehr eindeutig aus dem Wahrheitswert seiner Teile bestimmen lässt. Ein Beispiel für nichtextensionale Logik ist die Modallogik, die die einstelligen nichtextensionalen Operatoren „es ist notwendig, dass“ und „es ist möglich, dass“ einführt.\\n\\nLogische Systeme stehen innerhalb der Logik nicht in einem Konkurrenzverhältnis um Wahrheit oder Richtigkeit. Die Frage, welches logische System für einen bestimmten Zweck genutzt werden soll, ist eher eine pragmatische.\\n\\nOft werden logische Systeme und logische Fragestellungen mit außerlogischen Fragen verwechselt oder vermischt, z.\\xa0B. mit der metaphysischen Frage, welches logische System „richtig“ sei, d.\\xa0h. die Wirklichkeit beschreibe. Zu dieser Frage gibt es unterschiedliche Standpunkte einschließlich des positivistischen Standpunkts, dass diese Frage sinnlos sei. Diese Fragen fallen aber in andere Gebiete, z.\\xa0B. Philosophie, Wissenschaftstheorie und Sprachwissenschaft.\\n\\nWenn in diesem Artikel die klassische Aussagenlogik behandelt wird, so ist das also nicht als metaphysische Festlegung zu verstehen oder gar als Behauptung, dass „alle Aussagen wahr oder falsch sind“. Es ist lediglich so, dass die klassische Aussagenlogik einfach nur solche Aussagen behandelt, die wahr oder falsch sind. Das ist eine große formale Vereinfachung, die dieses System relativ leicht erlernbar sein lässt. Braucht man aus metaphysischen oder pragmatischen Gründen mehr als zwei Wahrheitswerte, kann die klassische Aussagenlogik als Ausgangspunkt dienen, um ein geeignetes logisches System aufzustellen.\\n\\nUmgangssprachliche Einleitung\\n\\nEinfache Aussage (Elementaraussage) \\n\\nEine Aussage A ist ein Satz, der entweder wahr (w, wahr, true, 1) oder nicht wahr (f, falsch, false, 0) ist. Das gilt sowohl für einfache als auch für verknüpfte Aussagen. „Halbwahrheiten“ gibt es nicht. Eine Aussage kann sowohl der gewöhnlichen Sprache entstammen als auch der Sprache der Mathematik. Eine Elementaraussage ist eine Aussage, die keine aussagenlogischen Verknüpfungen (nicht, und, oder, wenn … dann, genau dann wenn) enthält.\\n\\nBeispiele für Elementaraussagen:\\n : München ist 781 km von Hamburg entfernt.\\n : 9 ist durch 3 teilbar.\\n : Eintracht Frankfurt wird in der nächsten Saison deutscher Fußballmeister.\\n : Alle Autos sind grün.\\n ist offensichtlich wahr (triviale mathematische Aussage),  dagegen ist falsch (es gibt einfache Gegenbeispiele). \\n stellt im mathematischen Sinne keine Aussage dar (ungenau genug in vielerlei Hinsicht, hat Interpretationsspielraum), gleiches gilt für .\\n\\nIn der klassischen Aussagenlogik ist eine Aussage entweder wahr oder nicht wahr, auch wenn man den Wahrheitsgehalt nicht kennt. Das ist zum Beispiel bei den ungelösten mathematischen Problemen der Fall.\\n\\nAnmerkung:  ist eine All-Aussage; die Struktur solcher Aussagen ist Gegenstand der Prädikatenlogik. Im Sinne der Aussagenlogik ist es eine Elementaraussage.\\n\\nVerneinte Aussage – Negation \\n\\nDie Verneinung bzw. Negation (auch: Satzverneinung, äußere Verneinung, kontradiktorisches Gegenteil) einer Aussage A ist diejenige Aussage ¬A, die genau dann wahr ist, wenn A falsch ist, und die genau dann falsch ist, wenn A wahr ist. Einfacher: Die Verneinung einer Aussage A dreht den Wahrheitswert von A in sein Gegenteil um.\\n\\nMan erhält die Verneinung einer Aussage A immer dadurch, dass man ihr die Formulierung „Es ist nicht der Fall, dass“ voranstellt. Zwar lässt sich ein natürlichsprachlicher Satz auch verneinen, indem man das Wort „nicht“ oder eine andere negative Formulierung an geeigneter Stelle einfügt – es ist aber nicht immer ganz einfach, zu erkennen, welche Formulierung zu verwenden und an welcher Stelle einzufügen ist. Formal schreibt man für „nicht A“ in der gebräuchlichsten Notation (Schreibweise) ¬A, auf Englisch und in der Schaltalgebra auch „NOT A“, gelegentlich auch „~A“.\\n\\nWir verneinen die obigen Beispiele:\\n : Es ist nicht der Fall, dass München 781 km von Hamburg entfernt ist.\\n : Es ist nicht der Fall, dass 9 durch 3 teilbar ist.\\n : Es ist nicht der Fall, dass Eintracht Frankfurt in der nächsten Saison deutscher Fußballmeister wird.\\n : Es ist nicht der Fall, dass alle Autos grün sind. (Es kann durchaus auch grüne Autos geben, aber es gibt mindestens ein Auto, das nicht grün ist.)\\n\\nAllgemein gilt für die Verneinung:\\n Wenn eine Aussage  wahr ist, ist die Verneinung  falsch.\\n Wenn eine Aussage  falsch ist, ist die Verneinung  wahr.\\n Eine Aussage  kann nicht gleichzeitig wahr und falsch sein.\\n Die Aussagen  und  können nicht gleichzeitig wahr sein.\\n\\nUnd-verknüpfte Aussagen – Konjunktion \\n\\nEine Konjunktion ist eine aus zwei Aussagen zusammengesetzte Aussage, die die Wahrheit all ihrer Teilaussagen behauptet. Umgangssprachlich verbindet man zwei Aussagen A und B durch das Bindewort „und“ zu einer Konjunktion „A und B“, in der logischen Sprache verwendet man meist das Zeichen  (Schreibweise: ), gelegentlich auch das kaufmännische Und, den Ampersand (&).\\n Sprechweise: A und B\\n Schreibweise: \\n auf Englisch und in der Schaltalgebra auch A AND B\\n\\nDie Aussage  ist immer dann wahr, wenn sowohl A als auch B jeweils wahr sind.\\nAndernfalls ist  falsch, nämlich dann, wenn entweder A oder B oder beide Aussagen falsch sind.\\n\\nBeispiele für eine Und-Verknüpfung:\\n\\n A: 9 ist durch 3 teilbar\\n B: 9 ist eine Quadratzahl\\n\\nDiese Teilaussagen und ihre Negationen werden nun durch  miteinander verknüpft:\\n\\n : 9 ist durch 3 teilbar und 9 ist eine Quadratzahl.\\n : 9 ist nicht durch 3 teilbar und 9 ist eine Quadratzahl.\\n : 9 ist durch 3 teilbar und 9 ist keine Quadratzahl.\\n : 9 ist nicht durch 3 teilbar und 9 ist keine Quadratzahl.\\nNur  ist wahr, weil  wahr ist und auch  wahr ist.\\n ist falsch, weil  falsch ist.\\n ist falsch, weil  falsch ist.\\n ist falsch, weil sowohl  als auch  falsch\\nist.\\n\\nNichtausschließendes Oder – Disjunktion \\n\\nEine Disjunktion ist eine zusammengesetzte Aussage, die behauptet, dass mindestens eine ihrer Teilaussagen wahr ist. Die Disjunktion in diesem Sinn wird auch nichtausschließendes Oder genannt. (Aber Achtung: Die Bezeichnung „Disjunktion“ wurde und wird oft auch für das ausschließende Oder, „entweder … oder“, verwendet – man denke an das Konzept der disjunkten Mengen. Einige Autoren verwenden daher für das Nichtausschließende Oder den Begriff Adjunktion.)\\nDas Formelzeichen „“ stammt von dem lateinischen Wort „vel“; für ausschließendes Oder wurde im Lateinischen „aut ... aut“ verwandt.\\n Sprechweise: „A oder B“; genauer: „A oder B oder beide“, häufig in juristischen oder medizinischen Texten: „A und/oder B“\\n Schreibweise: \\n auf Englisch und in der Schaltalgebra auch A OR B\\n\\nDie Aussage  ist immer dann wahr, wenn mindestens eine der Teilaussagen A oder B wahr ist, bzw. wenn beide Teilaussagen wahr sind. Andernfalls ist  falsch, nämlich dann, wenn sowohl A als auch B falsch sind.\\n\\nBeispiel für eine Oder-Verknüpfung:\\n A: 9 ist durch 3 teilbar\\n B: 9 ist eine Quadratzahl\\n\\nDiese Teilaussagen und ihre Negationen werden nun durch  miteinander verknüpft:\\n : 9 ist durch 3 teilbar oder 9 ist eine Quadratzahl.\\n : 9 ist nicht durch 3 teilbar oder 9 ist eine Quadratzahl.\\n : 9 ist durch 3 teilbar oder 9 ist keine Quadratzahl.\\n : 9 ist nicht durch 3 teilbar oder 9 ist keine Quadratzahl.\\n\\n ist wahr, weil sowohl  als auch  wahr sind.\\n ist wahr, weil  wahr ist.\\n ist wahr, weil  wahr ist.\\nNur  ist falsch, weil sowohl  als auch  falsch sind.\\n\\nMateriale Implikation \\n\\nDie materiale Implikation, auch Konditional oder Subjunktion genannt, drückt die hinreichende Bedingung aus: Sie sagt, dass die Wahrheit des einen Satzes eine hinreichende Bedingung für die Wahrheit des anderen Satzes ist. Man schreibt\\n \\n\\noder auch\\n \\n\\nund liest\\n A ist eine hinreichende Bedingung für B.\\n Schon wenn A, dann B.\\n A setzt voraus, dass B.\\n B ist eine notwendige Bedingung für A.Dass B genau dann eine notwendige Bedingung für A ist, wenn A eine hinreichende Bedingung für B ist, ist eine auf den ersten Blick überraschende und vielleicht kontraintuitive, jedoch zutreffende Feststellung. Das Unterkapitel Hinreichende und notwendige Bedingung bemüht sich, diesen Zusammenhang sichtbarer zu machen.\\n A impliziert B.\\n Nur wenn B, dann A.\\noder auch nur\\n Wenn A, dann B.\\n\\nIn einem Konditional nennt man A das Antezedens, B das Konsequens oder Sukzedens.\\n\\nBeispiele:\\n Dass es regnet, ist eine hinreichende Bedingung dafür, dass die Straße nass ist.\\n Schon wenn es regnet, ist die Straße nass.\\n Wenn es regnet, ist die Straße nass.\\n Nur wenn die Straße nass ist, kann es regnen.\\n Wenn Person x einen Wagen der Marke y hat, hat x ein Auto.\\n Wenn eine Zahl n durch 6 teilbar ist, dann ist die Zahl n durch 3 teilbar.\\n\\nDie Lesart „wenn … dann“ ist insofern problematisch, als mit dem natürlichsprachlichen „wenn … dann“ vor allem inhaltliche Zusammenhänge wie Kausalität oder zeitliche Nähe ausgedrückt werden. All das macht die materiale Implikation nicht, sie nennt nur den formalen Zusammenhang: „Dass es regnet, ist eine hinreichende Bedingung dafür, dass die Straße nass ist“. Zur Frage, warum das eine hinreichende Bedingung ist – ob auf Grund eines kausalen Zusammenhangs oder auch nur rein zufällig –, nimmt die materiale Implikation nicht Stellung.\\n\\nAls Umkehrschluss bezeichnet man den Schluss von  auf . Für die Beispiele bedeutet das:\\n Wenn die Straße nicht nass ist, regnet es nicht.\\n Wenn Person x kein Auto hat, dann hat x keinen Wagen der Marke y.\\n Wenn die Zahl n nicht durch 3 teilbar ist, dann ist n nicht durch 6 teilbar.\\n\\nUmgangssprachlich lässt man sich gelegentlich zu weiteren\\xa0– falschen\\xa0– Aussagen\\nverleiten:\\n Weil es nicht regnete, kann die Straße nicht nass sein. Diese Folgerung ist falsch, da die Straße auch aus anderen Gründen nass werden kann (Rohrbruch, Übung der Feuerwehr\\xa0…).\\n x hat keinen Wagen der Marke y, also hat x kein Auto. Falsch, denn er könnte ja einen Wagen der Marke z haben.\\n n ist nicht durch 6 teilbar, also ist n auch nicht durch 3 teilbar.Auch diese Folgerung ist falsch. Die Zahl 15 ist nicht durch 6 teilbar und sehr wohl durch 3.\\n\\nDas bedeutet: Wenn die Folgerung  wahr ist, dann erhält man aus der\\nAussage ¬A keine Aussage über B; B kann wahr oder falsch sein. („Ex falso sequitur quodlibet“ – „Aus Falschem folgt Beliebiges“)\\n\\nDie Implikation ist ein wichtiges Mittel in der Mathematik. Die meisten mathematischen Beweise verwenden das Konzept der Implikation.\\n\\nBikonditional \\n\\nDas Bikonditional, oft auch objektsprachliche Äquivalenz oder materiale Äquivalenz genannt, drückt die hinreichende und notwendige Bedingung aus, sagt also, dass eine Aussage A genau dann zutrifft, wenn eine Aussage B zutrifft. Man schreibt:\\n \\n\\nund liest\\n A ist genau dann der Fall, wenn B der Fall ist.\\n A genau dann wenn B.\\n A ist äquivalent zu B.\\n A ist dann und nur dann der Fall, wenn B der Fall ist.\\n\\nAuch beim Bikonditional wird eine rein formale Aussage getroffen, die nichts über einen allfälligen inhaltlichen Zusammenhang von A und B aussagt.\\n\\nStatt  zu sagen, kann man auch sagen, dass A eine hinreichende Bedingung für B und dass B eine hinreichende Bedingung für A ist, also . Tatsächlich sind diese beiden Aussagen logisch äquivalent.\\n\\nBeispiel:\\n Die natürliche Zahl n ist genau dann durch 6 teilbar, wenn n durch 2 und durch 3 teilbar ist.Wenn n durch 6 teilbar ist, dann folgt daraus, dass n durch 2 und durch 3 teilbar ist. Umgekehrt gilt aber auch: Wenn n durch 2 und durch 3 teilbar ist, dann ist n durch 6 teilbar.\\n Heute ist genau dann Dienstag, wenn morgen Mittwoch ist.\\n\\nDas Bikonditional als zusammengesetzte Aussage innerhalb der logischen Sprache (siehe Objektsprache) wird oft mit dem Konzept der logischen Äquivalenz verwechselt oder vermischt. Die logische Äquivalenz ist eine metasprachliche, meist natürlichsprachlich formulierte Eigenschaft zweier Aussagen der logischen Sprache. Ein Zusammenhang zwischen logischer Äquivalenz und Bikonditional besteht nur insofern, als das Metatheorem gilt, dass ein Bikonditional  genau dann eine Tautologie ist, wenn die beiden Aussagen A und B logisch äquivalent sind.\\n\\nAusschließendes Oder \\n\\nDas ausschließende Oder (Kontravalenz oder Antivalenz), „entweder A oder\\xa0B“, besagt, dass genau eine der beiden von ihm verknüpften Aussagen wahr ist. Entsprechend ist ein ausschließendes Oder nicht nur dann falsch, wenn sowohl A als auch B falsch sind, sondern auch, wenn beide wahr sind. (Einige Autoren verwenden für das Ausschließende Oder den Begriff Alternative.)\\n\\nObwohl das ausschließende Oder ein Konzept ist, mit dem man in der natürlichen Sprache immer wieder zu tun hat, wird es in den meisten logischen Sprachen nicht als eigenständiger Junktor eingeführt. Stattdessen wird das ausschließende Oder zum Beispiel als verneintes Bikonditional ausgedrückt, also als .\\n\\nGroße Bedeutung genießt das ausschließende Oder hingegen in der Schaltalgebra, wo es meist als XOR (eXclusive OR) aufgeschrieben wird.\\n\\nVerneinung einer verknüpften Aussage (De Morgansche Gesetze)\\n\\nVerneinung einer Konjunktion \\nDie Verneinung der Konjunktion „A und B“ (in der logischen Schreibweise: ) lautet „Es ist nicht der Fall, dass A und B zutreffen“ (in der logischen Schreibweise: ).\\nDiese ist logisch äquivalent mit der Aussage\\n„A ist nicht der Fall, oder B ist nicht der Fall (oder beides)“ (in logischer Schreibweise: ).\\n\\nEin Beispiel:\\n\\nWenn man die Aussage\\n Es regnet, und die Erde ist eine Scheibe\\nverneinen möchte, dann kann man entweder sagen\\n Es ist nicht der Fall, dass es regnet und die Erde eine Scheibe ist.\\noder man sagt\\n Es regnet nicht oder die Erde ist keine Scheibe (oder beides).\\n\\nIn der Schaltalgebra wird sehr oft der Junktor NAND verwendet, wobei „A NAND B“ denselben Wahrheitswertverlauf hat wie der Ausdruck .\\n\\nVerneinung einer Disjunktion \\nDie Verneinung der Disjunktion „A oder B (oder beides)“ (in der logischen Schreibweise: ) lautet „Es ist nicht der Fall, dass A oder B zutrifft“ (in logischer Schreibweise: ).\\nDiese ist logisch äquivalent mit der Aussage\\n„A ist nicht der Fall, und B ist nicht der Fall“ (in logischer Schreibweise: ).\\n\\nEin Beispiel:\\n\\nWenn man die Aussage\\n Die Erde ist eine Scheibe, oder die Erde ist ein Würfel.\\nverneinen möchte, so sagt man\\n Es ist nicht der Fall, dass die Erde eine Scheibe ist oder dass die Erde ein Würfel ist.\\nNach dem Gesetz von De Morgan kann man nun aber auch sagen:\\n Die Erde ist keine Scheibe, und die Erde ist kein Würfel\\noder in schönerem Deutsch\\n Die Erde ist weder eine Scheibe noch ein Würfel.\\n\\nIn der Schaltalgebra wird das Konnektiv NOR verwendet, das denselben Wahrheitswertverlauf hat wie die Aussage .\\n\\nHinreichende und notwendige Bedingung \\nDieser Abschnitt soll den zunächst oft als kontraintuitiv empfundenen Zusammenhang zwischen hinreichender und notwendiger Bedingung, wie er im Abschnitt über die materiale Implikation angesprochen wurde, wiederaufgreifen und näher ausführen.\\n\\nBetrachten wir noch einmal die materiale Implikation .\\n\\nMan sagt: A ist hinreichend für B: Schon wenn A der Fall ist, ist auch B der Fall.\\n\\nUmgekehrt kann man aber auch sagen: B ist notwendig für A. Ohne B kann A nicht erfüllt sein.\\n\\nWie kommt dieser Zusammenhang zustande?\\n\\nWir wissen, dass die Wahrheit von A die Wahrheit von B nach sich zieht, denn A ist ja hinreichende Bedingung für B. Somit ist es einfach nicht möglich, dass A eintritt, ohne dass B damit ebenfalls eintreten würde: B ist also gezwungenermaßen der Fall, wenn A der Fall ist. B ist „notwendig“ für A.\\n\\nDieser Zusammenhang ist in Wahrheit also ziemlich einfach; Hauptgrund dafür, dass er anfangs oft als kontraintuitiv empfunden wird, ist wahrscheinlich die Schwierigkeit, zwischen den vielen Bedeutungen des umgangssprachlichen „wenn … dann“ einerseits und der rein formalen hinreichenden und notwendigen Bedingung andererseits strikt zu trennen.\\n\\nMit dem umgangssprachlichen „wenn … dann“ möchte man fast immer einen inhaltlichen (kausalen oder auch temporalen) Zusammenhang zwischen Antecedens und Konsequens ausdrücken: „Regen verursacht Straßennässe“, „Zuerst fällt der Regen, erst nachher wird die Straße nass“. Wenn man die hinreichende Bedingung in diesem Sinn missversteht, dann ist es klar, dass die in umgekehrter Reihenfolge formulierte notwendige Bedingung „Nur wenn die Straße nass ist, regnet es“ seltsam aussieht: „Regen verursacht doch Straßennässe. Wie kann daraus je gefolgert werden, dass Straßennässe Regen verursacht?“\\n\\nAll dies sagt die materiale Implikation aber nicht aus. „A ist eine hinreichende Bedingung für B“ meint schlicht, dass wenn die Aussage A wahr ist, auch die Aussage B wahr ist – zeitlos und zusammenhanglos, nicht etwa „später“ oder „weil“.\\n\\nAnalog sagt die notwendige Bedingung, „B ist eine notwendige Bedingung für A“, lediglich das aus, dass B wahr ist, sofern A es ist. Genau das ist aber die Definition des Konditionals A → B.\\n\\nFormaler Zugang\\n\\nEinleitung \\nSpätestens beim lauten Lesen von Sätzen wie\\n\\n „Die Aussage  ist genau dann wahr, wenn die Aussagen A und B wahr sind“\\n\\nwird der selbstbewusste Laie verlangen, dass ihm erklärt wird, was das soll.\\n\\nDie Antwort des Logikers: Es soll versucht werden, Sicherheit in die Regeln des logischen Schließens zu bringen. Seit den Sophisten ist dem Abendland klar, dass scheinbar zwingende Schlüsse zu offensichtlich absurden Ergebnissen führen können. Immer wieder wurden Paradoxien formuliert und von großen Denkern als Herausforderung empfunden. Logiker versuchen deshalb, die Regeln des Argumentierens so streng wie möglich zu fassen.\\n\\nDas einleitende Beispiel macht klar, dass dazu eine Trennung der Sprachebenen unerlässlich ist: Die formale Aussage A∧B soll dadurch erklärt werden, dass auf einer metasprachlichen Ebene sowohl über die Aussage A als auch über die Aussage B geredet wird.\\n\\nEin Versuch, dies durchzuführen, besteht darin, die Aussagenlogik als formales System, konkret als Kalkül (eine bestimmte Art eines formalen Systems) zu definieren. Die Begriffe „wahr“ und „falsch“ kommen in diesem System zunächst überhaupt nicht vor. Stattdessen werden Axiome gesetzt, die einfach als Zeichenketten angesehen werden, aus denen weitere ableitbare Zeichenketten aufgrund von bestimmten Schlussregeln hergeleitet werden.\\n\\nDas Ziel dabei ist einerseits, dass in einem formalen System nur Zeichenketten (Sätze) hergeleitet werden können, die bei einer plausiblen Interpretation auch wahr sind. Andererseits sollen alle Sätze, die als „wahr“ interpretierbar sind, auch hergeleitet werden können. Das erste ist die Forderung nach Korrektheit, das zweite die nach Vollständigkeit des formalen Systems; beide Eigenschaften sind unter Kalkül: Der Begriff Kalkül in der Logik beschrieben.\\n\\nFür die klassische Aussagenlogik, mit der wir es hier zu tun haben, gibt es Kalküle (formale Systeme), die sowohl korrekt als auch vollständig sind. Für gewisse komplexere logische Systeme (z.\\xa0B. Mengenlehre) ist es aber unmöglich, einen vollständigen Kalkül aufzustellen, der auch korrekt ist; diese Erkenntnis wurde 1931 von Kurt Gödel bewiesen (Gödelscher Unvollständigkeitssatz).\\n\\nSyntax \\nEs gibt viele verschiedene Möglichkeiten, die Syntax („Grammatik“) einer logischen Sprache formal zu definieren; meist geschieht das im Rahmen eines Kalküls. Die folgende Definition ist daher nur als Beispiel dafür zu verstehen, wie ein Kalkül für die klassische Aussagenlogik aussehen kann. Weitere Beispiele für konkrete Kalküle finden sich unter Baumkalkül, Begriffsschrift, Systeme natürlichen Schließens, Sequenzenkalkül oder Resolutionskalkül. Ein weiterer axiomatischer Kalkül ist als Beispiel im Artikel Hilbert-Kalkül angegeben, ein graphischer Kalkül im Artikel Existential Graphs.\\n\\nBausteine der aussagenlogischen Sprache \\nAls Bausteine der aussagenlogischen Sprache sollen Satzbuchstaben („atomare Formeln“, Satzkonstanten), Junktoren und Gliederungszeichen verwendet werden. Satzbuchstaben sollen die Zeichen P0, P1, P2, … sein. Junktoren sollen die Zeichen ¬, ∧, ∨, → und ↔ sein. Als Gliederungszeichen sollen die runden Klammern dienen.\\n\\nFormal lässt sich das z.\\xa0B. auf folgende Weise ausdrücken:\\n\\nSei V die (abzählbar unendliche) Menge der atomaren Formeln (Satzbuchstaben):\\n\\n V = {Pn | n ∈ N0} (N0: Menge der natürlichen Zahlen inkl. 0), d.\\xa0h. V = {P0, P1, P2, P3, …}\\n\\nSei J die Menge der Junktoren und Gliederungszeichen:\\n\\n J = {¬, ∧, ∨, →, ↔, (, )}\\n\\nDas Alphabet der logischen Sprache sei die Menge V ∪ J, also die Vereinigungsmenge von atomaren Formeln, Junktoren und Gliederungszeichen.\\n\\nFormationsregeln \\nDie Formationsregeln legen fest, wie man aus den Bausteinen der aussagenlogischen Sprache Sätze (Formeln) bilden kann. Hier sollen aussagenlogische Formeln als Worte über dem Alphabet der logischen Sprache, also über V ∪ J wie folgt induktiv definiert werden:\\n\\n Alle atomaren Formeln F ∈ V (d.\\xa0h. alle Satzbuchstaben) sind Formeln.\\n Ist F eine Formel, so ist auch (¬F) eine Formel.(Diese Formel heißt Negation von F.)\\n Sind F und G zwei (nicht notwendigerweise unterschiedliche) Formeln, so ist auch (F ∧ G) eine Formel.(Diese Formel heißt Konjunktion von F und G.)\\n Sind F und G zwei (nicht notwendigerweise unterschiedliche) Formeln, so ist auch (F ∨ G) eine Formel.(Diese Formel heißt Disjunktion von F und G.)\\n Sind F und G zwei (nicht notwendigerweise unterschiedliche) Formeln, so ist auch (F → G) eine Formel.(Diese Formel heißt materiale Implikation oder Konditional von F und G.)\\n Sind F und G zwei (nicht notwendigerweise unterschiedliche) Formeln, so ist auch (F ↔ G) eine Formel.(Diese Formel heißt Bikonditional von F und G.)\\n Nichts anderes ist eine aussagenlogische Formel.\\n\\nSchlussregeln \\n\\nSchlussregeln sind allgemein Transformationsregeln (Umformungsregeln), die auf bestehende Formeln angewandt werden und aus ihnen neue Formeln erzeugen. Wenn man einen Kalkül für ein logisches System aufstellt, dann wählt man die Transformationsregeln so, dass sie aus bestehenden Formeln solche Formeln erzeugen, die aus den Ausgangsformeln semantisch folgen – deshalb die Bezeichnung „Schlussregel“ (eine Schlussfolgerung ziehen).\\n\\nInnerhalb der Syntax sind die Schlussregeln allerdings rein formale Transformationsregeln, denen für sich keinerlei inhaltliche Bedeutung zukommt.\\n\\nAn konkreten Schlussregeln sollen hier nur zwei angegeben werden: der Modus ponendo ponens und die Substitutionsregel.\\n\\n Modus ponendo ponens\\n Aus einem Satz der Form  und einem Satz der Form  darf man auf einen Satz der Form  schließen; dabei sind  und  Platzhalter für beliebige Formeln. Zum Beispiel darf man nach dieser Schlussregel aus „Wenn Regen die Straße benetzt, dann ist der Straßenbelag regennass“ und aus „Regen benetzt die Straße“ schließen auf „Der Straßenbelag ist regennass“.\\n\\n Substitutionsregel (Ersetzungsregel)\\n In einem Satz dürfen alle Vorkommnisse eines beliebigen Atoms (z.\\xa0B. „P“) durch einen beliebig komplexen Satz (z.\\xa0B. ) ersetzt werden. Es müssen dabei aber auch wirklich alle Vorkommnisse des gewählten Atoms ersetzt werden und sie müssen auch wirklich alle durch denselben Satz ersetzt werden.\\n Zum Beispiel darf mittels der Substitutionsregel aus  auf  geschlossen werden. Man sagt, P werde durch  ersetzt oder  werde für P substituiert (eingesetzt).\\n\\nAxiome \\n\\nAxiome sind ausgezeichnete (im Sinn von: hervorgehobene) Formeln der aussagenlogischen Sprache. Die Auszeichnung besteht darin, dass sie innerhalb eines Beweises oder einer Herleitung (siehe unten) ohne weitere Rechtfertigung verwendet werden.\\n\\nPragmatisch wählt man solche Formeln als Axiome, die semantisch gesehen Tautologien sind, also immer zutreffen, und die dabei helfen, Beweise zu verkürzen. Innerhalb der Syntax sind die Axiome allerdings rein formale Objekte, denen keinerlei inhaltliche Bedeutung oder Rechtfertigung zukommt.\\n\\nAxiome sind im Allgemeinen optional, d.\\xa0h., ein Kalkül kann auch ganz ohne Axiome auskommen, wenn er ausreichend viele bzw. mächtige Schlussregeln hat. Axiomfreie Kalküle sind zum Beispiel die Systeme natürlichen Schließens oder Baumkalküle.\\n\\nHier soll exemplarisch ein axiomatischer Kalkül gezeigt werden, und zwar Russells Aussagenkalkül aus seiner Typentheorie 1908, den er 1910 in die Principia Mathematica übernahm. Dieser Kalkül umfasst die folgenden Axiome (von denen das vierte redundant, d.\\xa0h. nicht unbedingt erforderlich ist, weil aus den anderen Axiomen herleitbar):\\n\\n \\n \\n \\n \\n \\n\\nUm aus diesen Axiomen auch solche gültigen Sätze herleiten zu können, die andere als die in den Axiomen vorkommende Junktoren enthalten, werden diese durch folgende Festlegung auf die vorhandenen Junktoren zurückgeführt:\\n\\n \\n \\n\\nAlternativ zu\\xa0– wie hier\\xa0– konkreten Axiomen kann man auch Axiomenschemata angeben, in welchem Fall man auch ohne Substitutionsregel auskommt. Interpretiert man die obigen Axiome als Axiomenschemata, dann stünde z.\\xa0B. das erste Axiomenschema, , für unendlich viele Axiome, nämlich alle Ersetzungsinstanzen dieses Schemas.\\n\\nHerleitung und Beweis \\n\\nEine Herleitung ist eine Liste von aufsteigend nummerierten Sätzen, die mit einer oder mehreren Annahmen (den Prämissen der Herleitung) oder Axiomen beginnt. Alle auf diese folgenden Sätze sind entweder ebenfalls Axiome (bei manchen Kalkülen sind auch weitere Annahmen zulässig) oder sind aus einer oder mehreren der vorangehenden Zeilen durch Anwendung von Schlussregeln entstanden. Der letzte Satz in der Liste ist die Konklusion der Herleitung.\\n\\nEine Herleitung ohne Prämissen heißt Beweis. Oft werden aber die Wörter „Herleitung“ und „Beweis“ synonym gebraucht.\\n\\nWenn es gelingt, aus einer Menge von Annahmen (Prämissen) Δ eine Konklusion P herzuleiten, dann schreibt man auch .\\n\\nGelingt es, einen Satz P ohne die Verwendung von Annahmen herzuleiten (zu beweisen), dann schreibt man auch: . In diesem Fall wird P Theorem genannt.\\n\\nDas Zeichen  geht auf die Begriffsschrift zurück, jenes Werk, in dem Gottlob Frege 1879 die erste Formalisierung der Prädikatenlogik angegeben hat.\\n\\nIn der klassischen Aussagenlogik wählt man die Schlussregeln so, dass sich mit ihrer Hilfe alle gültigen Argumente (und nur gültige Argumente) herleiten lassen; die Frage der Gültigkeit wird im folgenden Abschnitt, „Semantik“, behandelt.\\n\\nSemantik \\nAußerhalb der Logik bezeichnet Semantik ein Forschungsgebiet, das sich mit der Bedeutung von Sprache und deren Teilen befasst. Oft wird auch das Wort Semantik gleichbedeutend mit dem Wort Bedeutung verwendet.\\n\\nAuch innerhalb der Logik geht es bei Semantik um Bedeutung: Darum nämlich, den Ausdrücken einer formalen Sprache – zum Beispiel der hier behandelten Sprache der Aussagenlogik – eine Bedeutung zuzuordnen. In der Logik wird auch das meist sehr formal unternommen.\\n\\nIm Zentrum der (formalen) Semantik steht eine Auswertungsfunktion (andere Bezeichnungen lauten Bewertungsfunktion, Denotationsfunktion, Wahrheitswertefunktion), die den Formeln der logischen Sprache eine Bedeutung zuordnet. Formal gesprochen ist die Auswertungsfunktion eine Abbildung von der Menge der Formeln der Sprache in die Menge der Wahrheitswerte. Oft wird die Auswertungsfunktion mit dem Großbuchstaben V bezeichnet.\\n\\nIn der klassischen Aussagenlogik ist die Auswertungsfunktion sehr einfach: Das Prinzip der Zweiwertigkeit fordert, dass sie für jede zu bewertende Formel genau einen von genau zwei Wahrheitswerten liefern muss; und das Prinzip der Extensionalität fordert, dass die Bewertungsfunktion beim Bewerten eines komplexen Satzes nur die Bewertung von dessen Teilsätzen berücksichtigen muss.\\n\\nJedem Atom, also jedem Satzbuchstaben (Atom) wird durch Festsetzung ein Wahrheitswert zugeordnet. Man sagt: Die Atome werden interpretiert. Es wird also z.\\xa0B. festgelegt, dass P0 wahr ist, dass P1 falsch ist und dass P2 ebenfalls falsch ist. Damit ist der Bewertung der Bausteine der logischen Sprache Genüge getan. Formal ist eine solche Bewertung –\\xa0Interpretation genannt und oft mit dem Kleinbuchstaben v bezeichnet\\xa0– eine Funktion im mathematischen Sinn, d.\\xa0h. eine Abbildung von der Menge der Atome in die Menge der Wahrheitswerte.\\n\\nWenn die Auswertungsfunktion V auf ein Atom angewandt wird, d.\\xa0h. wenn sie ein Atom bewerten soll, liefert sie die Interpretation dieses Atoms im Sinn des obigen Absatzes. Mit anderen Worten, sie liefert den Wert, den die Bewertung v dem Atom zuordnet.\\n\\nUm die zusammengesetzten Formeln bewerten zu können, muss für jeden Junktor definiert werden, welchen Wahrheitswert die Bewertungsfunktion für die unterschiedlichen Wahrheitswertkombinationen liefert, den seine Argumente annehmen können. In der klassischen Aussagenlogik geschieht das meist mittels Wahrheitstabellen, weil es nur überschaubar wenige Möglichkeiten gibt.\\n\\nDer einstellige Junktor ¬, die Negation, ist in der klassischen Aussagenlogik so definiert, dass er den Wahrheitswert seines Arguments ins Gegenteil umkehrt, also „verneint“: Ist die Bewertung einer Formel X wahr, dann liefert die Bewertungsfunktion für ¬X falsch; wird aber X falsch bewertet, dann liefert die Bewertungsfunktion für ¬X wahr. Die Wahrheitstabelle sieht folgendermaßen aus:\\n\\nDie Wahrheitswertverläufe der verwendeten zweistelligen Konnektive sind in der klassischen Aussagenlogik wie folgt definiert:\\n\\nAllgemein gibt es für die klassische Aussagenlogik vier einstellige und sechzehn zweistellige Junktoren. Die hier behandelte logische Sprache beschränkt sich nur deshalb auf die Junktoren ¬, ∧, ∨, → und\\xa0↔, weil diese am gebräuchlichsten sind und weil sie auch inhaltlich noch am ehesten aus der Alltagssprache bekannt sind. Aus formaler Sicht ist die einzige Bedingung, die man bei der Wahl von Junktoren erfüllen möchte, die, dass sich mit den gewählten Junktoren auch alle anderen theoretisch möglichen Junktoren ausdrücken lassen; man sagt: Dass die Menge der gewählten Junktoren funktional vollständig ist. Diese Anforderung ist bei der hier getroffenen Wahl erfüllt.\\n\\nNäheres zur Frage, wie viele und welche Junktoren es gibt und wie viele Junktoren man benötigt, um funktionale Vollständigkeit zu erreichen, ist im Kapitel Junktor beschrieben.\\n\\nSemantische Gültigkeit, Tautologien \\nSemantische Gültigkeit ist eine Eigenschaft von Formeln oder von Argumenten. (Ein Argument ist die Behauptung, dass aus einigen Aussagen –\\xa0den Prämissen\\xa0– eine bestimmte Aussage –\\xa0die Konklusion\\xa0– folgt.)\\n\\nEine Formel der aussagenlogischen Sprache heißt genau dann semantisch gültig, wenn die Formel unter allen Interpretationen –\\xa0d.\\xa0h. unter allen Zuordnungen von Wahrheitswerten zu den in ihr vorkommenden Atomen\\xa0– wahr ist; wenn sie sozusagen allgemeingültig ist; mit anderen Worten: Wenn die Wahrheitstabelle für diese Aussage in jeder Zeile das Ergebnis wahr zeigt. Man nennt semantisch gültige Formeln auch Tautologien und schreibt, wenn  eine Tautologie ist, formal wie folgt:\\n \\n\\nEin Argument heißt genau dann semantisch gültig, wenn unter der Voraussetzung, dass alle Prämissen wahr sind, auch die Konklusion wahr ist. In der Formulierung von Gottfried Wilhelm Leibniz: Aus Wahrem folgt nur Wahres. Diese Definition muss natürlich ebenfalls formal gefasst werden, und das geschieht wie folgt: Ein Argument ist genau dann semantisch gültig, wenn alle Zuordnungen von Wahrheitswerten zu den in Prämissen und Konklusion vorkommenden Atomen, unter denen die Bewertungsfunktion für alle Prämissen den Wert wahr liefert, auch für die Konklusion den Wert wahr liefert.\\n\\nUm auszudrücken, dass aus einer Menge  von Formeln (der Prämissenmenge) eine Formel  (die Konklusion) semantisch folgt, schreibt man formal wie folgt:\\n\\nBeachte die graphische Ähnlichkeit und die inhaltliche Verschiedenheit zwischen  (Kapitel „Herleitung und Beweis“) und  (Siehe: Semantische Folgerung): Die erste Formulierung –\\xa0\\xa0– drückt die syntaktische Gültigkeit des Arguments aus, sagt also, dass aus den Formeln in  mit den Schlussregeln des gewählten Kalküls die Formel  hergeleitet werden kann.  hingegen behauptet die semantische Gültigkeit, die in der klassischen Aussagenlogik wie in den vorangegangenen Absätzen als das Leibniz’sche Aus Wahrem folgt nur Wahres definiert ist.\\n\\nWichtige semantische Eigenschaften: Erfüllbarkeit, Widerlegbarkeit und Unerfüllbarkeit \\n\\nNeben der Eigenschaft der Gültigkeit (Allgemeingültigkeit) gibt es einige andere wichtige Eigenschaften: Erfüllbarkeit, Widerlegbarkeit und Unerfüllbarkeit. Im Gegensatz zur Gültigkeit, die Eigenschaft von Formeln oder von Argumenten sein kann, sind Erfüllbarkeit, Widerlegbarkeit und Unerfüllbarkeit Eigenschaften von Sätzen oder von Satzmengen.\\n\\n Eine Formel heißt erfüllbar, wenn es mindestens eine Interpretation der in ihr vorkommenden Atome (Satzbuchstaben) gibt, unter der die Formel wahr ist.\\n Eine Formel heißt widerlegbar, wenn es mindestens eine Interpretation der in ihr vorkommenden Atome gibt, unter der die Formel falsch ist.\\n Eine Formel heißt unerfüllbar, wenn sie unter allen Interpretationen der in ihr vorkommenden Satzbuchstaben falsch ist.\\n Eine Formelmenge heißt erfüllbar, wenn alle in ihr enthaltenen Formeln erfüllbar sind.\\n\\nDie Frage, ob eine Formel (oder eine Formelmenge) eine der genannten Eigenschaften hat, ist ebenso wie die Frage, ob eine Formel allgemeingültig, d.\\xa0h. eine Tautologie ist, für allgemeine Formeln nicht effizient lösbar: Zwar ist die Wahrheitstafel ein Entscheidungsverfahren für jede dieser Fragen, doch umfasst eine Wahrheitstafel für eine Aussage bzw. eine Aussagemenge in n Atomen  Zeilen; das Wahrheitstafelverfahren ist nichts anderes als ein Brute-Force-Verfahren.\\n\\nJede dieser Fragestellungen kann auf die Frage zurückgeführt werden, ob eine bestimmte Formel erfüllbar ist:\\n Eine Formel  ist genau dann eine Tautologie, wenn  unerfüllbar ist.\\n Eine Formel  ist genau dann widerlegbar, wenn  erfüllbar ist.\\n\\nDie Frage, ob eine Aussage erfüllbar ist, wird Erfüllbarkeitsproblem oder SAT-Problem (nach dem englischen Wort für Erfüllbarkeit, satisfiability) genannt. Das SAT-Problem spielt eine wichtige Rolle in der theoretischen Informatik und Komplexitätstheorie. Das Erfüllbarkeitsproblem für allgemeine (beliebige) Formeln ist NP-vollständig, d.\\xa0h. (unter der Voraussetzung, dass P ungleich NP) nicht in polynomialer Laufzeit lösbar.\\n\\nFür bestimmte echte Teilmengen der Formeln der aussagenlogischen Sprache ist das SAT-Problem dennoch schneller, d.\\xa0h. in polynomial beschränkter Rechenzeit lösbar. Eine solche Teilmenge sind die Horn-Formeln, das sind Konjunktionen von Disjunktionen, deren Disjunkte verneinte oder unverneinte Atome sind, wobei innerhalb einer solchen Disjunktion allerdings höchstens ein Atom unverneint sein darf.\\n\\nAlgebraische Sicht \\nWenn man die Semantik betrachtet, die hier für die klassische Aussagenlogik aufgestellt wurde, dann erkennt man gewisse Gesetzmäßigkeiten. Wird z.\\xa0B. die Auswertungsfunktion auf eine Aussage der Form X ∧ W angewendet, wobei W eine beliebige wahre Aussage sein soll, dann stellt man fest, dass die Auswertungsfunktion für X ∧ W immer den Wahrheitswert wahr liefert, wenn V(X)=wahr ist (das heißt V(X∧W)=V(X)). Von der Struktur her gleichwertige Gesetzmäßigkeiten gelten auch in anderen Semantiken, auch in solchen, die für ganz andere, nichtlogische Systeme aufgestellt werden. Für die Arithmetik gilt z.\\xa0B., dass die dortige Bewertungsfunktion (hier VArithmetik genannt) für einen Ausdruck der Form X + Y immer den Wert von X liefert, sofern der Wert von Y null ist: VArithmetik(X+Y)=VArithmetik(X), wenn VArithmetik(Y) = null ist.\\n\\nEine formale Wissenschaft, die solche strukturellen Gesetzmäßigkeiten untersucht, ist die abstrakte Algebra (meist Teilgebiet der Mathematik, aber auch der Informatik). In der abstrakten Algebra wird zum Beispiel untersucht, für welche Verknüpfungen es ein neutrales Element gibt, d.\\xa0h. ein Element N, das für eine Verknüpfung op dazu führt, dass (für beliebiges X) gilt: X op N = X. So würde man aus algebraischer Sicht sagen, dass es für die klassische aussagenlogische Konjunktion genau ein neutrales Element gibt, nämlich wahr, und dass es für die Addition in der Arithmetik ebenfalls genau ein neutrales Element gibt, nämlich die Zahl Null. Nur am Rande sei erwähnt, dass es auch für andere Junktoren neutrale Elemente gibt; das neutrale Element für die Disjunktion ist falsch: V(X ∨ F) = V(X), wenn V(F)=falsch ist.\\n\\nDie formale Algebra betrachtet formale Semantiken rein nach ihren strukturellen Eigenschaften. Sind diese identisch, dann besteht zwischen ihnen aus algebraischer Sicht kein Unterschied. Aus algebraischer Sicht, genauer: Aus Sicht der formalen Algebra ist die Semantik für die klassische Aussagenlogik eine zweiwertige Boolesche Algebra. Andere formale Systeme, deren Semantiken jeweils eine Boolesche Algebra bilden, sind die Schaltalgebra und die elementare Mengenlehre. Aus algebraischer Sicht besteht daher zwischen diesen Disziplinen kein Unterschied.\\n\\nNormalformen \\nJede aussagenlogische Formel lässt sich in eine äquivalente Formel in\\nkonjunktiver Normalform und eine äquivalente Formel in\\ndisjunktiver Normalform umformen.\\n\\nMetatheorie \\n\\nIn der Metatheorie werden die Eigenschaften von logischen Systemen untersucht: Das logische System ist in der Metatheorie der Untersuchungsgegenstand.\\n\\nEine metatheoretische Fragestellung ist zum Beispiel die, ob in einem Kalkül ein Widerspruch hergeleitet werden kann.\\n\\nDer vorliegende Abschnitt soll einige wichtige metatheoretische Fragestellungen aus dem Blickwinkel der Aussagenlogik betrachten.\\n\\n Konsistenz\\n Ein Kalkül wird genau dann konsistent genannt, wenn es unmöglich ist, mit Hilfe seiner Axiome und Regeln einen Widerspruch herzuleiten, d.\\xa0h. eine Aussage der Form P ∧ ¬ P (z.\\xa0B. „Hugo ist groß, und Hugo ist nicht groß“). Für einen Kalkül, der in der Aussagenlogik verwendet werden soll, ist das eine Mindestanforderung.\\n Ist es in einem Kalkül möglich, einen Widerspruch herzuleiten, dann wird der Kalkül inkonsistent genannt.\\n Es gibt formale Systeme, in denen solch ein Widerspruch hergeleitet werden kann, die aber durchaus sinnvoll sind. Für solche Systeme wird ein anderer Konsistenzbegriff verwendet: Ein Kalkül ist konsistent, wenn in ihm nicht alle Formeln herleitbar sind (siehe parakonsistente Logik).\\n Es lässt sich leicht zeigen, dass für die klassische Logik die beiden Konsistenzbegriffe zusammenfallen: In der klassischen Logik lässt sich aus einem Widerspruch jeder beliebige Satz herleiten (dieser Sachverhalt wird Ex falso quodlibet genannt), d.\\xa0h. wenn ein klassischer Kalkül auch nur einen Widerspruch herleiten könnte, also im ersten Sinn inkonsistent wäre, dann könnte er jede Aussage herleiten, wäre also im zweiten Sinn inkonsistent. Wenn umgekehrt ein Kalkül inkonsistent im zweiten Sinn ist, also in ihm jede Aussage herleitbar ist, dann ist insbesondere auch jeder Widerspruch herleitbar und ist er auch inkonsistent im ersten Sinn.\\n\\n Korrektheit\\n Ein Kalkül heißt genau dann korrekt (semantisch korrekt), wenn in ihm nur solche Formeln hergeleitet werden können, die auch semantisch gültig sind. Für die klassische Aussagenlogik bedeutet das einfacher: Ein Kalkül ist genau dann korrekt, wenn in ihm nur Tautologien bewiesen und nur gültige Argumente hergeleitet werden können.\\n Ist es in einem aussagenlogischen Kalkül möglich, mindestens ein ungültiges Argument herzuleiten oder mindestens eine Formel zu beweisen, die keine Tautologie ist, dann ist der Kalkül inkorrekt.\\n\\n Vollständigkeit\\n Vollständig (semantisch vollständig) heißt ein Kalkül genau dann, wenn in ihm alle semantisch gültigen Formeln hergeleitet werden können; für die klassische Aussagenlogik: Wenn in ihm alle Tautologien hergeleitet werden können.\\n\\n Adäquatheit\\n Ein Kalkül heißt genau dann im Hinblick auf eine spezielle Semantik adäquat, wenn er (semantisch) korrekt und (semantisch) vollständig ist.\\n\\nEin metatheoretisches Resultat ist zum Beispiel die Feststellung, dass alle korrekten Kalküle auch konsistent sind. Ein anderes metatheoretisches Resultat ist die Feststellung, dass ein konsistenter Kalkül nicht automatisch korrekt sein muss: Es ist ohne weiteres möglich, einen Kalkül aufzustellen, in dem zwar kein Widerspruch hergeleitet werden kann, in dem aber z.\\xa0B. die nicht allgemeingültige Aussage der Form „A ∨ B“ hergeleitet werden kann. Ein solcher Kalkül wäre aus ersterem Grund konsistent, aus letzterem Grund aber nicht korrekt.\\n\\nEin weiteres, sehr einfaches Resultat ist die Feststellung, dass ein vollständiger Kalkül nicht automatisch auch korrekt oder nur konsistent sein muss. Das einfachste Beispiel wäre ein Kalkül, in dem jede Formel der aussagenlogischen Sprache herleitbar ist. Da jede Formel herleitbar ist, sind alle Tautologien herleitbar, die ja Formeln sind: Das macht den Kalkül vollständig. Da aber jede Formel herleitbar ist, ist insbesondere auch die Formel P0 ∧ ¬ P0 und die Formel A ∨ B herleitbar: Ersteres macht den Kalkül inkonsistent, letzteres inkorrekt.\\n\\nDas Ideal, das ein Kalkül erfüllen sollte, ist Korrektheit und Vollständigkeit: Wenn das der Fall ist, dann ist er der ideale Kalkül für ein logisches System, weil er alle semantisch gültigen Sätze (und nur diese) herleiten kann. So sind die beiden Fragen, ob ein konkreter Kalkül korrekt und/oder vollständig ist und ob es für ein bestimmtes logisches System überhaupt möglich ist, einen korrekten und vollständigen Kalkül anzugeben, zwei besonders wichtige metatheoretische Fragestellungen.\\n\\nAbgrenzung und Philosophie \\nDie klassische Aussagenlogik, wie sie hier ausgeführt wurde, ist ein formales logisches System. Als solches ist sie eines unter vielen, die aus formaler Sicht gleichwertig nebeneinander stehen und die ganz bestimmte Eigenschaften haben: Die meisten sind konsistent, die meisten sind korrekt, etliche sind vollständig, und einige sind sogar entscheidbar. Aus formaler Sicht stehen die logischen Systeme in keinem Konkurrenzverhalten hinsichtlich Wahrheit oder Richtigkeit.\\n\\nVon formalen, innerlogischen Fragen klar unterschieden sind außerlogische Fragen: Solche nach der Nützlichkeit (Anwendbarkeit) einzelner Systeme für einen bestimmten Zweck und solche nach dem philosophischen, speziell metaphysischen Status einzelner Systeme.\\n\\nDie Nützlichkeitserwägung ist die einfachere, bezüglich deren Meinungsunterschiede weniger tiefgehend bzw. weniger schwerwiegend sind. Klassische Aussagenlogik zum Beispiel bewährt sich in der Beschreibung elektronischer Schaltungen (Schaltalgebra) oder zur Formulierung und Vereinfachung logischer Ausdrücke in Programmiersprachen. Prädikatenlogik wird gerne angewandt, wenn es darum geht, Faktenwissen zu formalisieren und automatisiert Schlüsse daraus zu ziehen, wie das unter anderem im Rahmen der Programmiersprache Prolog geschieht. Fuzzy-Logiken, nonmonotone, mehrwertige und auch parakonsistente Logiken sind hochwillkommen, wenn es darum geht, mit Wissensbeständen umzugehen, in denen Aussagen mit unterschiedlich starkem Gewissheitsgrad oder gar einander widersprechende Aussagen abgelegt werden sollen und dennoch sinnvolle Schlüsse aus dem Gesamtbestand gezogen werden sollen. Auch wenn es je nach Anwendungsfall sehr große Meinungsunterschiede geben kann, welches logisches System besser geeignet ist, ist die Natur des Problems für alle Beteiligten unmittelbar und in gleicher Weise greifbar. Einzelwissenschaftliche Überlegungen und Fragestellungen spielen sich überwiegend in diesem Bereich ab.\\n\\n(Noch) kontroverser als solche pragmatischen Überlegungen sind Fragestellungen philosophischer und metaphysischer Natur. Geradezu paradigmatisch ist die Frage, „welches logische System richtig ist“, wobei „richtig“ hier gemeint ist als: Welches logische System nicht nur einen Teilaspekt der Wirklichkeit modellhaft vereinfacht, sondern die Wirklichkeit, das Sein als Ganzes adäquat beschreibt. Zu dieser Fragestellung gibt es viele unterschiedliche Meinungen einschließlich der vom philosophischen Positivismus eingeführten Meinung, dass die Fragestellung als Ganzes sinnlos ist.\\n\\nIn den Bereich metaphysischer Fragestellungen fällt auch die Frage, ob es so etwas wie ein metaphysisches Prinzip der Zweiwertigkeit gebe, ob also Aussagen über die Wirklichkeit durchgehend ins Schema wahr/falsch passen oder nicht. Diese Frage ist unabhängig von der Frage, ob die Beschäftigung mit zwei- oder mehrwertigen Logiken praktisch sinnvoll ist: Selbst wenn ein metaphysisches Prinzip der Zweiwertigkeit herrscht, könnte man anwendungspraktisch mehrwertige Logiken nützen, etwa dazu, epistemische Sachverhalte zu fassen, zum Beispiel aus Aussagen zu schließen, die zwar metaphysisch wahr oder falsch sind, von denen aber nicht oder noch nicht bekannt ist, welches von beidem der Fall ist. Umgekehrt kann man auch dann, wenn ein solches metaphysisches Prinzip nicht gilt, zweiwertige Logik wegen ihrer Einfachheit für solche Anwendungen bevorzugen, bei denen nur mit solchen Sätzen umgegangen werden muss, die tatsächlich wahr oder falsch sind.\\n\\nDie Frage nach einem metaphysischen Prinzip der Zweiwertigkeit ist wie die meisten metaphysischen Fragen nicht endgültig zufriedenstellend beantwortet. Ein früher Einwand gegen ein solches Prinzip, den Aristoteles zur Diskussion stellte, war das Thema der Aussagen über zukünftige Sachverhalte („Morgen wird es regnen“). Wenn Aussagen über Zukünftiges schon heute wahr oder falsch wären, so wird argumentiert, dann müsse die Zukunft bis ins letzte Detail vorbestimmt sein. Ein anderer Einwand, der vorgebracht wird, ist, dass es Aussagen gibt, deren Wahrheit praktisch oder theoretisch nicht festgestellt werden kann – zum Beispiel lässt sich die Wahrheit von „Der Rasen vor dem Weißen Haus bestand am 1. Februar 1870 aus genau 6.120.375,4 Grashalmen“ einfach nicht feststellen.\\n\\nBefürworter eines metaphysischen Zweiwertigkeitsprinzips berufen sich oft auf das Verhalten von Metatheoretikern, also von Mathematikern oder Logikern, die Aussagen über formale Systeme treffen: Egal wie mehrwertig oder nichtklassisch das untersuchte System ist, die dabei getroffenen Metavermutungen, Metabehauptungen und Metafeststellungen sind immer zweiwertig: Ein Kalkül, auch ein parakonsistenter oder nonmonotoner, wird immer als entweder konsistent oder inkonsistent betrachtet, und ein logisches System ist immer entweder korrekt oder inkorrekt, vollständig oder nicht vollständig, entscheidbar oder unentscheidbar, niemals „ein bisschen“ von beidem. Befürworter deuten das als Hinweis darauf, dass es in der Wirklichkeit tatsächlich eine strenge Unterscheidung nach wahr und falsch gebe oder dass es zumindest sinnvoll ist, eine solche anzunehmen.\\n\\nEine andere philosophische Fragestellung ist die nach dem metaphysischen Status des Untersuchungsgegenstands der Logik, also danach, was logische Systeme, Kalküle, Wahrheitswerte eigentlich „sind“.\\n\\nDer platonische Standpunkt besteht darin, dass die in der Logik verwendeten Zeichen und Konstrukte eine außerlogische Bedeutung haben, dass sie Namen für real existierende (wenn auch natürlich nicht-physikalische) Gegenstände sind. In diesem Sinn gäbe es so etwas wie das Wahre und das Falsche, abstrakte Gegenstände, die von den Zeichen „wahr“ und „falsch“ benannt werden.\\n\\nDer Gegenpol zum Platonismus wäre der Nominalismus, der Existenz nur den Zeichen zuspricht, die in der Logik manipuliert werden. Gegenstand der Logik sind Zeichen, und die Tätigkeit der Logiker ist die Manipulation von Zeichen. Die Zeichen bezeichnen aber nichts, so etwas wie das Wahre oder das Falsche gibt es also nicht. Im Grundlagenstreit der Mathematik entspräche der nominalistischen Position die formalistische Richtung.\\n\\nEine Mittelstellung nähme der philosophische Konstruktivismus ein, demzufolge die Zeichen zwar keine unabhängig existierenden Gegenstände bezeichnen, durch den Umgang mit den Zeichen aber Gegenstände konstruiert werden.\\n\\nLiteratur \\n Jon Barwise, John Etchemendy: The Language of First Order Logic (= CSLI Lecture Notes. Bd. 23). 2. Auflage, revised and expanded. Center for the Study of Language and Information, Stanford CA 1991, ISBN 0-937073-74-1.\\n Ansgar Beckermann: Einführung in die Logik. 2., neu bearbeitete und erweiterte Auflage. de Gruyter, Berlin u.\\xa0a. 2003, ISBN 3-11-017965-2.\\n Karel Berka, Lothar Kreiser: Logik-Texte. Kommentierte Auswahl zur Geschichte der modernen Logik. 4., gegenüber der 3., erweiterte, durchgesehene Auflage. Akademie-Verlag, Berlin 1986.\\n Wolfgang Detel: Grundkurs Philosophie. Band 1: Logik (= Universal-Bibliothek. Nr. 18468). Reclam, Stuttgart 2007, ISBN 978-3-15-018468-4.\\n Wilfrid Hodges: Logic. Penguin Books, Harmondsworth 1977, ISBN 0-14-021985-4 (2. Auflage. ebenda 2001 ISBN 0-14-100314-6).\\n Rüdiger Inhetveen: Logik. Eine dialog-orientierte Einführung (= Eagle. Bd. 2). Edition am Gutenbergplatz, Leipzig 2003, ISBN 3-937219-02-1.\\n E. J. Lemmon: Beginning Logic. Nelson, London 1965 (2. Auflage. Chapman & Hall, London 1987, ISBN 0-412-38090-0).\\n Wesley C. Salmon: Logik. (= Universal-Bibliothek. Nr. 7996). Reclam Stuttgart 1983, ISBN 3-15-007996-9.\\n\\nWeblinks \\n\\n \\n Christian Spannagel: Aussagen- und Prädikatenlogik. Vorlesungsreihe, 2012.\\n\\nEinzelnachweise \\n\\nSprachphilosophie',\n",
       "  1),\n",
       " ('\\n\\nAa \\n Bertus Aafjes (1914–1993), NL\\n Jeppe Aakjær (1866–1930), DK\\n Johannes Aal (um 1500–1551), CH\\n Hans Aanrud (1863–1953), NO\\n Emil Aarestrup (1800–1856), DK\\n Soazig Aaron (* 1949), FR\\n Ivar Aasen (1813–1896), NO\\n\\nAb \\n Petrus Abaelardus (1079–1142), FR\\n Sait Faik Abasıyanık (1906–1954), TR\\n Lynn Abbey (* 1948), US\\n Jacob Abbott (1803–1879), US\\n John Stevens Cabot Abbott (1805–1877), US\\n Abdullah bin Abdul Kadir (1795–1852), MAL\\n Abe Kōbō (1924–1993), JP\\n Rebecca Abe (* 1967), D\\n Hans Karl Abel (1876–1951), D\\n Curt Abel-Musgrave (1860–1938), D, GB, USA\\n Matthias Abele von und zu Lilienberg (1616/1618–1677), AT\\n Joe Abercrombie (* 1974), GB\\n Walter Abish (1931–2022), US\\n Hermann Able (1930–2013), D\\n Dan Abnett (* 1965), GB\\n Abraham a Sancta Clara (1644–1709), D\\n Peter Abraham (1936–2015), D\\n Peter Abrahams (1919–2017), ZA\\n M. H. Abrams (1912–2015), US\\n Hans Aßmann Freiherr von Abschatz (1646–1699), D\\n Dannie Abse (1923–2014), GB\\n Leo Abse (1917–2008), GB\\n Alexander Abusch (1902–1982), D\\n\\nAc \\n Chinua Achebe (1930–2013), NG\\n Anna Maria Achenrainer (1909–1972), AT\\n Franz Heinrich Achermann (1881–1946), CH\\n Arthur Achleitner (1858–1927), D\\n Friedrich Achleitner (1930–2019), AT\\n Bella Achmadulina (1937–2010), RUS\\n Anna Achmatowa (1889–1961), RUS\\n Willi Achten (* 1958), D\\n Herbert Achternbusch (1938–2022), D\\n Thomas Achtzehner (* 1964), D\\n André Aciman (* 1951), US\\n Joan Acker (1924–2016), US\\n Kathy Acker (1947–1997), US\\n J. R. Ackerley (1896–1967), US\\n Forrest J. Ackerman (1916–2008), US\\n Peter Ackroyd (* 1949), GB\\n Isabell Hohmann (geb. Ackermann) (* 1979), D\\n Walter Ackermann (1903–1939), D\\n Jürg Acklin (* 1945), CH\\n Mercedes de Acosta (1893–1968), US\\n Harold Acton (1904–1994), GB\\n\\nAd \\n Gilbert Adair (1944–2011), GB\\n Barry Adam (* 1952), CAN\\n Engelbert Adam (1850–1919), D\\n Max Adam (* 1952), D\\n Friedrich Wilhelm Adami (1816–1893), D\\n Louis Adamic (1899–1951), US\\n Arthur Adamov (1908–1970), FR\\n Don Adams (* 1926), US\\n Douglas Adams (1952–2001), GB\\n Henry Adams (1838–1918), US\\n Léonie Adams (1899–1988), US\\n Nene Adams (1966–2015), US\\n Richard Adams (1920–2016), GB\\n Fleur Adcock (* 1934), NZ/GB\\n Joseph Addison (1672–1719), GB\\n Uri Adelman (1958–2004), IL\\n Jacques d’Adelswärd-Fersen (1880–1923), FR\\n Leonhard Adelt (1881–1945), D\\n Amal Aden (* 1983), NORW/SOMALIA\\n Aravind Adiga (* 1974), IN\\n Halide Edip Adıvar (1884–1964), TR\\n Alfred Adler (1870–1937), AT\\n Detlev P. Adler (* 1956), D\\n Hans Adler (1880–1957), AT\\n Hans Günther Adler (1910–1988), CZ\\n Katharina Adler (Autorin) (* 1980), D\\n Katharina Adler (Publizistin) (1919–2010), D\\n Paul Adler (1878–1946), CZ / D\\n Jussi Adler-Olsen (* 1950), DK\\n Eufemia von Adlersfeld-Ballestrem (1854–1941), D\\n Roland Adloff (* 1956), D\\n Karl Adolph (1869–1931), AT\\n Rudolf Adolph (1900–1984), D\\n Jorge Enrique Adoum (1926–2009), EC\\n Endre Ady (1877–1919), HU\\n\\nAe \\n Eva Björg Ægisdóttir (* 1988), IS\\n Alphons Aeby (1885–1941), CH\\n Uli Aechtner (* 1952), D\\n Hermann Aellen (1887–1939), CH\\n Æmilie Juliane von Barby-Mühlingen (1637–1706), D\\n Aeschylus (525–456 v. Chr.), GR\\n\\nAf \\n Horst Afheldt (1924–2016), D\\n Tatamkhulu Afrika (1920–2002), ZA\\n\\nAg \\n Giorgio Agamben (* 1942), IT\\n James Agee (1909–1955), US\\n Joel Agee (* 1940), US\\n Samuel Agnon (1888–1970), IL\\n Dritëro Agolli (1931–2017), AL\\n Alfhild Agrell (1849–1923), SE\\n Rudolf Agricola (≈1444–1485), D\\n Rudolf Agstner (1951–2016), AT\\n João Aguiar (1943–2010), PT\\n Maurice Agulhon (1926–2014), FR\\n\\nAh \\n Jerry Ahern (* 1946), US\\n Luise Ahlborn (1834–1921), D\\n Charlotte von Ahlefeld (1781–1849), D\\n Lars Ahlin (1915–1997), SE\\n Per Ahlmark (1939–2018), SE\\n Leopold Ahlsen (1927–2018), D\\n Muniruddin Ahmed (1934–2019), PAK\\n Ahn Jung-hyo (1941–2023), ROK\\n Juhani Aho (1861–1921), FIN\\n Martin Ahrends (* 1951), D\\n Barbara Ahrens (* 1945), D\\n Henning Ahrens (* 1964), D\\n\\nAi \\n Wilhelmine Maria Aichbichler (1904–2002), AT\\n Wolf von Aichelburg (1912–1994), D\\n Inge Aicher-Scholl (1917–1998), D\\n Ilse Aichinger (1921–2016), AT\\n Christoph Wilhelm Aigner (* 1954), AT\\n Conrad Aiken (1889–1973), USA\\n Joan Aiken (1924–2004), GB\\n Matti Aikio (1872–1929), NO\\n Zhang Ailing (1920–1995), CHN\\n Pierre d’Ailly (1351–1420), FR\\n César Aira (* 1949), ARG\\n Rennie Airth (* 1935), ZA\\n Aischylos (525 v.C.–455 v.C.), GR\\n Dietmar von Aist (1140–1171), AT\\n Tschynggys Aitmatow (1928–2008), KIG\\n\\nAj \\n Émile Ajar (1914–1980), FR\\n J. F. Ade Ajayi (1929–2014), NGA\\n Gennadi Ajgi (1934–2006), RUS\\n\\nAk \\n Taner Akçam (* 1953), TR\\n Alan Burt Akers (Kenneth Bulmer; 1921–2005), GB\\n Tim Akers (* 1972), US\\n Doğan Akhanlı (1957–2021), TR / D\\n Kostas Akrivos (* 1958), GR\\n Wassili Aksjonow (1932–2009), RUS\\n Boris Akunin (* 1956), RUS\\n Akutagawa Ryūnosuke (1892–1927), JPN\\n\\nAl\\n\\nAla–Alb \\n Leopoldo Alas Mínguez (1962–2008), SP\\n Muhammad al-Hasan al-Hamdani (900–945), YE\\n Abdullah al-Harari (1910–2008), ET\\n Mohammed Abed Al Jabri (1936–2010), MAR\\n Abū l-ʿAlāʾ al-Maʿarrī (973–1057), SYR\\n Abu Bakr Mohammad Ibn Zakariya al-Razi (864–930), (IR) (Perser)\\n Alain-Fournier (1886–1914), FR\\n Rabih Alameddine (* 1959), Libanon\\n Yahya Alavi fard (* 1973), IR\\n Jessica Marie Alba (* 1981), US\\n David Albahari (1948–2023), SCG\\n Edward Albee (1928–2016), US\\n Paul Albers (1852–1929), D\\n Hans Albert (1921–2023), D\\n Heinrich Albert (1604–1641), D\\n Michael Albert (1836–1893), D\\n Konrad Alberti (1862–1918), D\\n Rafael Alberti (1903–1999), ES\\n Aegidius Albertinus (1560–1620), D\\n Jürgen Alberts (* 1946), D\\n Elisabeth Albertsen (* 1942), D\\n Johann Georg Albini (1624–1679), D\\n Johann Georg Albini der Jüngere (1659–1714), D\\n Hermann Anton Albrecht (1835–1906), D\\n Johann Friedrich Ernst Albrecht (1752–1814), D\\n Paul Albrecht (1863–nach 1935), D\\n Sophie Albrecht (1757–1840), D\\n Madeleine Albright (1937–2022)\\n\\nAlc–Alg \\n Louisa May Alcott (1832–1888), US\\n Alan Alda (* 1936), US\\n Hanny Alders (1946–2010), NL\\n Richard Aldington (1892–1962), GB\\n Brian W. Aldiss (1925–2017), GB\\n Thomas Bailey Aldrich (1836–1907), US\\n Vicente Aleixandre (1898–1984), ES\\n Scholem Alejchem (1859–1916), UA\\n Mateo Alemán (1547–1609?), ES\\n José de Alencar (1829–1877), BR\\n Elisabeth Alexander (1922–2009), D\\n Lloyd Alexander (1924–2007), US\\n Swetlana Alexijewitsch (* 1948), BY\\n Willibald Alexis (1798–1871), D\\n Stephan Alfare (* 1966), AT\\n Isaak Alfasi (1013–1103)\\n Vittorio Alfieri (1749–1803), IT\\n Susanne Alge (1958–2022), AT\\n Luise Algenstaedt (1861–1947), D\\n Nelson Algren (1909–1981), US\\n\\nAli–Alz \\n Sabahattin Ali (1907–1948), TR\\n Tariq Ali (* 1943), GB\\n Dante Alighieri (1265–1321), I\\n Gabrielle Alioth (* 1955), CH\\n Archibald Alison (1757–1839), GB\\n Marcel Allain (1885–1969), FR\\n Alphonse Allais (1854–1905), FR\\n Ove Allansson (1932–2016), SE\\n Henri Alleg (1921–2013), FR / DZ\\n Urs Allemann (* 1948), CH\\n Richard Allen (eigentlich James Moffat; 1922–1993), GB\\n Roger MacBride Allen (* 1957), US\\n Steve Allen (1921–2000), US\\n Woody Allen (* 1935), US\\n Isabel Allende (* 1942), CHL\\n Kristiane Allert-Wybranietz (1955–2017), D\\n Manfred Allié (* 1955), D\\n Margery Allingham (1904–1966), GB\\n William Allingham (1828?–1889), IRL\\n Dorothy Allison (* 1949), USA\\n Pierre Allix (1641–1717), FR\\n Karl Allmendinger (1863–1946), D\\n Hermann Allmers (1821–1902), D\\n Aaron Allston (1960–2014), US\\n Washington Allston (1779–1843), US\\n David Almond (* 1951), GB\\n Carl Jonas Love Almqvist (1793–1866), SE\\n Schulamit Aloni (1928–2014), IL\\n Hans Joachim Alpers (1943–2011), D\\n Rebecca Alpert (* 1950), USA\\n Ellen Alpsten (* 1971), EAK / D\\n Hilton Als (* 1960), US\\n Otto Alscher (1880–1944), AT\\n Franz Alt (* 1938), D\\n Çetin Altan (1927–2015), TR\\n Peter Altenberg (1859–1919), D\\n Matthias Altenburg (* 1958), D\\n Ludwig Altenhöfer (1921–1974), D\\n Peter Paul Althaus (1892–1965), D\\n Lisa Alther (* 1944), US\\n Louis Althusser (1918–1990), FR\\n René Altmann (1929–1978), CH / AT\\n Anna Altschuk (1955–2008), RUS\\n Noel Alumit (* 1968), USA/Philippinen\\n Elmar Altvater (1938–2018), D\\n Volker H. Altwasser (* 1969), D\\n Julia Alvarez (* 1950), DOM / US\\n Fernão Álvares do Oriente (1530/40–1595/1607), PT\\n Ludwig von Alvensleben (1800–1868), D\\n Betti Alver (1906–1989), EST\\n Paul Alverdes (1897–1979), D\\n Katja Alves (* 1961), CH\\n Götz Aly (* 1947), D\\n\\nAm \\n George Amabile (* 1936), CAN\\n Jorge Amado (1912–2001), BR\\n Andrej Amalrik (1938–1980), RUS\\n Jürg Amann (1947–2013), CH\\n Gerhard Amanshauser (1928–2006), AT\\n Martin Amanshauser (* 1968), AT\\n Amaru (6.–8. Jh.), IND\\n Axel von Ambesser (1910–1988), D\\n Ingvar Ambjørnsen (* 1956), NOR\\n Eric Ambler (1909–1998), GB\\n Kai Ambos (* 1965), D\\n Francis Ambrière (1907–1998), FR\\n Gustinus Ambrosi (1893–1975), AT\\n Gerhard Amendt (* 1939), D\\n Günter Amendt (1939–2011), D\\n Carl Amery (1922–2005), D\\n Jean Améry (1912–1978), AT\\n Jehuda Amichai (1924–2000), IL\\n Samir Amin (1931–2018), EGY\\n Aharon Amir (1923–2008), ISR\\n Kingsley Amis (1922–1995), GB\\n Martin Amis (1949–2023), GB\\n Daniel Amor (* 1973), CH\\n Roberto Ampuero (* 1953), Chile\\n Djamel Amrani (1935–2005), DZ\\n Nicole Amrein (* 1970), CH\\n Gerhard von Amyntor (1831–1910), AT\\n\\nAn\\n\\nAna–And \\n Heinrich Anacker (1901–1971), CH\\n Manolis Anagnostakis (1925–2005), GR\\n Rudolfo Anaya (1937–2020), US\\n Eugen Andergassen (1907–1987), AT\\n Charlie Jane Anders (* 1969), US\\n Günther Anders (1902–1992), AT\\n Richard Anders (1928–2012), D\\n Alfred Andersch (1914–1980), D\\n Hans Christian Andersen (1805–1875), DK\\n Lale Andersen (1905–1972), D\\n Martin Andersen Nexø (1869–1954), DK\\n Kevin J. Anderson (* 1962), US\\n Poul Anderson (1926–2001), US\\n Sascha Anderson (* 1953), D\\n Sherwood Anderson (1876–1941), US\\n Gail Anderson-Dargatz (* 1963), CDN\\n Dan Andersson (1888–1920), SE\\n Reinhold Andert (* 1944), D\\n Emma Andijewska (* 1931), UA\\n Carlos Drummond de Andrade (1902–1987), BR\\n Mário de Andrade (1893–1945), BR\\n Oswald de Andrade (1890–1954), BR\\n Oswald Andrae (1926–1997), D\\n Marie Andrae-Romanek (1854–?), D\\n Johann Valentin Andreae (1586–1654), D\\n Wilhelm Andreae (1822–1872), D\\n Fred Andreas (1898–?), D\\n Lou Andreas-Salomé (1861–1937), D\\n Stefan Andres (1906–1970), D\\n Andreas Andresen (1828–1871), D\\n V. C. Andrews (1923–1986), US\\n Leopold Andrian (1875–1951), AT / FL\\n Ivo Andrić (1892–1975), SCG\\n Hartmut Andryczuk (* 1957), D\\n Jerzy Andrzejewski (1909–1983), PL\\n\\nAne–Anz \\n Aneirin (≈525–600), GB\\n Angelo Anelli (1761–1820), IT\\n A. Rosa Anemon (* 1952)\\n Maya Angelou (1928–2014), US\\n Angelus Silesius (1624–1677), D \\n Arnold Angenendt (1934–2021), D\\n August Angenetter (1876–1944), AT\\n Fred Antoine Angermayer (1889–1951), AT\\n Gustl Angstmann (1947–1998), D\\n Friedrich Ani (* 1959), D\\n Mathilde Franziska Anneke (1817–1884), D / US\\n Hedwig Anneler (1888–1969), CH\\n Gabriele D’Annunzio (1863–1938), IT\\n Jean Anouilh (1910–1987), FR\\n Albert Otto Anschütz (1890–1945), AT\\n Elizabeth Anscombe (1919–2001), GB\\n Salomon An-ski (1863–1920), RUS\\n Otto Anthes (1754–≈1806), D\\n Mark Anthony (* 1966), US\\n Piers Anthony (* 1934), GB\\n Antiphanes (408v.C.–?), GR\\n Alfred Antkowiak (1925–1976), D\\n Helga Anton (1923–2007), D\\n Michelangelo Antonioni (1912–2007), IT\\n Anton Ulrich (Braunschweig-Wolfenbüttel) (1633–1714), D\\n Donald Antrim (* 1958), US\\n António Lobo Antunes (* 1942), PT\\n Christopher Anvil (1925–2009), US\\n Oskar Anwand (1872–1946), D\\n Chairil Anwar (1922–1949), RI\\n Gloria Anzaldúa (1942–2004), US\\n Johann Anzengruber (1810–1844), AT\\n Ludwig Anzengruber (1839–1889), AT\\n\\nAp \\n August Apel (1771–1816), D\\n Hans Apel (1932–2011), D\\n Bruno Apitz (1900–1979), D\\n Guillaume Apollinaire (1880–1918), FR\\n Apollodor von Athen (≈175 v. Chr.), GR\\n Apollonios von Rhodos (295–215 v. Chr.), GR\\n Aharon Appelfeld (1932–2018), IL\\n Johann Conrad Appenzeller (1775–1850), CH\\n Anne Applebaum (* 1964), US / PL\\n\\nAr\\n\\nAra–Arm \\n Louis Aragon (1897–1982), FR\\n Kurt Aram (1869–1934), D\\n Matilde Rosa Araújo (1921–2010), PT\\n John Arbuthnot (1667–1735), GB\\n Jeffrey Archer (* 1940), GB\\n Archilochos (≈650 v. Chr.–?), GR\\n John Arden (1930–2012), GB\\n Reinaldo Arenas (1943–1990), CU\\n Erich Arendt (1903–1984), D\\n Hannah Arendt (1906–1975), D / US\\n Birgitta Arens (* 1948), D\\n Detlev Arens (* 1948), D\\n Walter Conrad Arensberg (1878–1954), US\\n Wilhelm Arent (1864–19**), D\\n Ewald Arenz (* 1965), D\\n Karl Otmar von Aretin (1923–2014), D\\n Pietro Aretino (1492–1556), IT\\n Tudor Arghezi (1880–1967), RO\\n Philippe Ariès (1914–1984), FR\\n Ludovico Ariosto (1474–1533), IT\\n Aristainetos (5. Jh.), GR\\n Aristophanes († um 380 v. Chr.), GR\\n Aristoteles (384–322), GR\\n Jakob Arjouni (1964–2013), D\\n Marcel Arland (1899–1986), FR\\n Renato Arlati (1936–2005), CH\\n Roberto Arlt (1900–1942), RA\\n Friedrich Wilhelm Arming (1805–1864), AT / US\\n Wilhelm Arminius (1861–1917), D\\n Kelley Armstrong (* 1968), CAN\\n\\nArn–Arz \\n Frank Arnau (1894–1976), AT\\n Ernst Moritz Arndt (1769–1860), D\\n Johann Arndt (1555–1621), D\\n Martin von Arndt (* 1968), D\\n Edwin Arnet (1901–1962), CH\\n Hermann Arnhold (1921–1991), RU/D\\n Achim von Arnim (1781–1831), D\\n Bettina von Arnim (1785–1859), D\\n Gisela von Arnim (1827–1889), D\\n Gottfried Arnold (1666–1714), D\\n Hans Arnold (1886–1961), D\\n Heinz Ludwig Arnold (1940–2011), D\\n Johann Georg Daniel Arnold (1780–1829), D\\n Johannes Arnold (1928–1987), D\\n Matthew Arnold (1822–1888), GB\\n Paul Johannes Arnold (1884–?), D\\n Wolf-Rüdiger Arnold, auch Wolf Arnold (* 1939), D\\n Paul-Alexandre Arnoux (1884–1973), FR\\n Benedikt Arnstein (1761–1841), AT\\n Jean-Paul Aron (1925–1988), FR\\n Raymond Aron (1905–1983), FR\\n Hans Arp (1887–1966), D / FR\\n Fernando Arrabal (* 1932)\\n Dschalāl ad-Dīn ar-Rūmī (1207–1273), IR\\n Kaan Arslanoğlu (* 1959), TR\\n Antonin Artaud (1896–1948), FR\\n Elizabeth Arthur (* 1953), US\\n H. C. Artmann (1921–2000), AT\\n Newton Arvin (1900–1963), USA\\n Dan Ar Wern (* 1952), FR\\n Cäsar von Arx (1895–1949), CH\\n Thomas Arzt (* 1983)\\n\\nAs \\n Catherine Asaro (* 1955), US\\n Wilhelm Ernst Asbeck (1881–1947), D\\n Schalom Asch (1880–1957), PL / US\\n Udo Aschenbeck (1939–1995), D\\n Hans Aschenborn (1888–1931), D\\n Eva Aschenbrenner (1924–2013), D\\n Robert Ascher (1883–1933), A\\n Saul Ascher (1767–1822), D\\n Charles Robert Ashbee (1863–1942), GB\\n John Ashbery (1927–2017), US\\n Isaac Asimov (1920–1992), US\\n Janet Asimov (1926–2019), US\\n Katrin Askan (* 1966), D\\n Alexander Askoldow (1932–2018), RUS\\n Herbert Asmodi (1923–2007), D\\n Georg Asmussen (1856–1933), D\\n Ruth Aspöck (* 1947), A\\n Robert Lynn Asprin (1946–2008), US\\n Nikolaj Assejew (1889–1963), RUS\\n David Assing (1787–1842), D\\n Ludmilla Assing (1821–1880), D\\n Rosa Maria Assing (1782–1840), D\\n Ottilie Assing (1821–1884), D\\n Joaquim Maria Machado de Assis (1839–1908), BR\\n Hans Assmann Freiherr von Abschatz (1645–1699), D\\n David Jakob Assur (1810–1869), D\\n Wiktor Petrowitsch Astafjew (1924–2001), RUS\\n Arnfrid Astel (1933–2018), D\\n Sean Astin (* 1971), US\\n Thea Astley (1925–2004), AUS\\n Louise Aston (1814–1871), D\\n John Jacob Astor IV (1864–1912), US\\n Miguel Ángel Asturias (1899–1974), GCA (Guatemalteke)\\n Ala al-Aswani (* 1957), EGY\\n\\nAt \\n Oğuz Atay (1934–1977), TR\\n Gertrude Atherton (1857–1948), US\\n Kate Atkinson (* 1951), GB\\n Yağmur Atsız (* 1939), TR\\n Fariduddin Attar (1136 [?]–1221 [?]), IR\\n Per Atterbom (1790–1855), SE\\n Margaret Atwood (* 1939), CND\\n\\nAu \\n Annemarie in der Au (1924–1998), D\\n Max Aub (1903–1972), E\\n Brigitte Aubert (* 1956), F\\n Théodore Agrippa d’Aubigné (1552–1630), F\\n Victor Auburtin (1870–1928), D\\n Wystan Hugh Auden (1907–1973), GB\\n Jacques Audiberti (18991965), F\\n Jakob Audorf (1835–1898), D\\n Hartmann von Aue (1170–1220), D\\n Jean M. Auel (* 1936), US\\n Ludwig Auer (1839–1914), D\\n Margit Auer (* 1967), D\\n Martin Auer (* 1951), A\\n Richard Auer (* 1965), D\\n Alfred Auerbach (1873–1954), D\\n Berthold Auerbach (1812–1882), D\\n Ludwig Auerbach (1840–1882), D\\n Raoul Auernheimer (1876–1948), A\\n Joseph von Auffenberg (1798–1857), D\\n August Augspurger (1620–1675), D\\n August der Jüngere (Braunschweig–Wolfenbüttel) (1579–1666), D\\n Ernst Augustin (1927–2019), D\\n Ferdinand von Augustin (1807–1861), A\\n Waldemar Augustiny (1897–1979), D\\n Anton Aulke (1887–1974), D\\n Reinhold Aumaier (* 1953), A\\n Ludwig Aurbacher (1784–1847), D\\n Rose Ausländer (1901–1988), D\\n Ausonius (310 [?]–393 [?])\\n Jane Austen (1775–1817), GB\\n Paul Auster (* 1947), US\\n Rose Austerlitz (1876–1939), D / A\\n\\nAv \\n Ava von Göttweig (≈1060–1127), A\\n Nicolaus von Avancini (1611–1686), IT\\n Friedrich Christian Benedikt Avé-Lallemant (1809–1892), D\\n Ferdinand Avenarius (1856–1923), D\\n Elise Averdieck (1808–1907), D\\n Ellis Avery (1972–2019), USA\\n Uri Avnery (1923–2018), IL\\n\\nAw \\n Kofi Awoonor (1935–2013), GH\\n\\nAx \\n David Axmann (1947–2015), AT\\n Elisabeth Axmann (1926–2015), RO\\n\\nAy \\n Francisco Ayala (1906–2009), ES\\n May Ayim (1960–1996), D\\n Marcel Aymé (1902–1967), FR\\n Cornelius Hermann von Ayrenhoff (1733–1819), AT\\n Jakob Ayrer (1544–1605), D\\n Thomas Ays (* 1977), D\\n\\nA\\nA',\n",
       "  1),\n",
       " ('\\n\\nHa\\n\\nHaa–Han \\nHa Song-ran (1967)\\nAlban Haas (1877–1968)\\nRudolf Haas (1877–1943)\\nWolf Haas (1960)\\nHella Haasse (1918–2011)\\nPaavo Haavikko (1931–2008)\\nHans Habe (1911–1977)\\nMartin Haberer\\nJürgen Habermas (1929)\\nEmil Habibi (1922–1996)\\nMarilyn Hacker (* 1942)\\nErich Hackl (1954)\\nFriedrich Wilhelm Hackländer (1816–1877)\\nPeter Hacks (1928–2003)\\nMaja Haderlap (1961)\\nPierre Hadot (1922–2010)\\nErwin J. Haeberle (1936–2021)\\nGabriele Haefs (1953)\\nGisbert Haefs (1950)\\nHanswilhelm Haefs (1935–2015)\\nStefan Haenni (1958)\\nFarid Hafez (1981)\\nFriedrich von Hagedorn (1708–1754)\\nRudolf Hagelstange (1912–1984)\\nAugust Hagen (1797–1880)\\nHans Oliva-Hagen (1922–1992)\\nHenry Rider Haggard (1856–1925)\\nMichael Hagner (1960)\\nUlla Hahn (1946)\\nGino Hahnemann (1946–2006)\\nArthur Hailey (1920–2004)\\nMax Halbe (1865–1944)\\nHubertus Halbfas (1932–2022)\\nGeorges Haldas (1917–2010)\\nUlrich Christian Haldi (1944–2003)\\nAlex Haley (1922–1992)\\nTomáš Halík (1948)\\nAnna Maria Hall (1800–1881)\\nGranville Stanley Hall (1844–1924)\\nLee Hall (1966)\\nManly Palmer Hall (1901–1990)\\nSamuel Carter Hall (1800–1889)\\nStuart Hall (1932–2014)\\nAlbrecht von Haller (1708–1777)\\nFriedrich Halm (1806–1871)\\nDavid M. Halperin (1952)\\nA. H. Halsey (1923–2014)\\nJohann Georg Hamann (1730–1788)\\nJean Hamburger (1909–1992)\\nPeter Hamecher (1879–1938)\\nRobert Hamerling (1830–1889)\\nFrederick Spencer Hamilton (1856–1928)\\nHugo Hamilton (1953)\\nPeter F. Hamilton (1960)\\nHeinz Hamm (1944)\\nPeter Hamm (1937–2019)\\nManfred Hammes (1950)\\nDashiell Hammett (1894–1961)\\nChristopher Hampton (1946)\\nKnut Hamsun (1859–1952)\\nHan Kang (1970)\\nHan Sŏr-ya (1900–1976)\\nHan Suyin (1917–2012)\\nHan Yong-un (1879–1944)\\nEnrica von Handel-Mazzetti (1871–1955)\\nPeter Handke (1942)\\nErnst-Wilhelm Händler (1953)\\nCharles Handy (1932)\\nThích Nhất Hạnh (1926–2022)\\nKristin Hannah (1960)\\nDörte Hansen (1964)\\nJoseph Hansen (1923–2004), US\\nHeinrich Hansjakob (1887–1916)\\nArthur Häny (1924–2019)\\n\\nHar–Haz \\nMiklós Haraszti (1945)\\nSabine Harbeke (1965)\\nThea von Harbou (1888–1954)\\nFerdinand Hardekopf (1876–1954)\\nMaximilian Harden (1861–1927)\\nFriedrich von Hardenberg (Novalis) (1772–1801)\\nJames Hardiman (1782–1855)\\nErnst Hardt (1876–1947)\\nThomas Hardy (1840–1928)\\nLudwig Harig (1927–2018)\\nRoswitha Haring (1960)\\nJakob Haringer (1893–1948)\\nSabine Hark (1962)\\nRudolf Harms (1901–1984)\\nJacqueline Harpman (1929–2012)\\nHarro Harring (1798–1870)\\nBertha Harris (1937–2005)\\nE. Lynn Harris (1955–2009)\\nRobert Harris (1957)\\nThomas Harris (1940)\\nHarry Harrison (1925–2012)\\nJim Harrison (1937–2016)\\nMax Harrison (19**)\\nZsolt Harsányi (1887–1943)\\nGeorg Philipp Harsdörffer (1607–1658)\\nEllen Hart (* 1949), USA\\nHeinrich Hart (1855–1906)\\nJulius Hart (1859–1930)\\nMarisa Hart (* 1986)\\nMaarten ’t Hart (1944)\\nBret Harte (1836–1902)\\nElisabeth Hartenstein (1900–1994)\\nFelix Hartlaub (1913–1945)\\nOtto Erich Hartleben (1864–1905)\\nPeter Härtling (1933–2017)\\nHartmann von Aue (um 1250)\\nMichael Hartnett (1941–1999)\\nSonya Hartnett (1968)\\nDiana Hartog (1950)\\nHarald Hartung (1932)\\nHugo Hartung (1902–1972)\\nWilhelm Hartung (1919–2003)\\nCornelius Hartz (1973)\\nTheo Harych (1903–1958)\\nSinan Hasani (1922–2010)\\nJaroslav Hašek (1883–1923)\\nWalter Hasenclever (1890–1940)\\nAdam Haslett (* 1970)\\nJosef Haslinger (1955)\\nAmira Hass (1956)\\nYahya Hassan (1995–2020)\\nBenjamin Hasselhorn (1986)\\nGert Haucke (1929–2008)\\nUrsula Haucke (1924–2014)\\nWilhelm Hauff (1802–1827)\\nRolf Haufs (1935–2013)\\nTormod Haugen (1945–2008)\\nTorill Thorstad Hauger (1943–2014)\\nCarl Hauptmann (1858–1921)\\nGaby Hauptmann (1957)\\nGerhart Hauptmann (1862–1946)\\nJan-Christoph Hauschild (1955)\\nMarlen Haushofer (1920–1970)\\nFriederike Hausmann (1945)\\nManfred Hausmann (1898–1986)\\nRaoul Hausmann (1886–1971)\\nHarald Havas (1964)\\nVáclav Havel (1936–2011)\\nAlfred Haverkamp (1937–2021)\\nNathaniel Hawthorne (1804–1864)\\nMo Hayder (1962–2021)\\nAndré Haynal (1930–2019)\\nAttila Hazai (1967–2012)\\nWilliam Hazlitt (1778–1830)\\n\\nHe \\nRichard Head (~1637–1686)\\nDan Healey (* 1957)\\nTrebor Healey (* 1962)\\nDermot Healy (1947–2014)\\nSeamus Heaney (1939–2013)\\nHenry F. Heard (1889–1971)\\nFriedrich Hebbel (1813–1863)\\nJohann Peter Hebel (1760–1826)\\nJutta Hecker (1904–2002)\\nYael Hedaya (1964)\\nWalter Hedemann (1932–2019)\\nMarkus Hediger (1959)\\nJakob Christoph Heer (1859–1925)\\nMartha Heesen (1948)\\nDetlev van Heest (1956)\\nUlrich Hefner (1961)\\nPaul Heidelbach (1870–1954)\\nVerner von Heidenstam (1859–1940)\\nUlrike Heider (* 1947)\\nKonrad Heidkamp (1947–2009)\\nHerman Heijermans (1864–1924)\\nCarolyn Heilbrun (1926–2003)\\nScott Heim (* 1966), US\\nBernd Heimberger (1942–2013)\\nChristoph Hein (1944)\\nManfred Peter Hein (1931)\\nSybille Hein (1970)\\nErnst Wilhelm Heine (1940–2023)\\nHeinrich Heine (1797–1856)\\nHelme Heine (1941)\\nRobert A. Heinlein (1907–1988)\\nHeinrich von Veldeke (12. Jh.)\\nHelmut T. Heinrich (1933–2017)\\nJutta Heinrich (1940–2021)\\nKlaus Heinrich (1927–2020)\\nWilli Heinrich (1920–2005)\\nGunnar Heinsohn (1943–2023)\\nRudolf Heinz (1937)\\nHans-Jürgen Heise (1930–2013)\\nHenry von Heiseler (1875–1928)\\nHelmut Heißenbüttel (1921–1996)\\nWilhelm Heitmeyer (1945)\\nArash Hejazi (1971)\\nFranz Held (1862–1908)\\nWolfgang Held (1930–2014)\\nJoachim Helfer (1964)\\nMonika Helfer (1947)\\nÁgnes Heller (1929–2019)\\nEva Heller (1948–2008)\\nGisela Heller (1929)\\nJane Heller (1950)\\nJoseph Heller (1923–1999)\\nBert Hellinger (1925–2019)\\nKlaus Hellmer\\nHans G Helms (1932–2012)\\nWerner Helwig (1905–1985)\\nErnest Hemingway (1899–1961)\\nEssex Hemphill (1957–1995)\\nKarl Henckell (1864–1929)\\nHans Otto Henel (1888–19?)\\nFriedhelm Hengsbach (1937)\\nMartin Henkel (1943–2021)\\nHerbert Hennies (1900–1979)\\nAlexa Hennig von Lange (1974)\\nO. Henry (1862–1910)\\nGregor Hens (1965), D\\nEckhard Henscheid (1941)\\nJana Hensel (1976)\\nLuise Hensel (1798–1876)\\nPhilip Hensher (* 1965)\\nRudolf Henz (1897–1987)\\nManfred Hepperle (1931–2012)\\nFrank Herbert (1920–1986)\\nGeorge Herbert (1593–1633)\\nJames Herbert (1943–2013), GB\\nZbigniew Herbert (1924–1998)\\nGünter Herburger (1932–2018), D\\nAlice Herdan-Zuckmayer (1901–1991)\\nJohann Gottfried Herder (1744–1803), D\\nErnst Herhaus (1932–2010), D\\nElisabeth Hering (1909–1999)\\nHeinrich Herm (1882–1948)\\nEva Herman (1958)\\nJudith Lewis Herman (1942), US\\nGeorg Hermann (1871–1943), D\\nJudith Hermann (1970), D\\nKai Hermann (1938), D\\nCarl-Henrik Hermansson (1917–2016), SE\\nKarl Heinrich Hermes (1800–1856)\\nStephan Hermlin (1915–1997), D\\nUwe Herms (1937–2023), D\\nJosé Hernández (1834–1886), Arg.\\nMichael Herr (1940–2016), US\\nSantiago Herraiz (1963), ES\\nRobert Herrick (1591–1674)\\nHans Herrig (1845–1892)\\nHorst Herrmann (1940–2017), D\\nWolfgang Herrndorf (1965–2013), D\\nHans-Georg van Herste (1959)\\nPeter Hertel (1937), D\\nKurt Herterich (1928–2015), D\\nHenrik Hertz (1798–1870), DK\\nWilhelm Hertz (1835–1902)\\nKlaus-Peter Hertzsch (1930–2015), D\\nGeorg Herwegh (1817–1875), D\\nAlexander Herzen (1812–1870)\\nManfred Herzer (* 1949), D\\nHeinz Stefan Herzka (1935–2021), CH\\nFritz von Herzmanovsky-Orlando (1877–1954)\\nAxel Herzog (1944–2010)\\nGabriele Herzog (1948)\\nRudolf Herzog (1869–1943)\\nHenning Heske (1960)\\nEva Hesse (1925–2020), D\\nHermann Hesse (1877–1962)\\nFranz Hessel (1880–1941)\\nStéphane Hessel (1917–2013)\\nThomas Hettche (1964)\\nPeter Hetzel (1960–2014)\\nSigrid Heuck (1932–2014)\\nAndrea Heuser (1972), D\\nWilhelm Hey (1789–1854)\\nGeorgette Heyer (1902–1974)\\nGeorg Heym (1887–1912)\\nStefan Heym (1913–2001)\\nChristopher Heyn (* 19**)\\nPaul Heyse (1830–1914)\\n\\nHi \\nGeorge V. Higgins (1939–1999), US\\nJack Higgins (1929–2022), GB\\nMichael D. Higgins (* 1941), IRL\\nPatricia Highsmith (1921–1995), US\\nOscar Hijuelos (1951–2013), US\\nRaul Hilberg (1926–2007), US\\nWolfgang Hilbig (1941–2007), D\\nAlexandra Hildebrandt (* 1970), D\\nDieter Hildebrandt (1927–2013), D\\nDieter Hildebrandt (Autor) (* 1932), D\\nOtto Hildebrandt (1924–2015), D\\nWolfgang Hildesheimer (1916–1991), D\\nReginald Hill (1936–2012), GB\\nPeter Hille (1854–1904), D\\nKurt Hiller (1885–1972), D\\nJames Hillman (1926–2011), US\\nHermann Hiltbrunner (1893–1961), CH\\nJames Hilton (1900–1954), GB\\nChester Himes (1909–1984), US\\nSaeko Himuro (1957–2008), JPN\\nWalter Hinck (1922–2015), D\\nWalter Hinderer (* 1934), D\\nFederico Hindermann (1921–2012), CH\\nAugust Hinrichs (1879–1956), D\\nGeorg Hinrichs (1847–1920)\\nUlrich Hinse (* 1947), D\\nErnst Hinterberger (1931–2012), AT\\nAndrea Hirata (20. Jahrh.), ID\\nHelmut Hirsch (1907–2009), D\\nGeorg Hirschfeld (1873–1942), D\\nMagnus Hirschfeld (1868–1935), D\\nAlbert O. Hirschman (1915–2012), US\\nChristopher Hitchens (1949–2011), GB/US\\nShere Hite (1942–2020), US/D\\n\\nHl \\nMarek Hlasko (1934–1969)\\n\\nHo \\nRussell Hoban (1925–2011), US/GB\\nRobin Hobb (1952), US\\nEric Hobsbawm (1917–2012), GB\\nGerhard Hoch (1923–2015), D\\nPaulus Hochgatterer (1961), AT\\nRolf Hochhuth (1931–2020), D\\nAdam Hochschild (1942), US\\nArlie Russell Hochschild (* 1940), US\\nFritz Hochwälder (1911–1986)\\nGuy Hocquenghem (1946–1988), FR\\nJohann Friedrich Hodann (1674–1745)\\nMax Hodann (1894–1946), D\\nJakob van Hoddis (1887–1942), D\\nAndré Hodeir (1921–2011), FR\\nFrances Eliza Hodgson Burnett (1849–1924)\\nLeonie Hodkevitch (1966), A\\nPeter Høeg (1957), DK\\nDirk Hoeges (1943–2020), D\\nHerbert von Hoerner (1884–1950)\\nNorbert Hoerster (1937), D\\nFriedl Hofbauer (1924–2014), AT\\nGerald Höfer (1960), D\\nWalther Hofer (1920–2013), CH\\nEric Hoffer (1902–1983), US\\nJilliane Hoffman (1967), US\\nCamill Hoffmann (1878–1944)\\nE. T. A. Hoffmann (1776–1822), D\\nHeinrich Hoffmann (1809–1894), D\\nHilmar Hoffmann (1925–2018), D\\nPeter Hoffmann (* 1956), D\\nStanley Hoffmann (1928–2015), US\\nAugust Heinrich Hoffmann von Fallersleben (1798–1874), D\\nHeinrich Hoffmann (Sagensammler) (1848–1918)\\nHenk Hofland (1927–2016), NL\\nPolly Maria Höfler (1907–1952)\\nAlbert Hofmann (1906–2008), CH\\nGert Hofmann (1931–1993), D\\nPeter Ralf Hofmann (* 1965), D\\nHugo von Hofmannsthal (1874–1929)\\nChristian Hofmann von Hofmannswaldau (1616–1679), D\\nDesmond Hogan (1950), IRL\\nJames P. Hogan (1941–2010), GB\\nHelmut Höge (1947), D\\nJames Hogg (1770–1835), GB\\nRichard Hoggart (1918–2014), GB\\nRaimund Hoghe (1949–2021), D\\nGerrit Hohendorf (1963–2021), D\\nLudwig Hohl (1904–1980), D\\nRobert Hohlbaum (1886–1955), D\\nWolfgang Hohlbein (1953), D\\nThomas Höhle (1926–2012), D\\nFranz Hohler (1943), CH\\nPentti Holappa (1927–2017), FI\\nFriedrich Hölderlin (1770–1843), D\\nAlma Holgersen (1896–1976)\\nFelix Hollaender (1867–1931), D\\nJohn Hollander (1929–2013), US\\nWalter Höllerer (1922–2003), D\\nAndrew Holleran (* 1944), US\\nAlan Hollinghurst (* 1954), GB\\nAndrej Holm (* 1970), D\\nÅke Holmberg (1907–1991), SE\\nJames Holmes (1924–1986), NL\\nMichael Holroyd (1935), GB\\nVictoria Holt (1906–1993), GB\\nHans Egon Holthusen (1913–1997), D\\nLudwig Heinrich Christoph Hölty (1748–1776), D\\nArno Holz (1863–1929), D\\nHans Heinz Holz (1927–2011), D\\nKlaus Holzkamp (1927–1995), D\\nHomer, griech. Antike\\nHong Sung-won (1937–2008), ROK\\nBarbara Honigmann (1949), D\\nbell hooks (1952–2021), US\\nAnthony Hope (1863–1933), GB\\nHans von Hopfen (1835–1904)\\nDietrich von Hopfgarten (15. Jh.), D\\nGerard Manley Hopkins (1844–1889)\\nFelicitas Hoppe (1960), D\\nKlaus Horn (1934–1985), D\\nUffo Daniel Horn (1817–1860)\\nNick Hornby (1957), GB\\nKaren Horney (1885–1952), US\\nErnest William Hornung (1866–1921), GB\\nEberhard Horst (1924–2012), D\\nHans-Ulrich Horster (1900–1993), D\\nUlrich Horstmann (1949), D\\nÖdön von Horváth (1901–1938), AT/HU\\nRolf Hosfeld (1948), D\\nJens Christian Hostrup (1818–1892), DK\\nKari Hotakainen (1957), FI\\nArnold Hottinger (1926–2019), CH\\nMichel Houellebecq (1958), FR\\nGeoffrey Household (1900–1988), GB\\nA. E. Housman (1859–1936), GB\\nElizabeth Jane Howard (1923–2014), GB\\nRichard Howard (1929–2022), USA\\nFred Hoyle (1915–2001), GB\\n\\nHr \\nBohumil Hrabal (1914–1997)\\n\\nHu \\nHans Hubberten (1929–1988)\\nChristine Huber (1963)\\nFranz Xaver Huber (1755–1809)\\nFranz Xaver Huber (1755–1814)\\nHermann J. Huber (1954–2009)\\nJohann Ludwig Huber (1723–1800)\\nHelene Hübener (1843–1918)\\nHadayatullah Hübsch (1946–2011)\\nFriedrich Huch (1873–1913)\\nRicarda Huch (1864–1947)\\nPeter Huchel (1903–1981)\\nWalter Huder (1921–2002)\\nElse Hueck-Dehio (1897–1976)\\nPaweł Huelle (* 1957)\\nTanya Huff (* 1957)\\nRichard Hughes (1900–1976)\\nHuh Su-kyung (1964–2018)\\nKurt Huhn (1902–1976)\\nRichard Hülsenbeck (1892–1974)\\nThomas Hürlimann (1950)\\nAlfred Huggenberger (1867–1960)\\nDeclan Hughes (1963)\\nLangston Hughes (1900–1976)\\nTed Hughes (1930–1998)\\nVictor Hugo (1802–1885)\\nPeer Hultberg (1935–2007)\\nRudolf Jakob Humm (1895–1977)\\nJulius Hundeiker (1784–1854)\\nMonika Hunnius (1858–1934)\\nLeigh Hunt (1784–1859)\\nErin Hunter (Sammelpseudonym)\\nSamuel P. Huntington (1927–2008)\\nZora Neale Hurston (1891–1960)\\nNancy Huston (1953)\\nSiri Hustvedt (1955)\\nMaude Hutchins (1899–1991)\\nUlrich von Hutten (1488–1523)\\nHannes Hüttner (1932–2014)\\nAldous Huxley (1894–1963)\\nJoris-Karl Huysmans (1848–1907)\\n\\nHv \\nMichal Hvorecký (1976)\\n\\nHw \\nHwang Ji-u (1952), KOR\\nHwang Sok-yong (1943), KOR\\nHwang Tong-gyu (* 1938), KOR\\n\\nHy \\nJoe Hyams (1923–2008)\\nDouglas Hyde (1860–1949)\\nAntti Hyry (1931–2016)\\nHyun Ki-young (* 1941)\\n\\nH\\nH',\n",
       "  1),\n",
       " ('\\n\\nCa\\n\\nCab–Cap \\n Fernán Caballero (1796–1877), ES\\n George Washington Cable (1844–1925), US\\n Guillermo Cabrera Infante (1929–2005), CU\\n Pino Cacucci (* 1955), IT\\n Caedmon (7. Jh.), GB\\n James M. Cain (1882–1977), US\\n Rachel Caine (1962–2020), US\\n Alice Calaprice (* 1941), US\\n Moyra Caldecott (1927–2015), ZA\\n Nigel Calder (1931–2014), GB\\n Pedro Calderón de la Barca (1600–1681), ES\\n Erskine Caldwell (1903–1987), US\\n Taylor Caldwell (1900–1985), US\\n Noël Calef (1907–1968), FR\\n Andrew Calimach (* 1953), USA/RUM\\n Nuran David Calis (* 1976), D\\n Franz Callenbach (1663–1743), D\\n Robert Calvert (1945–1988), GB\\n Italo Calvino (1923–1985), IT\\n Jorge Camacho (* 1966), ES\\n Josef Maria Camenzind (1904–1984), CH\\n Richard Owen Cambridge (1717–1802), GB\\n Andrea Camilleri (1925–2019), IT\\n Luís de Camões (1524–1580), PT\\n Paul-Henri Campbell (* 1982), USA/D\\n Thomas Campbell (1774–1844), GB\\n Joachim Heinrich Campe (1746–1818), D\\n Thomas Campion (1567–1620), GB\\n Maximiano Campos (1941–1998), BR\\n Albert Camus (1913–1960), FR\\n Matilde Camus (1919–2012), ES\\n Safiye Can (* 1977), D\\n Trudi Canavan (* 1969), AUS\\n Elias Canetti (1905–1994)\\n Veza Canetti (1897–1963), AT\\n Hans Caninenberg (1913–2008), D\\n May Wedderburn Cannan (1893–1973), GB\\n Friedrich Rudolf Ludwig von Canitz (1654–1699), D\\n Ivan Cankar (1876–1918), SLO\\n Cao Cao (155–220), CN\\n Truman Capote (1924–1984), US\\n Alex Capus (* 1961), D\\n\\nCar–Caz \\n Emilio Carballido (1925–2008), MEX\\n Lorenzo Carcaterra (* 1954), US\\n Tom Cardamone (* 1969), US\\n Lara Cardella (* 1969), IT\\n Ernesto Cardenal (1925–2020), NIC\\n Marie Cardinal (1928/29–2001), FR\\n Giosuè Carducci (1835–1907), IT\\n Viktor Car-Emin (1870–1963), HR\\n Diane Carey (* 1954), US\\n Henry Carey (1687–1743), GB\\n Peter Carey (* 1943), AUS\\n Siegfried Carl (* 1951), D\\n William Carleton (1794–1869), IRL\\n Gianrico Carofiglio (* 1961), IT\\n Maxence Caron (* 1976), FR\\n Hans Carossa (1878–1956), D\\n Edward Carpenter (1844–1929), GB\\n Richard Carpenter (1929–2012), GB\\n Alejo Carpentier (1904–1980), CU\\n Allen Carr (1934–2006), GB\\n Caleb Carr (* 1955), US\\n John Dickson Carr (1906–1977), US\\n Marina Carr (* 1964), IRL\\n Mary Jane Carr (1895–1988), US\\n Raymond Carr (1919–2015), GB\\n John le Carré (1931–2020), GB\\n Emmanuel Carrère (* 1957), FR\\n Jean Carrière (1928–2005), FR\\n Mathieu Carrière (* 1950), D\\n Moritz Carrière (1817–1895), D\\n Leonora Carrington (1917–2011), MX\\n Jim Carroll (1949–2009), US\\n Jonathan Carroll (* 1949), US\\n Lewis Carroll (1832–1898), GB\\n Ciaran Carson (1948–2019), IRL/GB\\n Paul Carson (* 1949), GB/IRL\\n Rachel Carson (1907–1964), US\\n Mircea Cărtărescu (* 1956), RO\\n Angela Carter (1940–1992), GB\\n David Carter (1952–2020), US\\n Lin Carter (1930–1988), US\\n Stephen L. Carter (* 1954), US\\n Raymond Carver (1938–1988), US\\n Joyce Cary (1888–1957), IRL/GB\\n Giovanni Giacomo Casanova (1725–1798), IT\\n Francisco Casavella (1963–2008), ES\\n Jon Cassar (* 1958), CAN\\n Carlos Castaneda (1925–1998), US\\n Horacio Castellanos Moya (* 1957), SLV\\n Ana Castillo (* 1953), USA\\n Michel del Castillo (* 1933), ES/FR\\n Claire Castillon (* 1975), FR\\n Elisabeth Castonier (1894–1975), D\\n Rainer Castor (1961–2015), D\\n Carlos Castro (1945–2011), PT\\n Rosalía de Castro (1837–1885), ES\\n Willa Cather (1873–1947), US\\n Catull, römischer Dichter\\n Charles Causley (1917–2003), GB\\n Gion Mathias Cavelty (* 1974), CH\\n Jean Cayrol (1911–2005), FR\\n Andrew Cayton (1954–2015), US\\n Louis Cazamian (1877–1965), FR\\n\\nCe \\n Camilo José Cela (1916–2002), ES\\n Paul Celan (1920–1970)\\n Gianni Celati (1937–2022), IT\\n Louis-Ferdinand Céline (1894–1961), FR\\n Blaise Cendrars (1887–1961), CH\\n C. W. Ceram (1915–1972), D\\n Vincenzo Cerami (1940–2013), IT\\n Claretta Cerio (* 1926), D\\n Luis Cernuda (1902–1963), SP\\n Miguel de Cervantes Saavedra (1547–1616), ES\\n Karl Cervik (1931–2012), AT / D\\n Aimé Césaire (1913–2008), FR / Martinique\\n David Cesarani (1956–2015), GB\\n\\nCh \\n Rosa Chacel (1898–1994), ES\\n Elizabeth Chadwick (* 1957), GB\\n Owen Chadwick (1916–2015), GB\\n Ch’ae Man-sik (1902–1950), ROK\\n Aidan Chambers (* 1934), GB\\n Nicolas Chamfort (1741–1794), FR\\n Frederick Chamier (1796–1870), GB\\n Adelbert von Chamisso (1781–1838), D\\n Karen Chance (* 19**), US\\n Raymond Thornton Chandler (1888–1959), US\\n Jean Chapelain (1595–1674), FR\\n George Chapman (1559 [?]–1634), GB\\n Desmond Chapman-Huston (1884–1952), IRL\\n Maurice Chappaz (1916–2009), CH\\n Michele Chinzi (* 1993), D\\n René Char (1907–1988), FR\\n Louis Henry Charbonneau (1924–2017), US\\n Émile Chartier (Alain; 1868–1951), FR\\n Thomas Chatterton (1752–1770), GB\\n Bruce Chatwin (1940–1989), GB\\n Geoffrey Chaucer (1340–1400), GB\\n Nirad C. Chaudhuri (1897–1999)\\n George Chauncey (* 1954)  US\\n John Cheever (1912–1982), US\\n Cheiro (1866–1936), IRL\\n Cheon Woon-young (* 1971), ROK\\n Gert Chesi (* 1940), AT\\n Phyllis Chesler (* 1940), US\\n Jacques Chessex (1934–2009), CH\\n Gilbert Keith Chesterton (1874–1936), GB\\n Elizabeth Chevalier\\n Gabriel Chevallier (1895–1969), FR\\n Robert Erskine Childers (1870–1922), IRL\\n Mark Childress (1957), USA\\n Rafael Chirbes (1949–2015), ES\\n Hans Chlumberg (1897–1930), D\\n Pierre-Ambroise-François Choderlos de Laclos (1741–1803), FR\\n Ch’oe Yun (* 1953), ROK\\n Choi In-hun (1936–2018), ROK\\n Choi In-seok (* 1953), ROK\\n Choi Seung-ho (* 1954), ROK\\n Noam Chomsky (* 1928), US\\n Chong Hyon-jong (* 1939), ROK\\n David Chotjewitz (* 1964), D\\n Peter O. Chotjewitz (1934–2010), D\\n Mohamed Choukri (1935–2003), MAR\\n Driss Chraïbi (1926–2007), MAR\\n Chrétien de Troyes (~1140-~1190), FR\\n Ada Christen (1839–1901), AT\\n Inger Christensen (1935–2009), DK\\n Mathias Christiansen (* 1968), D\\n Agatha Christie (1890–1976), GB\\n Nils Christie (1928–2015), NO\\n John Christopher (1922–2012), GB\\n Ralph Chubb (1892–1960), GB\\n Winston Churchill (1874–1965), GB\\n Stefan Chwin (* 1949), PL\\n\\nCi \\n Florian Cieslik (* 1975), D\\n Emil Cioran (1911–1995), RO/FR\\n Giulio Cisco (1920–1999), IT\\n\\nCl  \\n Tom Clancy (1947–2013), US\\n John Clare (1793–1864), GB\\n Christopher Clark (* 1960), AU\\n Mary Higgins Clark (1927–2020), US\\n Arthur C. Clarke (1917–2008), GB\\n Paul Claudel (1868–1955), FR\\n Philippe Claudel (* 1962), FR\\n Claudian (Claudius Claudianus) (~370–405)\\n Hermann Claudius (1878–1980), D\\n Matthias Claudius (1740–1815), D\\n Hugo Claus (1929–2008), BE\\n Connie Clausen (1923–1997), US\\n Bernard Clavel (1923–2010), FR\\n James Clavell (1921–1994), GB / US\\n Paul Cleave (* 1974), NZ\\n Eldridge Cleaver (1935–1998), US\\n John Cleland (1709–1789), GB\\n Monika Clemens (* 1954), D\\n Willem de Clercq (1795–1844), NL\\n Kitty Clive (1711–1785), GB\\n Stuart Cloete (1897–1976), ZA\\n Arthur Hugh Clough (1819–1861), GB\\n\\nCo\\n\\nCob–Con \\n James Cobb, US\\n Harlan Coben (* 1962), US\\n Jean Cocteau (1889–1963), FR\\n Paulo Coelho (* 1947), BR\\n J. M. Coetzee (* 1940), ZA\\n Leonard Cohen (1934–2016), CAN\\n Matt Cohen (1942–1999), CAN\\n Stephen Colbert (* 1964), US\\n George Douglas Howard Cole (1889–1959), GB\\n Margaret Cole (1893–1980), GB\\n Samuel Taylor Coleridge (1772–1834), GB\\n Egmont Colerus von Geldern (1888–1939), AT\\n Sidonie-Gabrielle Colette (1873–1954), FR\\n Eoin Colfer (* 1965), IRL\\n Billy Collins (* 1941), US\\n Jackie Collins (1937–2015), GB / US\\n Max Allan Collins (* 1948), US\\n Suzanne Collins (* 1962), US\\n Wilkie Collins (1824–1889), GB\\n William Collins (1721–1759), GB\\n Carlo Collodi (1826–1890), IT\\n John Robert Colombo (* 1936), CAN\\n Vittoria Colonna (1490–1547), IT\\n Padraic Colum (1881–1972), IRL\\n Leo Colze (1870–1914), D\\n Johann Amos Comenius (1592–1670)\\n Alex Comfort (1920–2000), GB\\n Michael Connelly (* 1956), US\\n John Connolly (* 1968), IRL\\n John Connor (* 1946), GB\\n Robert Conquest (1917–2015), GB\\n Jo Conrad (* 1958), D\\n Johannes Conrad (1929–2005), D\\n Joseph Conrad (1857–1924), PL / GB\\n Michael Georg Conrad (1846–1927), D\\n Walter Conrad (1922–2006), D\\n Hermann Conradi (1862–1890), D\\n Karl Otto Conrady (1926–2020), D\\n Shirley Conran (* 1932), GB\\n Vincenzo Consolo (1933–2012), IT\\n Karl Wilhelm Contessa (1777–1825), D\\n Philip E. Converse (1928–2014), US\\n Gerry Conway (* 1952), US\\n\\nCoo–Cow \\n Blanche Wiesen Cook (* 1941), US\\n Bruce Alexander Cook (1932–2003), US\\n Glen Cook (* 1944), US\\n Matt Cook (GB)\\n Nick Cook (* 1960), GB\\n Richard Cook (1957–2007), GB\\n Robin Cook (* 1940), US\\n Katharine Coman (1857–1915), US\\n Dennis Cooper (* 1953), US\\n James Fenimore Cooper (1789–1851), US\\n Susan Cooper (* 1935), GB / US\\n Robert Coover (* 1932), US\\n Wendy Cope (* 1945), GB\\n Tristan Corbière (1845–1875), FR\\n Wolfgang Cordan (1909–1966), D\\n Daniel Cordier (1920–2020), FR\\n Michael Cordy (* 1962), GB\\n Tee Corinne (1943–2006), USA\\n Pierre Corneille (1606–1684), FR\\n Ignác Cornova (1740–1822), IT\\n Claudia Maria Cornwall (* 1948), CAN\\n Bernard Cornwell (* 1944), GB\\n Patricia Cornwell (* 1956), US\\n Gregory Corso (1930–2001), US\\n Julio Cortázar (1914–1984), RA (Argentinien)\\n Jayne Cortez (1936–2012), US\\n Gottlieb Siegmund Corvinus (1677–1747), D\\n Bora Ćosić (* 1932), RS\\n Albert Cossery (1913–2008), EGY/FR\\n Humberto Costantini (1924–1987), RA\\n Júlia da Costa (1844–1911), BR\\n Frank Cottrell Boyce (* 1961), GB\\n Louis Couperus (1863–1923), NL\\n Douglas Coupland (* 1961), CA\\n Gil Courtemanche (1943–2011), CA\\n Hedwig Courths-Mahler (1867–1950), D\\n Mia Couto (* 1955), MOZ\\n Francis Coventry (1725–1754), GB\\n Noël Coward (1899–1973), GB\\n Elise Cowen (1933–1962), US\\n Malcolm Cowley (1898–1989), US\\n William Cowper (1731–1800), GB\\n\\nCr \\n Jim Crace (* 1946), GB\\n Heinz von Cramer (1924–2009), D\\n Tomas Cramer (1967), D\\n Hart Crane (1899–1932), US\\n Stephen Crane (1871–1900), US\\n Quintin Craufurd (1743–1819), GB\\n Isabella Valancy Crawford (1850–1887), CA\\n Sharon Creech (* 1945), US\\n Robert Creeley (1926–2005), USA\\n Victoriano Crémer (190*–2009), ES\\n Jean-Louis Crémieux-Brilhac (1917–2015), FR\\n Helmut Creutz (1923–2017), D\\n Michel Guillaume Jean de Crèvecoeur (1735–1813), US / FR\\n Harry Crews (1935–2012), US\\n Michael Crichton (1942–2008), US\\n Quentin Crisp (1908–1999), GB\\n Ann C. Crispin (1950–2013), US\\n Edmund Crispin (1921–1978), GB\\n Freeman Wills Crofts (1879–1957), IRL\\n Eugen Croissant (1862–1918), D\\n Anna Croissant-Rust (1860–1943), D\\n Joseph Croitoru (* 1960), D\\n Thomas Crofton Croker (1798–1854), IRL\\n Deborah Crombie (* 1952), US\\n Louis Crompton (1925–2009), GB\\n Patricia Crone (1945–2015), DK\\n Anthony Cronin (1928–2016), IRL\\n Archibald Joseph Cronin (1896–1981), GB\\n Wolf-Ulrich Cropp (* 1941), D\\n Charles Cros (1842–1888), FR\\n Donna Woolfolk Cross (* 1947), US\\n Nicolas de Crosta (1900–1972), D\\n Aleister Crowley (1875–1947), GB\\n Mart Crowley (1935–2020), US\\n Lorna Crozier (* 1948), CAN\\n Michel Crozier (1922–2013), FR\\n Sor Juana Inés de la Cruz (1651–1695), MEX\\n\\nCs \\n Franz Theodor Csokor (1885–1969), A\\n\\nCu \\n Countee Cullen (1903–1946), US\\n Necati Cumalı (1921–2001), TR\\n E. E. Cummings (1894–1962), US\\n Michael Cunningham (* 1952), US\\n Jamie Lee Curtis (* 1958), US\\n James Oliver Curwood (1878–1927), US\\n\\nCz \\n Heinz Czechowski (1935–2009), D\\n Daniel Czepko (1605–1660), D\\n Alfons von Czibulka (1888–1969), A\\n Wolfgang Cziesla (1955), D\\n\\nC\\nC',\n",
       "  1),\n",
       " ('\\n\\nI \\n Yi I (1536–1584)\\n\\nIa \\n Iacopone da Todi (1230/36–1306)\\n Karl Iagnemma (1972)\\n Iambulos\\n\\nIb \\n Alfred Ibach (1902–1948)\\n Jorge Ibargüengoitia (1928–1983)\\n Eva Ibbotson (1925–2010)\\n Muhammad ibn Ammar (1031–1086)\\n Ibn Battuta (1304–1368)\\n Abbas Ibn Firnas (-888)\\n Usama Ibn Munqidh (1095–1188)\\n Ahmad ibn Abdallah ibn Zaidun (1003–1071)\\n Henrik Ibsen (1828–1906)\\n Ibuse Masuji (1898–1993)\\n Ibykos (um 530 v. Chr.)\\n\\nIc \\n Jorge Icaza (1906–1978)\\n Iceberg Slim (1918–1992)\\n\\nId \\n Robert Ide (1975)\\n Wilhelm Ide (1887–1963)\\n Wilhelm Idel (1849–1927)\\n Peter Iden (1938)\\n Eric Idle (1943)\\n Yusuf Idris (1927–1991)\\n Annika Idström (1947–2011)\\n Zygmunt Idzikowski (1884–1911)\\n\\nIg \\n Jayne-Ann Igel (1954)\\n Pelle Igel (1905–1981)\\n Conn Iggulden (1971)\\n\\nIh \\n Ihara Saikaku (1642–1693)\\n Kurt Ihlenfeld (1901–1972)\\n\\nIk \\n Daisaku Ikeda (1928)\\n Alexander Ikonnikow (1974)\\n\\nIl \\n Il-yeon (1206–1289)\\n Greg Iles (1960)\\n Ilja Arnoldowitsch Ilf (1897–1937)\\n Paul Ilg (1875–1957)\\n Pedro Reinhold Ilgen (1869–1920)\\n Attila İlhan (1925–2005)\\n Iwan Alexandrowitsch Iljin (1883–1954)\\n Eduard Ille (1823–1900)\\n Luigi Illica (1857–1919)\\n Florian Illies (1971)\\n Heribert Illig (1947)\\n Johann Karl Wilhelm Illiger (1775–1813)\\n Theodor Illion (1898–1984)\\n\\nIm \\n Gerd Imbsweiler (1941–2013)\\n Anatols Imermanis (1914–1998)\\n Al Imfeld (1935–2017)\\n Karl Imfeld (1931–2020)\\n Pierre Imhasly (1939–2017)\\n Kurt Imhof (1956–2015)\\n Immanuel ha-Romi (um 1261 – um 1335)\\n Carl Leberecht Immermann (1796–1840)\\n Christian Immler (* 1964)\\n\\nIn \\n Wera Michailowna Inber (1890–1972)\\n Steve Ince\\n Thomas Harper Ince (1882–1924)\\n Elizabeth Inchbald (1753–1821)\\n Hans-Ulrich Indenmaur\\n Arnaldur Indriðason (1961)\\n Laura Ingalls Wilder (1867–1957)\\n William Inge (1913–1973)\\n Jean Ingelow (1820–1897)\\n Bernhard Severin Ingemann (1789–1862)\\n Marcus Ingendaay (1958)\\n Paul Ingendaay (1961)\\n Karlheinz Ingenkamp (1925–2015)\\n Meinrad Inglin (1893–1971)\\n Felix Philipp Ingold (1942)\\n Viktor Arnar Ingólfsson (1955)\\n Anton Ingolič (1907–1992)\\n J. H. Ingraham (1809–1860)\\n Lotte Ingrisch (1930–2022)\\n Simon Ings (1965)\\n Helge Ingstad (1899–2001)\\n Frid Ingulstad (1935)\\n Dimiter Inkiow (1932–2006)\\n Bill Inmon (1945)\\n Franz Innerhofer (1944–2002)\\n Hammond Innes (1906–1994)\\n Michael Innes (1907–1991)\\n Inoue Hisashi (1934–2010)\\n Nobutaka Inoue (1948)\\n Yasushi Inoue (1907–1991)\\n Bożena Intrator (1964)\\n\\nIo \\n Ion von Chios (480 v. Chr. – 423/22 v. Chr. oder 422/421 v. Chr.)\\n Eugène Ionesco (1912–1994)\\n Dschaba Iosseliani (1926–2003)\\n\\nIp \\n Josef Ippers (1932–1989)\\n Zehra İpşiroğlu (1948)\\n\\nIq \\n Muhammad Iqbal (1877–1938)\\n\\nIr \\n Faruk İremet (1965)\\n Valentin Iremonger (1918–1991)\\n Christoph Irenäus (um 1522–um 1595)\\n Franciscus Irenicus (1494/1495–1553)\\n Margrit Irgang (1948)\\n Lothar Irle (1905–1974)\\n Thilo Irmisch (1816–1879)\\n Ian Irvine (1950)\\n John Irving (1942)\\n Washington Irving (1783–1859)\\n Karol Irzykowski (1873–1944)\\n\\nIs \\n Jorge Isaacs (1837–1895)\\n Isabelle d’Orléans-Bragance (1911–2003)\\n Antonije Isaković (1923–2002)\\n Jógvan Isaksen (1950)\\n Ralf Isau (1956)\\n Richard Isay (1934–2012)\\n Ise (um 875–938)\\n Moses Isegawa (1963)\\n Hermann Iseke (1857–1907)\\n Dorothea Iser (1946)\\n Hamzah al-Isfahani (-961)\\n Ali al Isfahani (897–967)\\n Ayaz İshaki (1878–1954)\\n Christopher Isherwood (1904–1986)\\n Ishigaki Rin (1920–2004)\\n Kazuo Ishiguro (1954)\\n Shintarō Ishihara (1932–2022)\\n Isidor von Sevilla (um 560–636)\\n José Francisco de Isla (1703–1781)\\n Kazi Nazrul Islam (1899–1976)\\n Alan Isler (1934–2010)\\n Ursula Isler (1923–2007)\\n Isokrates (436 v. Chr.-338 v. Chr.)\\n Isidore Isou (1925–2007)\\n Roman Israel (1979)\\n Otmar Issing (1936)\\n Panait Istrati (1884–1935)\\n Dora d’Istria (1828–1882)\\n Isyllos\\n\\nIt \\n Rolf Italiaander (1913–1991)\\n Frances Itani (* 1942)\\n Joseph Albrecht von Ittner (1754–1825)\\n Karl Itzinger (1888–1948)\\n\\nIu \\n Gaius Iulius Caesar Strabo Vopiscus (um 130 v. Chr.-87 v. Chr.)\\n\\nIv \\n Jurga Ivanauskaitė (1961–2007)\\n Vintilă Ivănceanu (1940–2008)\\n Ivan Ivanji (* 1929)\\n Ivar Ivask (1927–1992)\\n Marius Ivaškevičius (* 1973)\\n Rada Iveković (* 1945)\\n Burl Ives (1909–1995)\\n George Cecil Ives (1867–1950)\\n Paul d’Ivoi (1856–1915)\\n\\nIw \\n Konstantin Iwanow (1890–1915)\\n Wsewolod Wjatscheslawowitsch Iwanow (1895–1963)\\n Jarosław Iwaszkiewicz (1894–1980)\\n Michael K. Iwoleit (1962)\\n\\nIy \\n Festus Iyayi (1947–2013)\\n\\nIz \\n Boris Izaguirre (1965)\\n Andreas Izquierdo (1968)\\n Jean-Claude Izzo (1945–2000)\\n\\nI\\nI',\n",
       "  1)]"
      ]
     },
     "execution_count": 10,
     "metadata": {},
     "output_type": "execute_result"
    }
   ],
   "source": [
    "counter= Counter(petite)\n",
    "counter.most_common(20)"
   ]
  },
  {
   "cell_type": "code",
   "execution_count": 29,
   "metadata": {},
   "outputs": [],
   "source": [
    "import pandas as pd\n",
    "data= pd.read_csv(r\"C:\\Users\\dgrigoriou\\Downloads\\clean_de_wiki.csv\", encoding=\"utf-8\")"
   ]
  },
  {
   "cell_type": "code",
   "execution_count": 31,
   "metadata": {},
   "outputs": [
    {
     "data": {
      "text/html": [
       "<div>\n",
       "<style scoped>\n",
       "    .dataframe tbody tr th:only-of-type {\n",
       "        vertical-align: middle;\n",
       "    }\n",
       "\n",
       "    .dataframe tbody tr th {\n",
       "        vertical-align: top;\n",
       "    }\n",
       "\n",
       "    .dataframe thead th {\n",
       "        text-align: right;\n",
       "    }\n",
       "</style>\n",
       "<table border=\"1\" class=\"dataframe\">\n",
       "  <thead>\n",
       "    <tr style=\"text-align: right;\">\n",
       "      <th></th>\n",
       "      <th>\\ttext</th>\n",
       "    </tr>\n",
       "  </thead>\n",
       "  <tbody>\n",
       "    <tr>\n",
       "      <th>18745</th>\n",
       "      <td>18745\\tHimnusz Langform Himnusz a Magyar nép z...</td>\n",
       "    </tr>\n",
       "    <tr>\n",
       "      <th>247263</th>\n",
       "      <td>247263\\tDer Gila River ist ein Fluss im Südwes...</td>\n",
       "    </tr>\n",
       "    <tr>\n",
       "      <th>207066</th>\n",
       "      <td>207066\\tDer Thompson River ist ein bedeutender...</td>\n",
       "    </tr>\n",
       "    <tr>\n",
       "      <th>237770</th>\n",
       "      <td>237770\\tTabuaço ist eine Kleinstadt Vila und e...</td>\n",
       "    </tr>\n",
       "    <tr>\n",
       "      <th>243565</th>\n",
       "      <td>243565\\tEine Erdsphäre bezeichnet ein Phänomen...</td>\n",
       "    </tr>\n",
       "    <tr>\n",
       "      <th>36368</th>\n",
       "      <td>36368\\tSchloss Friedrichshof ist eine ehemalig...</td>\n",
       "    </tr>\n",
       "    <tr>\n",
       "      <th>143256</th>\n",
       "      <td>143256\\tTheodoricus ist der oder ein Name von ...</td>\n",
       "    </tr>\n",
       "  </tbody>\n",
       "</table>\n",
       "</div>"
      ],
      "text/plain": [
       "                                                   \\ttext\n",
       "18745   18745\\tHimnusz Langform Himnusz a Magyar nép z...\n",
       "247263  247263\\tDer Gila River ist ein Fluss im Südwes...\n",
       "207066  207066\\tDer Thompson River ist ein bedeutender...\n",
       "237770  237770\\tTabuaço ist eine Kleinstadt Vila und e...\n",
       "243565  243565\\tEine Erdsphäre bezeichnet ein Phänomen...\n",
       "36368   36368\\tSchloss Friedrichshof ist eine ehemalig...\n",
       "143256  143256\\tTheodoricus ist der oder ein Name von ..."
      ]
     },
     "execution_count": 31,
     "metadata": {},
     "output_type": "execute_result"
    }
   ],
   "source": [
    "data.sample(7)"
   ]
  },
  {
   "cell_type": "code",
   "execution_count": 33,
   "metadata": {},
   "outputs": [],
   "source": [
    "data.rename(columns = {'\\ttext':'text'}, inplace = True) #we reame the the header of the column"
   ]
  },
  {
   "cell_type": "code",
   "execution_count": 41,
   "metadata": {},
   "outputs": [],
   "source": [
    "data= data.replace(\"\\d+\", \" \", regex=True)"
   ]
  },
  {
   "cell_type": "code",
   "execution_count": 42,
   "metadata": {},
   "outputs": [],
   "source": [
    "data= data.replace(\"\\t\", \" \", regex=True)"
   ]
  },
  {
   "cell_type": "code",
   "execution_count": 43,
   "metadata": {},
   "outputs": [
    {
     "data": {
      "text/html": [
       "<div>\n",
       "<style scoped>\n",
       "    .dataframe tbody tr th:only-of-type {\n",
       "        vertical-align: middle;\n",
       "    }\n",
       "\n",
       "    .dataframe tbody tr th {\n",
       "        vertical-align: top;\n",
       "    }\n",
       "\n",
       "    .dataframe thead th {\n",
       "        text-align: right;\n",
       "    }\n",
       "</style>\n",
       "<table border=\"1\" class=\"dataframe\">\n",
       "  <thead>\n",
       "    <tr style=\"text-align: right;\">\n",
       "      <th></th>\n",
       "      <th>text</th>\n",
       "    </tr>\n",
       "  </thead>\n",
       "  <tbody>\n",
       "    <tr>\n",
       "      <th>154190</th>\n",
       "      <td>Alioramus „anderer Zweig“ aus lat alius „and...</td>\n",
       "    </tr>\n",
       "    <tr>\n",
       "      <th>94313</th>\n",
       "      <td>Der Eselsritt war eine Ehrenstrafe die seit ...</td>\n",
       "    </tr>\n",
       "    <tr>\n",
       "      <th>337360</th>\n",
       "      <td>Dies ist eine unvollständige Liste thailändi...</td>\n",
       "    </tr>\n",
       "    <tr>\n",
       "      <th>271842</th>\n",
       "      <td>Niederburgund ist die Bezeichnung für ein au...</td>\n",
       "    </tr>\n",
       "    <tr>\n",
       "      <th>55503</th>\n",
       "      <td>Prilep indefinit Përlep definit Përlepi ist ...</td>\n",
       "    </tr>\n",
       "    <tr>\n",
       "      <th>383203</th>\n",
       "      <td>Järfälla ist eine Gemeinde schwedisch kommun...</td>\n",
       "    </tr>\n",
       "    <tr>\n",
       "      <th>194836</th>\n",
       "      <td>Im Steuertarif wird die Höhe und Berechnung ...</td>\n",
       "    </tr>\n",
       "  </tbody>\n",
       "</table>\n",
       "</div>"
      ],
      "text/plain": [
       "                                                     text\n",
       "154190    Alioramus „anderer Zweig“ aus lat alius „and...\n",
       "94313     Der Eselsritt war eine Ehrenstrafe die seit ...\n",
       "337360    Dies ist eine unvollständige Liste thailändi...\n",
       "271842    Niederburgund ist die Bezeichnung für ein au...\n",
       "55503     Prilep indefinit Përlep definit Përlepi ist ...\n",
       "383203    Järfälla ist eine Gemeinde schwedisch kommun...\n",
       "194836    Im Steuertarif wird die Höhe und Berechnung ..."
      ]
     },
     "execution_count": 43,
     "metadata": {},
     "output_type": "execute_result"
    }
   ],
   "source": [
    "data.sample(7)"
   ]
  },
  {
   "cell_type": "code",
   "execution_count": 44,
   "metadata": {},
   "outputs": [],
   "source": [
    "import gensim\n",
    "model = gensim.models.Word2Vec (data.text.str.split().to_list(), \n",
    "                                vector_size=200, \n",
    "                                window=3,\n",
    "                                min_count=1, \n",
    "                                workers=10)"
   ]
  },
  {
   "cell_type": "code",
   "execution_count": 47,
   "metadata": {},
   "outputs": [],
   "source": [
    "model.save(\"word2vec.model_de\")"
   ]
  },
  {
   "cell_type": "code",
   "execution_count": 85,
   "metadata": {},
   "outputs": [],
   "source": [
    "def word_analogy(w_a, w_b, w_c):\n",
    "    try:\n",
    "        word_analogy= model.wv.most_similar(positive=[w_b, w_c], negative=[w_a], topn=1)\n",
    "        return word_analogy[0][0]\n",
    "    except KeyError:\n",
    "        return \"One or more words not found in the vocabulary.\"\n",
    "    \n"
   ]
  },
  {
   "cell_type": "code",
   "execution_count": 83,
   "metadata": {},
   "outputs": [],
   "source": [
    "        w_a = 'Deutschland'\n",
    "        w_b = 'Berlin'\n",
    "        w_c = 'Österreich'\n",
    "        w_d = word_analogy(w_a, w_b, w_c)"
   ]
  },
  {
   "cell_type": "code",
   "execution_count": 86,
   "metadata": {},
   "outputs": [
    {
     "data": {
      "text/plain": [
       "'Wien'"
      ]
     },
     "execution_count": 86,
     "metadata": {},
     "output_type": "execute_result"
    }
   ],
   "source": [
    "word_analogy(w_a, w_b, w_c) #first succsseful analogy"
   ]
  },
  {
   "cell_type": "code",
   "execution_count": 91,
   "metadata": {},
   "outputs": [],
   "source": [
    "        w_a = 'Frau'\n",
    "        w_b = 'Mann'\n",
    "        w_c = 'Mädchen'\n",
    "        w_d = word_analogy(w_a, w_b, w_c)"
   ]
  },
  {
   "cell_type": "code",
   "execution_count": 92,
   "metadata": {},
   "outputs": [
    {
     "data": {
      "text/plain": [
       "'Männern'"
      ]
     },
     "execution_count": 92,
     "metadata": {},
     "output_type": "execute_result"
    }
   ],
   "source": [
    "word_analogy(w_a, w_b, w_c) #second successful analogy"
   ]
  },
  {
   "cell_type": "code",
   "execution_count": 93,
   "metadata": {},
   "outputs": [],
   "source": [
    "    w_a = 'heute'\n",
    "    w_b = 'morgen'\n",
    "    w_c = 'presens'\n",
    "    w_d = word_analogy(w_a, w_b, w_c)"
   ]
  },
  {
   "cell_type": "code",
   "execution_count": 94,
   "metadata": {},
   "outputs": [
    {
     "data": {
      "text/plain": [
       "'ariviodisi'"
      ]
     },
     "execution_count": 94,
     "metadata": {},
     "output_type": "execute_result"
    }
   ],
   "source": [
    "word_analogy(w_a, w_b, w_c) #it means 'dann' so it's correct"
   ]
  },
  {
   "cell_type": "code",
   "execution_count": 97,
   "metadata": {},
   "outputs": [],
   "source": [
    "    w_a = 'Gefallen'\n",
    "    w_b = 'Liebe'\n",
    "    w_c = 'Abneigung'\n",
    "    w_d = word_analogy(w_a, w_b, w_c)"
   ]
  },
  {
   "cell_type": "code",
   "execution_count": 98,
   "metadata": {},
   "outputs": [
    {
     "data": {
      "text/plain": [
       "'Antipathie'"
      ]
     },
     "execution_count": 98,
     "metadata": {},
     "output_type": "execute_result"
    }
   ],
   "source": [
    "word_analogy(w_a, w_b, w_c) #korrekt~!!!"
   ]
  },
  {
   "cell_type": "code",
   "execution_count": 99,
   "metadata": {},
   "outputs": [],
   "source": [
    "    w_a = 'sprechen'\n",
    "    w_b = 'singen'\n",
    "    w_c = 'gehen'\n",
    "    w_d = word_analogy(w_a, w_b, w_c)"
   ]
  },
  {
   "cell_type": "code",
   "execution_count": 100,
   "metadata": {},
   "outputs": [
    {
     "data": {
      "text/plain": [
       "'tanzen'"
      ]
     },
     "execution_count": 100,
     "metadata": {},
     "output_type": "execute_result"
    }
   ],
   "source": [
    "word_analogy(w_a, w_b, w_c)  #korrekt!!"
   ]
  },
  {
   "cell_type": "code",
   "execution_count": 103,
   "metadata": {},
   "outputs": [],
   "source": [
    "    w_a = 'Koch'\n",
    "    w_b = 'Essen'\n",
    "    w_c = 'Sänger'\n",
    "    w_d = word_analogy(w_a, w_b, w_c)"
   ]
  },
  {
   "cell_type": "code",
   "execution_count": 104,
   "metadata": {},
   "outputs": [
    {
     "data": {
      "text/plain": [
       "'Musiker'"
      ]
     },
     "execution_count": 104,
     "metadata": {},
     "output_type": "execute_result"
    }
   ],
   "source": [
    "word_analogy(w_a, w_b, w_c)  #korrekt!!"
   ]
  },
  {
   "cell_type": "code",
   "execution_count": 111,
   "metadata": {},
   "outputs": [],
   "source": [
    "    w_a = 'Mann'\n",
    "    w_b = 'Arzt'\n",
    "    w_c = 'Frau'\n",
    "    w_d = word_analogy(w_a, w_b, w_c)"
   ]
  },
  {
   "cell_type": "code",
   "execution_count": 112,
   "metadata": {},
   "outputs": [
    {
     "data": {
      "text/plain": [
       "'Ärztin'"
      ]
     },
     "execution_count": 112,
     "metadata": {},
     "output_type": "execute_result"
    }
   ],
   "source": [
    "word_analogy(w_a, w_b, w_c) #korrekt!!"
   ]
  },
  {
   "cell_type": "code",
   "execution_count": 109,
   "metadata": {},
   "outputs": [],
   "source": [
    "    w_a = 'Juni'\n",
    "    w_b = 'Sommer'\n",
    "    w_c = 'Januar'\n",
    "    w_d = word_analogy(w_a, w_b, w_c)"
   ]
  },
  {
   "cell_type": "code",
   "execution_count": 110,
   "metadata": {},
   "outputs": [
    {
     "data": {
      "text/plain": [
       "'Herbst'"
      ]
     },
     "execution_count": 110,
     "metadata": {},
     "output_type": "execute_result"
    }
   ],
   "source": [
    "word_analogy(w_a, w_b, w_c) #so and so"
   ]
  },
  {
   "cell_type": "code",
   "execution_count": 115,
   "metadata": {},
   "outputs": [],
   "source": [
    "    w_a = 'USA'\n",
    "    w_b = 'Dollar'\n",
    "    w_c = 'Europa'\n",
    "    w_d = word_analogy(w_a, w_b, w_c)"
   ]
  },
  {
   "cell_type": "code",
   "execution_count": 116,
   "metadata": {},
   "outputs": [
    {
     "data": {
      "text/plain": [
       "'Euro'"
      ]
     },
     "execution_count": 116,
     "metadata": {},
     "output_type": "execute_result"
    }
   ],
   "source": [
    "word_analogy(w_a, w_b, w_c) #yess"
   ]
  },
  {
   "cell_type": "code",
   "execution_count": 119,
   "metadata": {},
   "outputs": [],
   "source": [
    "    w_a = 'Buchstaben'\n",
    "    w_b = 'Wörter'\n",
    "    w_c = 'Sätze'\n",
    "    w_d = word_analogy(w_a, w_b, w_c)"
   ]
  },
  {
   "cell_type": "code",
   "execution_count": 120,
   "metadata": {},
   "outputs": [
    {
     "data": {
      "text/plain": [
       "'Ausdrücke'"
      ]
     },
     "execution_count": 120,
     "metadata": {},
     "output_type": "execute_result"
    }
   ],
   "source": [
    "word_analogy(w_a, w_b, w_c) #yes!"
   ]
  }
 ],
 "metadata": {
  "kernelspec": {
   "display_name": "auden2",
   "language": "python",
   "name": "python3"
  },
  "language_info": {
   "codemirror_mode": {
    "name": "ipython",
    "version": 3
   },
   "file_extension": ".py",
   "mimetype": "text/x-python",
   "name": "python",
   "nbconvert_exporter": "python",
   "pygments_lexer": "ipython3",
   "version": "3.11.5"
  }
 },
 "nbformat": 4,
 "nbformat_minor": 2
}
